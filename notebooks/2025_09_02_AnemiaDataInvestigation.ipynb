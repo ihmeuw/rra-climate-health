{
 "cells": [
  {
   "cell_type": "code",
   "execution_count": null,
   "metadata": {},
   "outputs": [],
   "source": [
    "import seaborn as sns\n",
    "import plotly.express as px"
   ]
  },
  {
   "cell_type": "code",
   "execution_count": null,
   "metadata": {},
   "outputs": [],
   "source": [
    "LDI_VERSION = 'v5'\n",
    "import multiprocessing as mp\n",
    "from functools import partial\n",
    "from pathlib import Path\n",
    "\n",
    "import re\n",
    "import click\n",
    "import geopandas as gpd\n",
    "import numpy as np\n",
    "import pandas as pd\n",
    "import rioxarray\n",
    "import xarray as xr\n",
    "import matplotlib.pyplot as plt\n",
    "from matplotlib.backends.backend_pdf import PdfPages\n",
    "from scipy.interpolate import PchipInterpolator\n",
    "\n",
    "\n",
    "import rra_climate_health.cli_options as clio\n",
    "from rra_climate_health import paths\n",
    "from rra_climate_health.data_prep import upstream_paths\n",
    "from rra_climate_health.data import (\n",
    "    DEFAULT_ROOT,\n",
    "    ClimateMalnutritionData,\n",
    ")\n",
    "\n",
    "WEALTH_DATA_ROOT = Path(\n",
    "    \"/mnt/team/rapidresponse/pub/population/modeling/climate_malnutrition/input/extractions\"\n",
    ")\n",
    "\n",
    "WEALTH_DATA_PATHS = {\n",
    "    \"LSMS\": WEALTH_DATA_ROOT / \"LSMS_wealth.parquet\",\n",
    "    \"DHS\": WEALTH_DATA_ROOT / \"DHS_wealth.parquet\",\n",
    "    \"MICS\": WEALTH_DATA_ROOT / \"MICS_wealth.parquet\",\n",
    "}\n",
    "\n",
    "SURVEY_DATA_ROOT = Path(\n",
    "    \"/mnt/team/integrated_analytics/pub/goalkeepers/goalkeepers_2024/data\"\n",
    ")\n",
    "\n",
    "SDI_PATH = Path(\"/mnt/share/forecasting/data/7/past/sdi/20240531_gk24/sdi.nc\")\n",
    "#/mnt/team/integrated_analytics/pub/goalkeepers/goalkeepers_2024/data/wasting_stunting/wasting_stunting_combined_2024-10-11.csv\n",
    "SURVEY_DATA_PATHS = {\n",
    "    \"bmi\": {\"gbd\": SURVEY_DATA_ROOT / \"bmi\" / \"bmi_data_outliered_wealth_rex.csv\"},\n",
    "    \"cgf\": {\n",
    "        \"gbd\": SURVEY_DATA_ROOT\n",
    "        / \"wasting_stunting\" / \"wasting_stunting_combined_2024-10-11.csv\",\n",
    "        \"lsae\": \"/mnt/share/limited_use/LIMITED_USE/LU_GEOSPATIAL/geo_matched/cgf/pre_collapse/cgf_lbw_2020_06_15.csv\",\n",
    "    },\n",
    "    \"wealth\":  {\n",
    "        \"LSMS\": WEALTH_DATA_ROOT / \"LSMS_wealth.parquet\",\n",
    "        \"DHS\": WEALTH_DATA_ROOT / \"DHS_wealth.parquet\",\n",
    "        \"MICS\": WEALTH_DATA_ROOT / \"MICS_wealth.parquet\",\n",
    "    },\n",
    "}\n",
    "\n",
    "DATA_SOURCE_TYPE = {\"stunting\": \"cgf\", \"wasting\": \"cgf\", \"underweight\":\"cgf\", \"low_adult_bmi\": \"bmi\"}\n",
    "MEASURES_IN_SOURCE = {\"cgf\": [\"stunting\", \"wasting\", \"underweight\"], \"bmi\": [\"low_adult_bmi\"]}\n",
    "\n",
    "############################\n",
    "# Wasting/Stunting columns #\n",
    "############################\n",
    "\n",
    "def examine_survey_schema(df: pd.DataFrame, columns: list[str]) -> None:\n",
    "    print(\"Records:\", len(df))\n",
    "    print()\n",
    "\n",
    "    template = \"{:<20} {:>10} {:>10} {:>10}\"\n",
    "    header = template.format(\"COLUMN\", \"N_UNIQUE\", \"N_NULL\", \"DTYPE\")\n",
    "\n",
    "    print(header)\n",
    "    print(\"=\" * len(header))\n",
    "    for col in columns:\n",
    "        unique = df[col].nunique()\n",
    "        nulls = df[col].isna().sum()\n",
    "        dtype = str(df[col].dtype)\n",
    "        print(template.format(col, unique, nulls, dtype))\n",
    "\n",
    "\n",
    "COLUMN_NAME_TRANSLATOR = {\n",
    "    \"country\": \"ihme_loc_id\",\n",
    "    \"year_start\": \"year_start\",\n",
    "    \"end_year\": \"year_end\",\n",
    "    \"psu_id\": \"psu\",\n",
    "    \"strata_id\": \"strata\",\n",
    "    \"sex\": \"sex_id\",\n",
    "    \"age_mo\": \"age_month\",\n",
    "    \"stunting_mod_b\": \"stunting\",\n",
    "    \"wasting_mod_b\": \"wasting\",\n",
    "    \"underweight_mod_b\": \"underweight\",\n",
    "    \"HAZ_b2\": \"stunting\",\n",
    "    \"WHZ_b2\": \"wasting\",\n",
    "    \"WAZ_b2\": \"underweight\",\n",
    "    \"latnum\": \"lat\",\n",
    "    \"longnum\": \"long\",\n",
    "    \"latitude\": \"lat\",\n",
    "    \"longitude\": \"long\",\n",
    "}\n",
    "\n",
    "\n",
    "def merge_left_without_inflating(df_left, df_right, **kwargs):\n",
    "    \"\"\"Merge left without inflating the left dataframe.\"\"\"\n",
    "    df = df_left.merge(df_right, how=\"left\", **kwargs)\n",
    "    if len(df) != len(df_left):\n",
    "        msg = \"Mismatch in length of data and merged data.\"\n",
    "        raise RuntimeError(msg)\n",
    "    return df\n",
    "\n",
    "\n",
    "def get_climate_vars_for_year(\n",
    "    year_df: pd.DataFrame,\n",
    "    climate_variables: list[str],\n",
    "    lat_col: str = \"lat\",\n",
    "    long_col: str = \"long\",\n",
    "    year_col: str = \"int_year\",\n",
    ") -> pd.DataFrame:\n",
    "    if year_df[year_col].nunique() != 1:\n",
    "        msg = \"Multiple years in climate data.\"\n",
    "        raise ValueError(msg)\n",
    "\n",
    "    yr = year_df[year_col].iloc[0]\n",
    "\n",
    "    temp_df = year_df.copy()\n",
    "    lats = xr.DataArray(temp_df[lat_col], dims=\"point\")\n",
    "    lons = xr.DataArray(temp_df[long_col], dims=\"point\")\n",
    "    years = xr.DataArray(temp_df[year_col], dims=\"point\")\n",
    "    for climate_variable in climate_variables:\n",
    "        #climate_ds = ClimateMalnutritionData(Path(DEFAULT_ROOT)/'stunting').load_climate_raster(climate_variable, 'ssp245', yr, 0)\n",
    "        # Temporary workaround for climate data loading\n",
    "        climate_ds = xr.open_dataset(f'/mnt/share/erf/climate_downscale/results/annual/raw/historical/{climate_variable}/{yr}_era5.nc')['value']\n",
    "        temp_df[climate_variable] = (\n",
    "            climate_ds.sel(latitude=lats, longitude=lons, method=\"nearest\")\n",
    "            .to_numpy().flatten() #the flatten also wasn't there before\n",
    "        )\n",
    "    return temp_df\n",
    "\n",
    "\n",
    "def get_climate_vars_for_dataframe(\n",
    "    df: pd.DataFrame,\n",
    "    lat_col: str = \"lat\",\n",
    "    long_col: str = \"long\",\n",
    "    year_col: str = \"int_year\",\n",
    ") -> pd.DataFrame:\n",
    "    var_names = [\n",
    "        'mean_temperature', 'days_over_30C', 'precipitation_days', \n",
    "        'total_precipitation', 'mean_low_temperature', 'mean_high_temperature',\n",
    "        'relative_humidity', 'days_over_26C', 'days_over_27C', 'days_over_28C',\n",
    "        'days_over_29C', 'days_over_31C', 'days_over_32C', 'days_over_33C',\n",
    "    ]\n",
    "\n",
    "    unique_coords = df[[lat_col, long_col, year_col]].drop_duplicates()\n",
    "\n",
    "    df_splits = [year_df for _, year_df in unique_coords.groupby(year_col)]\n",
    "    p = mp.Pool(processes=25)\n",
    "    results_df = pd.concat(\n",
    "        p.map(\n",
    "            partial(get_climate_vars_for_year, climate_variables=var_names), df_splits\n",
    "        )\n",
    "    )\n",
    "    p.close()\n",
    "    p.join()\n",
    "    return results_df\n",
    "\n",
    "ELEVATION_FILEPATH = '/mnt/team/rapidresponse/pub/population/modeling/climate_malnutrition/input/elevation/GLOBE_DEM_MOSAIC_Y2016M02D09.TIF'\n",
    "def get_elevation_for_dataframe(\n",
    "    df: pd.DataFrame, lat_col: str = \"lat\", long_col: str = \"long\"\n",
    ") -> pd.DataFrame:\n",
    "    unique_coords = df[[lat_col, long_col]].drop_duplicates()\n",
    "    elevation_ds: xr.Dataset = rioxarray.open_rasterio(ELEVATION_FILEPATH, masked=True)  # type: ignore[assignment]\n",
    "    unique_coords[\"elevation\"] = elevation_ds.sel(\n",
    "        x=xr.DataArray(unique_coords.long, dims=\"z\"),\n",
    "        y=xr.DataArray(unique_coords.lat, dims=\"z\"),\n",
    "        band=1,\n",
    "        method=\"nearest\",\n",
    "    ).to_numpy()\n",
    "\n",
    "    unique_coords[\"elevation\"] = unique_coords[\"elevation\"].fillna(0)\n",
    "    unique_coords[\"elevation\"] = unique_coords[\"elevation\"].astype(int)\n",
    "    results_df = merge_left_without_inflating(df, unique_coords, on=[lat_col, long_col])\n",
    "    if results_df[\"elevation\"].isna().any():\n",
    "        msg = \"Null elevation values.\"\n",
    "        raise RuntimeError(msg)\n",
    "    return results_df\n",
    "\n",
    "\n",
    "def get_ldipc_from_asset_score(\n",
    "    asset_df: pd.DataFrame,\n",
    "    cm_data,  # instance providing the load_ldi_distributions() method\n",
    "    asset_score_col: str = \"wealth_index_dhs\",\n",
    "    year_df_col: str = \"year_start\",\n",
    "    *,\n",
    "    ldi_version=\"\",\n",
    "    weights_col=\"pweight\",\n",
    "    plot: bool = True,\n",
    "    plot_pdf_path: str = \"./nid_plots.pdf\",\n",
    ") -> pd.DataFrame:\n",
    "    \"\"\"\n",
    "    Calculates LDI-PC from asset scores using four methods:\n",
    "      (1) Unweighted percentiles, direct interpolation (no matching)\n",
    "      (2) Weighted percentiles, direct interpolation (no matching)\n",
    "      (3) Unweighted percentiles with distribution matching\n",
    "      (4) Weighted percentiles with distribution matching\n",
    "\n",
    "    Additionally, if plotting is enabled, a single PDF is produced (at plot_pdf_path)\n",
    "    containing one page per NID. Each page shows:\n",
    "        - The reference (target) LDI distribution (which is always 10 points)\n",
    "        - The 4 computed LDI-PC curves.\n",
    "    \n",
    "    The dynamic grid used for matching and plotting is determined based on the number\n",
    "    of observations in the NID (nid_df).\n",
    "\n",
    "    Parameters:\n",
    "      asset_df         : DataFrame containing asset scores and related columns.\n",
    "      cm_data          : Object providing the load_ldi_distributions() method.\n",
    "      asset_score_col  : Column name for the asset score.\n",
    "      year_df_col      : Column name for the year.\n",
    "      ldi_version      : Version identifier for LDI distribution.\n",
    "      weights_col      : Column name for weights.\n",
    "      plot             : If True, generate a PDF with NID plots.\n",
    "      plot_pdf_path    : File path for the output PDF containing the plots.\n",
    "\n",
    "    Returns:\n",
    "      A DataFrame with additional columns:\n",
    "        - ldi_pc_unweighted_no_match\n",
    "        - ldi_pc_weighted_no_match\n",
    "        - ldi_pc_unweighted_match\n",
    "        - ldi_pc_weighted_match\n",
    "    \"\"\"\n",
    "    # Load LDI distribution data\n",
    "    ldi = cm_data.load_ldi_distributions(geospecificity=\"national\", version=ldi_version)\n",
    "    if \"scenario\" in ldi.columns:\n",
    "        if 0 in ldi.scenario.unique():\n",
    "            ldi = ldi.loc[ldi[\"scenario\"] == 0].drop(\"scenario\", axis=1)\n",
    "        elif 4.5 in ldi.scenario.unique():\n",
    "            ldi = ldi.loc[ldi[\"scenario\"] == 4.5].drop(\"scenario\", axis=1)\n",
    "        else:\n",
    "            raise ValueError(\"No valid scenario in LDI data.\")\n",
    "    print(\"Calculating four versions of LDI-PC (weighted/unweighted, match/no-match).\")\n",
    "    \n",
    "    # Optionally initialize PdfPages for a single PDF with all plots.\n",
    "    if plot:\n",
    "        pdf_pages = PdfPages(plot_pdf_path)\n",
    "    \n",
    "    results = []\n",
    "    \n",
    "    for nid in asset_df.nid.unique():\n",
    "        nid_df = (\n",
    "            asset_df.loc[asset_df.nid == nid]\n",
    "            .copy()\n",
    "            .sort_values([\"nid\", \"ihme_loc_id\", year_df_col, asset_score_col])\n",
    "        )\n",
    "        \n",
    "        # Choose year: if multiple, use the earliest\n",
    "        if nid_df[year_df_col].nunique() > 1:\n",
    "            print(f\"Multiple years for NID {nid}: {nid_df[year_df_col].unique()}\")\n",
    "            year = nid_df[year_df_col].min()\n",
    "        else:\n",
    "            year = nid_df[year_df_col].iloc[0]\n",
    "        \n",
    "        # Ensure a single location for this NID\n",
    "        if nid_df.ihme_loc_id.nunique() > 1:\n",
    "            raise ValueError(f\"Multiple locations for NID {nid}\")\n",
    "        ihme_loc_id = nid_df.ihme_loc_id.iloc[0]\n",
    "        \n",
    "        # Compute percentiles: unweighted and weighted.\n",
    "        nid_df[\"unweighted_population_percentile\"] = nid_df[asset_score_col].rank(pct=True)\n",
    "        nid_df[\"cum_weight\"] = nid_df[weights_col].cumsum()\n",
    "        total_weight = nid_df[weights_col].sum()\n",
    "        nid_df[\"weighted_population_percentile\"] = nid_df[\"cum_weight\"] / total_weight\n",
    "        \n",
    "        # Get LDI data for this location and year; sort by population_percentile.\n",
    "        ldi_df = ldi.loc[(ldi.ihme_loc_id == ihme_loc_id) & (ldi.year_id == year)]\n",
    "        ldi_df = ldi_df.sort_values(\"population_percentile\")\n",
    "        if ldi_df.empty:\n",
    "            raise ValueError(f\"No LDI data for NID {nid} in year {year}\")\n",
    "        \n",
    "        # Determine dynamic grid resolution based on survey data.\n",
    "        # Since the target distribution always has 10 points, we use the NID data resolution.\n",
    "        grid_points = max(1000, min(1000000, len(nid_df) * 100))\n",
    "        #print(f\"Using {grid_points} points for NID {nid}.\")\n",
    "        dynamic_grid = np.linspace(0, 1, grid_points)\n",
    "        \n",
    "        # Build the interpolator from the target (LDI) distribution.\n",
    "        ldi_interpolator = PchipInterpolator(ldi_df[\"population_percentile\"], ldi_df[\"ldipc\"])\n",
    "        # Evaluate reference LDI distribution on the dynamic grid.\n",
    "        ldi_ref = ldi_interpolator(dynamic_grid)\n",
    "        \n",
    "        # Direct interpolation (no matching) for both unweighted and weighted.\n",
    "        unweighted_no_match = ldi_interpolator(nid_df[\"unweighted_population_percentile\"])\n",
    "        weighted_no_match = ldi_interpolator(nid_df[\"weighted_population_percentile\"])\n",
    "        \n",
    "        # Evaluate LDI distribution on the grid for matching purposes.\n",
    "        interpolated_income_distrib = ldi_interpolator(dynamic_grid)\n",
    "\n",
    "        #ldi_value_at_80th_percentile = ldi_interpolator(0.8)\n",
    "        \n",
    "        # Define the matching procedure.\n",
    "        def match_distribution(pop_pct, asset_scores):\n",
    "            \"\"\"\n",
    "            For a given set of population percentiles and asset scores,\n",
    "            iterate over a range of clipping thresholds of the interpolated LDI\n",
    "            distribution. The candidate curve that minimizes the absolute difference\n",
    "            between its scaled version and the scaled asset scores is returned.\n",
    "            \"\"\"\n",
    "            scaled_asset = (asset_scores - asset_scores.min()) / (asset_scores.max() - asset_scores.min())\n",
    "            best_candidate = None\n",
    "            minimum_difference = np.inf\n",
    "            # Try thresholds from 25% to 100% in 76 steps.\n",
    "            for threshold_quantile in np.linspace(0.8, 1, 21):\n",
    "                threshold_value = np.quantile(interpolated_income_distrib, threshold_quantile)\n",
    "                clipped_income = interpolated_income_distrib[interpolated_income_distrib <= threshold_value]\n",
    "                if len(clipped_income) < 2:\n",
    "                    continue\n",
    "                clipped_interpolator = PchipInterpolator(\n",
    "                    np.linspace(0, 1, len(clipped_income)), clipped_income\n",
    "                )\n",
    "                candidate = clipped_interpolator(pop_pct)\n",
    "                scaled_candidate = (candidate - candidate.min()) / (candidate.max() - candidate.min())\n",
    "                diff = np.abs(scaled_candidate - scaled_asset).sum()\n",
    "                if diff < minimum_difference:\n",
    "                    minimum_difference = diff\n",
    "                    best_candidate = candidate\n",
    "            return best_candidate\n",
    "        \n",
    "        unweighted_match = match_distribution(\n",
    "            nid_df[\"unweighted_population_percentile\"], nid_df[asset_score_col]\n",
    "        )\n",
    "        weighted_match = match_distribution(\n",
    "            nid_df[\"weighted_population_percentile\"], nid_df[asset_score_col]\n",
    "        )\n",
    "        \n",
    "        # Store the four computed versions in new columns.\n",
    "        nid_df[\"ldipc_unweighted_no_match\"] = unweighted_no_match\n",
    "        nid_df[\"ldipc_weighted_no_match\"] = weighted_no_match\n",
    "        nid_df[\"ldipc_unweighted_match\"] = unweighted_match\n",
    "        nid_df[\"ldipc_weighted_match\"] = weighted_match\n",
    "        \n",
    "        # Plotting per NID if enabled.\n",
    "        if plot:\n",
    "            fig, ax = plt.subplots(figsize=(8, 6))\n",
    "            \n",
    "            # Plot the reference LDI distribution (flipped axes).\n",
    "            ax.plot(ldi_ref, dynamic_grid, label=\"Reference LDI\", linestyle=\"--\", color=\"black\")\n",
    "            \n",
    "            # Plot the computed LDI-PC curves with flipped axes.\n",
    "            sorted_unw = sorted(zip(unweighted_no_match, nid_df[\"unweighted_population_percentile\"]))\n",
    "            ax.plot(*zip(*sorted_unw), label=\"Unweighted No Match\")\n",
    "            \n",
    "            sorted_w = sorted(zip(weighted_no_match, nid_df[\"weighted_population_percentile\"]))\n",
    "            ax.plot(*zip(*sorted_w), label=\"Weighted No Match\")\n",
    "            \n",
    "            sorted_unw_match = sorted(zip(unweighted_match, nid_df[\"unweighted_population_percentile\"]))\n",
    "            ax.plot(*zip(*sorted_unw_match), label=\"Unweighted Match\")\n",
    "            \n",
    "            sorted_w_match = sorted(zip(weighted_match, nid_df[\"weighted_population_percentile\"]))\n",
    "            ax.plot(*zip(*sorted_w_match), label=\"Weighted Match\")\n",
    "            \n",
    "            # Compute scaling parameters for wealth index.\n",
    "            wealth_min = nid_df[asset_score_col].min()\n",
    "            wealth_max = nid_df[asset_score_col].max()\n",
    "            ldi_min = ldi_ref.min()\n",
    "            ldi_max = ldi_ref.max()\n",
    "            \n",
    "            # Define transformation functions for mapping wealth index to LDI range and vice versa.\n",
    "            def wealth_to_ldi(w):\n",
    "                return (w - wealth_min) / (wealth_max - wealth_min) * (ldi_max - ldi_min) + ldi_min\n",
    "\n",
    "            def ldi_to_wealth(x):\n",
    "                return (x - ldi_min) / (ldi_max - ldi_min) * (wealth_max - wealth_min) + wealth_min\n",
    "\n",
    "            # Plot the original wealth index distribution, scaled to LDI range.\n",
    "            sorted_wealth = sorted(zip(nid_df[asset_score_col], nid_df[\"unweighted_population_percentile\"]))\n",
    "            scaled_sorted_wealth = [(wealth_to_ldi(w), p) for w, p in sorted_wealth]\n",
    "            ax.plot(*zip(*scaled_sorted_wealth), label=\"Wealth Index\", linestyle=\":\", color=\"blue\")\n",
    "\n",
    "            sorted_wealth = sorted(zip(nid_df[asset_score_col], nid_df[\"weighted_population_percentile\"]))\n",
    "            scaled_sorted_wealth = [(wealth_to_ldi(w), p) for w, p in sorted_wealth]\n",
    "            ax.plot(*zip(*scaled_sorted_wealth), label=\"Wealth Index (weighted)\", linestyle=\":\", color=\"green\")\n",
    "            \n",
    "            # Set labels and title.\n",
    "            ax.set_xlabel(\"LDI-PC\")\n",
    "            ax.set_ylabel(\"Population Percentile\")\n",
    "            ax.set_title(f\"NID {nid} | Year: {year} | ihme_loc_id: {ihme_loc_id}\")\n",
    "            ax.legend()\n",
    "            ax.grid(True)\n",
    "            \n",
    "            # Add a secondary x-axis for Wealth Index.\n",
    "            secax = ax.secondary_xaxis('top', functions=(ldi_to_wealth, wealth_to_ldi))\n",
    "            secax.set_xlabel(\"Wealth Index\")\n",
    "            \n",
    "            pdf_pages.savefig(fig)\n",
    "            plt.close(fig)\n",
    "\n",
    "        \n",
    "        results.append(nid_df)\n",
    "    \n",
    "    if plot:\n",
    "        pdf_pages.close()\n",
    "    \n",
    "    asset_df_ldipc = pd.concat(results)\n",
    "    new_cols = [\n",
    "        \"ldipc_unweighted_no_match\",\n",
    "        \"ldipc_weighted_no_match\",\n",
    "        \"ldipc_unweighted_match\",\n",
    "        \"ldipc_weighted_match\",\n",
    "    ]\n",
    "    if asset_df_ldipc[new_cols].isna().sum().sum() != 0:\n",
    "        raise RuntimeError(\"Null LDI-PC values in one of the methods.\")\n",
    "    if len(asset_df_ldipc) != len(asset_df):\n",
    "        raise RuntimeError(\"Mismatch in length of asset data and LDI-PC data.\")\n",
    "    return asset_df_ldipc  # type: ignore[no-any-return]\n",
    "\n",
    "\n",
    "WEALTH_DATASET_COMMON_COLUMNS = [\n",
    "        \"ihme_loc_id\",\n",
    "        \"nid\",\n",
    "        \"psu\",\n",
    "        \"strata\",\n",
    "        \"hh_id\",\n",
    "        \"hhweight\",\n",
    "        \"lat\",\n",
    "        \"long\",\n",
    "        \"year_start\",\n",
    "        \"geospatial_id\"]\n",
    "\n",
    "def filter_point_data(df: pd.DataFrame) -> pd.DataFrame:\n",
    "    \"\"\"Keep only rows with point == 1.\"\"\"\n",
    "    return df[df[\"point\"] == 1]\n",
    "\n",
    "def validate_lat_long_uniqueness(df: pd.DataFrame) -> None:\n",
    "    \"\"\"Ensure that for each household (nid, psu, hh_id), lat and long are unique.\"\"\"\n",
    "    grouped = df.groupby([\"nid\", \"psu\", \"hh_id\"])\n",
    "    if not (grouped[\"lat\"].nunique().eq(1) & grouped[\"long\"].nunique().eq(1)).all():\n",
    "        raise ValueError(\"Multiple latitudes or longitudes for the same nid, psu, and hh_id.\")\n",
    "\n",
    "def validate_no_duplicate_entries(df: pd.DataFrame, group_cols: list, error_msg: str) -> None:\n",
    "    \"\"\"Ensure that grouping by group_cols gives a single entry per group.\"\"\"\n",
    "    if df.groupby(group_cols).size().max() != 1:\n",
    "        raise ValueError(error_msg)\n",
    "\n",
    "def common_validations(df: pd.DataFrame) -> pd.DataFrame:\n",
    "    \"\"\"\n",
    "    Perform validations common to all wealth datasets:\n",
    "      - Check lat/long uniqueness.\n",
    "      - Check no duplicate entries by (nid, psu, hh_id) and related groupings.\n",
    "      - Merge with location metadata and cast types.\n",
    "    \"\"\"\n",
    "    validate_lat_long_uniqueness(df)\n",
    "    validate_no_duplicate_entries(df, [\"nid\", \"psu\", \"hh_id\"],\n",
    "                                  \"Multiple entries for the same nid, psu, and hh_id.\")\n",
    "    \n",
    "    if df.groupby([\"nid\", \"hh_id\", \"year_start\", \"psu\", \"geospatial_id\"]).size().max() != 1:\n",
    "        raise ValueError(\"Multiple entries for the same nid, psu, hh_id, and year.\")\n",
    "    if df.groupby([\"nid\", \"hh_id\", \"year_start\", \"psu\"]).size().max() != 1:\n",
    "        raise ValueError(\"Multiple entries for the same nid, psu, hh_id, and year.\")\n",
    "    \n",
    "    # Load location metadata here (only used within these validations)\n",
    "    loc_meta = pd.read_parquet(paths.FHS_LOCATION_METADATA_FILEPATH)\n",
    "    df = merge_left_without_inflating(df, loc_meta[[\"location_id\", \"ihme_loc_id\"]], on=\"ihme_loc_id\")\n",
    "    if df.location_id.isna().any():\n",
    "        raise RuntimeError(\"Null location IDs.\")\n",
    "    \n",
    "    df[\"year_start\"] = df[\"year_start\"].astype(int)\n",
    "    df[\"nid\"] = df[\"nid\"].astype(int)\n",
    "    return df\n",
    "\n",
    "def get_DHS_wealth_dataset() -> pd.DataFrame:\n",
    "    wealth_raw = pd.read_parquet(SURVEY_DATA_PATHS[\"wealth\"][\"DHS\"])\n",
    "    df = filter_point_data(wealth_raw)\n",
    "    \n",
    "    # Specific renaming for DHS\n",
    "    df = df.rename(columns={\n",
    "        \"wealth_score\": \"wealth_index_dhs\",\n",
    "        \"iso3\": \"ihme_loc_id\",\n",
    "        \"weight\": \"hhweight\",\n",
    "    })\n",
    "    df = df.rename(columns=COLUMN_NAME_TRANSLATOR)\n",
    "    \n",
    "    # Use the global column order and remove duplicates\n",
    "    df = df[WEALTH_DATASET_COMMON_COLUMNS + ['wealth_index_dhs']].drop_duplicates()\n",
    "    \n",
    "    # Remove problematic NIDs\n",
    "    bad_entries = df.groupby([\"nid\", \"hh_id\", \"year_start\", \"psu\"]).size()\n",
    "    bad_nids = list(bad_entries[bad_entries > 1].reset_index().nid.unique())\n",
    "    bad_nids = [*bad_nids, 20315, 20301, 20537]\n",
    "    df = df[~df.nid.isin(bad_nids)]\n",
    "    \n",
    "    df = common_validations(df)\n",
    "    return df\n",
    "\n",
    "def get_MICS_wealth_dataset() -> pd.DataFrame:\n",
    "    wealth_raw = pd.read_parquet(SURVEY_DATA_PATHS[\"wealth\"][\"MICS\"])\n",
    "    df = filter_point_data(wealth_raw)\n",
    "    \n",
    "    # Specific renaming for MICS\n",
    "    df = df.rename(columns={\n",
    "        \"wealth_score\": \"wealth_index_dhs\",\n",
    "        \"iso3\": \"ihme_loc_id\",\n",
    "    })\n",
    "    df = df.rename(columns=COLUMN_NAME_TRANSLATOR)\n",
    "    \n",
    "    df = df[WEALTH_DATASET_COMMON_COLUMNS + ['wealth_index_dhs']].drop_duplicates()\n",
    "    \n",
    "    # For NID 7618, use geospatial_id as the hh_id\n",
    "    df.loc[df.nid == 7618, \"hh_id\"] = df.loc[df.nid == 7618, \"geospatial_id\"]\n",
    "    # Truncate ihme_loc_id to country-level (first 3 characters)\n",
    "    df['ihme_loc_id'] = df['ihme_loc_id'].str[:3]\n",
    "    \n",
    "    df = common_validations(df)\n",
    "    return df\n",
    "\n",
    "def get_LSMS_wealth_dataset() -> pd.DataFrame:\n",
    "    wealth_raw = pd.read_parquet(SURVEY_DATA_PATHS[\"wealth\"][\"LSMS\"])\n",
    "    df = filter_point_data(wealth_raw)\n",
    "    \n",
    "    # Exclude NIDs with no wealth measure available\n",
    "    wealth_measure_availability = df.groupby('nid').apply(\n",
    "        lambda x: x[['income', 'expenditure', 'consumption']].isna().all().all(),\n",
    "        include_groups=False\n",
    "    )\n",
    "    nids_without_wealth = wealth_measure_availability[wealth_measure_availability].index.astype(int)\n",
    "    df = df[~df.nid.isin(nids_without_wealth)].reset_index(drop=True)\n",
    "    \n",
    "    # Choose the best available wealth measure, preferring income, then consumption, then expenditure\n",
    "    wealth_measure = df.groupby('nid').apply(\n",
    "        lambda x: x[['income', 'expenditure', 'consumption']].isna().mean().idxmin(),\n",
    "        include_groups=False\n",
    "    ).reset_index()\n",
    "    wealth_measure.columns = ['nid', 'wealth_measure']\n",
    "    df = df.merge(wealth_measure, on='nid', how='left')\n",
    "    df['wealth_measurement'] = df.apply(lambda row: row[row['wealth_measure']], axis=1)\n",
    "    \n",
    "    # Remove problematic NID with multiple measures\n",
    "    df = df[~df.nid.isin([283013])].reset_index(drop=True)\n",
    "    \n",
    "    # Use hhweight if available; otherwise, use pweight\n",
    "    df['hhweight'] = df['hhweight'].combine_first(df['pweight']).astype(float)\n",
    "    \n",
    "    # Validate that each household has a unique wealth measurement\n",
    "    grouped = df.groupby(['nid', 'hh_id', 'psu', 'geospatial_id'])\n",
    "    if not (grouped['wealth_measurement'].nunique().eq(1)).all():\n",
    "        raise ValueError(\"Multiple wealth measurements for the same household.\")\n",
    "    \n",
    "    df = df.rename(columns={\n",
    "        \"iso3\": \"ihme_loc_id\",\n",
    "    })\n",
    "    df = df.rename(columns=COLUMN_NAME_TRANSLATOR)\n",
    "    \n",
    "    df = df[WEALTH_DATASET_COMMON_COLUMNS + ['wealth_measurement', 'wealth_measure']].drop_duplicates()\n",
    "    \n",
    "    # Truncate ihme_loc_id to country-level (first 3 characters)\n",
    "    df['ihme_loc_id'] = df['ihme_loc_id'].str[:3]\n",
    "    \n",
    "    df = common_validations(df)\n",
    "    return df\n",
    "\n",
    "\n",
    "def assign_age_group(df: pd.DataFrame) -> pd.DataFrame:\n",
    "    age_group_spans = pd.read_parquet(paths.AGE_SPANS_FILEPATH)\n",
    "    age_group_spans = age_group_spans.query(\"age_group_id in [388, 389, 238, 34]\")\n",
    "    df[\"age_group_id\"] = np.nan\n",
    "    for _, row in age_group_spans.iterrows():\n",
    "        df.loc[\n",
    "            (df.age_year >= row.age_group_years_start.round(5))\n",
    "            & (df.age_year < row.age_group_years_end),\n",
    "            \"age_group_id\",\n",
    "        ] = row.age_group_id\n",
    "    for _, row in age_group_spans.iterrows():\n",
    "        df.loc[\n",
    "            (df.age_group_id.isna())\n",
    "            & (df.age_year == 0)\n",
    "            & (df.age_month / 12 >= row.age_group_years_start)\n",
    "            & (df.age_month / 12 < row.age_group_years_end),\n",
    "            \"age_group_id\",\n",
    "        ] = row.age_group_id\n",
    "    # Fix for some kids that had age_year = 0.076 but month == 1\n",
    "    age_one_month, age_id_one_month = 0.076, 388\n",
    "    df.loc[\n",
    "        (df.age_group_id.isna()) & (df.age_year > age_one_month) & (df.age_month == 1),\n",
    "        \"age_group_id\",\n",
    "    ] = age_id_one_month\n",
    "\n",
    "    age_id_map = {\n",
    "        388: 4,\n",
    "        389: 4,\n",
    "        238: 5,\n",
    "        34: 5,\n",
    "    }\n",
    "    df[\"age_group_id_agg\"] = df[\"age_group_id\"].map(age_id_map)\n",
    "    return df\n",
    "\n",
    "\n",
    "def assign_lbd_admin2_location_id(\n",
    "    data: gpd.GeoDataFrame, lat_col: str = \"lat\", long_col: str = \"long\"\n",
    ") -> pd.DataFrame:\n",
    "    lbd_admin2_metadata_filepath = (\n",
    "        ClimateMalnutritionData._PROCESSED_DATA_ROOT / \"ihme\" / \"lbd_admin2.parquet\"  # noqa: SLF001\n",
    "    )\n",
    "    admin2_shapes = (\n",
    "        gpd.read_parquet(lbd_admin2_metadata_filepath)[[\"loc_id\", \"geometry\"]]\n",
    "        .rename(columns={\"loc_id\": \"lbd_admin2_id\"})\n",
    "        .to_crs(\"ESRI:54009\")\n",
    "    )\n",
    "    if \"lbd_admin2_id\" in data.columns:\n",
    "        msg = \"lbd_admin2_id column already in data.\"\n",
    "        raise ValueError(msg)\n",
    "\n",
    "    cgf_coords = data[[lat_col, long_col]].drop_duplicates()\n",
    "    cgf_coords = gpd.GeoDataFrame(\n",
    "        cgf_coords, geometry=gpd.points_from_xy(cgf_coords.long, cgf_coords.lat)\n",
    "    )\n",
    "    cgf_coords = cgf_coords.set_crs(\"WGS84\").to_crs(\"ESRI:54009\")\n",
    "\n",
    "    lencheck = len(cgf_coords)\n",
    "    cgf_coords = cgf_coords.sjoin_nearest(\n",
    "        admin2_shapes, how=\"left\", distance_col=\"distance\"\n",
    "    )\n",
    "    # There's a point in Colombia that is included in two different admin2s so it gets duplicated; dropping the wrong location for it\n",
    "    cgf_coords = cgf_coords.query(\n",
    "        f\"not({lat_col} == 10.935365 and {long_col} == -74.764815 and lbd_admin2_id == 55124)\"\n",
    "    )\n",
    "    if len(cgf_coords) != lencheck:\n",
    "        msg = \"Mismatch in length of data and merged data.\"\n",
    "        raise RuntimeError(msg)\n",
    "\n",
    "    result = merge_left_without_inflating(data, cgf_coords[[lat_col, long_col, \"lbd_admin2_id\"]], on=[lat_col, long_col])\n",
    "    return result  # type: ignore[no-any-return]\n",
    "\n",
    "\n",
    "def assign_sdi(df: pd.DataFrame, year_col: str = \"year_start\") -> pd.DataFrame:\n",
    "    sdi = xr.open_dataset(SDI_PATH)\n",
    "    sdi = sdi.mean(dim=\"draw\")\n",
    "    return df.merge(\n",
    "        sdi.to_dataframe(),\n",
    "        left_on=[\"location_id\", year_col],\n",
    "        right_index=True,\n",
    "        how=\"left\",\n",
    "    )\n",
    "\n",
    "\n",
    "@click.command()  # type: ignore[arg-type]\n",
    "@clio.with_output_root(DEFAULT_ROOT)\n",
    "@clio.with_source_type(allow_all=False)\n",
    "def run_training_data_prep(output_root: str, source_type: str) -> None:\n",
    "    \"\"\"Run training data prep.\"\"\"\n",
    "    print(f\"Running training data prep for {source_type}...\")\n",
    "    # for src in source_type:\n",
    "    run_training_data_prep_main(output_root, source_type)\n",
    "\n",
    "def clean_hh_id(row):\n",
    "    hh_id_str = str(row['hh_id'])\n",
    "    geo_str = str(row['geospatial_id'])\n",
    "    # Match one or more leading zeros followed by the geospatial_id at the start\n",
    "    pattern = r'^0+' + re.escape(geo_str)\n",
    "    # Remove the matched pattern (if found)\n",
    "    cleaned = re.sub(pattern, '', hh_id_str)\n",
    "    # Strip remaining leading zeros and handle empty results\n",
    "    cleaned = cleaned.lstrip('0') or '0'\n",
    "    return cleaned\n"
   ]
  },
  {
   "cell_type": "code",
   "execution_count": null,
   "metadata": {},
   "outputs": [
    {
     "name": "stderr",
     "output_type": "stream",
     "text": [
      "/tmp/ipykernel_2894241/3553098556.py:1: DtypeWarning: Columns (20,23,25,26,27,28,65,66,68,69,70,71,72,74,76,77,78,83,103,104,105,106,107,108,110,116,117,119) have mixed types. Specify dtype option on import or set low_memory=False.\n",
      "  anemia_team_df_raw = pd.read_csv('/mnt/team/rapidresponse/pub/population/modeling/climate_malnutrition/input/extractions/anemia/anemia_extracts_compiled_09_02_2025.csv')\n"
     ]
    }
   ],
   "source": [
    "anemia_team_df_raw = pd.read_csv('/mnt/team/rapidresponse/pub/population/modeling/climate_malnutrition/input/extractions/anemia/anemia_extracts_compiled_09_02_2025.csv')\n",
    "anemia_team_df = anemia_team_df_raw.copy()\n",
    "anemia_team_df.columns.to_list()\n",
    "anemia_nids = anemia_team_df.nid.unique()\n",
    "\n",
    "# Prepping wealth dataset\n",
    "wealth_anemia_df = get_DHS_wealth_dataset()\n",
    "wealth_anemia_df = wealth_anemia_df.query(\"nid in @anemia_nids\")\n",
    "cm_data = ClimateMalnutritionData(Path(DEFAULT_ROOT)/'anemia')\n",
    "wealth_anemia_df = get_ldipc_from_asset_score(\n",
    "        wealth_anemia_df, cm_data, asset_score_col=\"wealth_index_dhs\", weights_col=\"hhweight\",\n",
    "        plot_pdf_path=Path(DEFAULT_ROOT) / \"input\"/ \"ldi_plots\"/ \"anemia_dhs_plots.pdf\",\n",
    "        ldi_version = LDI_VERSION,\n",
    "    )\n",
    "\n",
    "#prepping for merge, aligning column names and cleaning columns\n",
    "anemia_team_df = anemia_team_df_raw[['ihme_loc_id', 'nid', 'survey_name', 'year_start', 'year_end', 'urban', 'geospatial_id', 'pweight', \n",
    "    'psu_id', 'strata_id',  'hh_id', 'line_id', 'sex_id', 'age_year', 'age_month', 'int_year', \n",
    "    'anemia_anemic_brinda', 'anemia_mod_sev_brinda', 'latnum', 'longnum',]]# 'pregnant', 'last_menstrual_period', 'latitude', 'longitude']]\n",
    "anemia_team_df = anemia_team_df.rename(columns=COLUMN_NAME_TRANSLATOR)\n",
    "anemia_team_df = anemia_team_df.rename(\n",
    "    columns={\"latitude\": \"lat\", \"longitude\": \"long\", \"hh_id\": \"old_hh_id\"}\n",
    ")\n",
    "anemia_team_df[\"hh_id\"] = anemia_team_df[\"old_hh_id\"].str.split(r\"[_ ]\").str[-1]\n",
    "anemia_team_df[\"psu\"] = anemia_team_df[\"psu\"].astype(int)\n",
    "anemia_team_df[\"hh_id\"] = anemia_team_df.apply(clean_hh_id, axis=1)\n",
    "\n",
    "\n",
    "wealth_anemia_df = wealth_anemia_df.rename(columns={\"hh_id\": \"old_hh_id\"})\n",
    "wealth_anemia_df[\"hh_id\"] = wealth_anemia_df[\"old_hh_id\"].str.split(r\"[_ ]\").str[-1]\n",
    "wealth_anemia_df[\"psu\"] = wealth_anemia_df[\"psu\"].astype(int)\n",
    "wealth_anemia_df[\"hh_id\"] = wealth_anemia_df.apply(clean_hh_id, axis=1)\n"
   ]
  },
  {
   "cell_type": "code",
   "execution_count": null,
   "metadata": {},
   "outputs": [],
   "source": [
    "merge_cols = [\"nid\", \"ihme_loc_id\", \"hh_id\", \"psu\", \"year_start\"]\n",
    "anemia_merged = merge_left_without_inflating(anemia_team_df.drop(columns=[\"old_hh_id\"]), wealth_anemia_df.drop(columns=['lat', 'long']), on=merge_cols)\n",
    "\n",
    "#Calculate proportion of NA and filter out nids with too much wealth missingness (bad merges)\n",
    "merged_na_props = (anemia_merged.groupby(['nid']).ldipc_weighted_no_match.count() / anemia_merged.groupby(['nid']).ldipc_weighted_no_match.size())\n",
    "merged_nids = merged_na_props[merged_na_props > 0.95].index.to_list()\n",
    "anemia_df = anemia_merged.query(\"nid in @merged_nids\").copy()\n",
    "\n",
    "# Assign age group\n",
    "anemia_df = assign_age_group(anemia_df, )\n",
    "anemia_df = anemia_df.dropna(subset=[\"age_group_id\"])\n",
    "\n",
    "# Take out data with invalid lat and long\n",
    "anemia_df = anemia_df.dropna(subset=[\"lat\", \"long\"])\n",
    "anemia_df = anemia_df.query(\"lat != 0 and long != 0\")\n",
    "\n",
    "# Merge with climate data\n",
    "print(\"Processing climate data...\")\n",
    "climate_vars = get_climate_vars_for_dataframe(anemia_df)\n",
    "anemia_df = merge_left_without_inflating(anemia_df, climate_vars, on=[\"int_year\", \"lat\", \"long\"])\n",
    "\n",
    "print(\"Adding elevation data...\")\n",
    "anemia_df = get_elevation_for_dataframe(anemia_df)\n",
    "\n",
    "anemia_df = assign_lbd_admin2_location_id(anemia_df)\n"
   ]
  },
  {
   "cell_type": "code",
   "execution_count": 199,
   "metadata": {},
   "outputs": [],
   "source": [
    "agg_df = anemia_df.groupby(['nid', 'ihme_loc_id', 'year_start'], as_index=False).mean(numeric_only=True).rename(columns={'ldipc_weighted_no_match':'consumption', 'anemia_mod_sev_brinda':'modsev_anemia_prev', 'anemia_anemic_brinda':'total_anemia_prev'})"
   ]
  },
  {
   "cell_type": "code",
   "execution_count": 222,
   "metadata": {},
   "outputs": [
    {
     "data": {
      "application/vnd.plotly.v1+json": {
       "config": {
        "plotlyServerURL": "https://plot.ly"
       },
       "data": [
        {
         "hovertemplate": "ihme_loc_id=CIV<br>mean_temperature=%{x}<br>total_anemia_prev=%{y}<extra></extra>",
         "legendgroup": "CIV",
         "marker": {
          "color": "#636efa",
          "symbol": "circle"
         },
         "mode": "markers",
         "name": "CIV",
         "orientation": "v",
         "showlegend": true,
         "type": "scatter",
         "x": [
          25.796234866828087
         ],
         "xaxis": "x",
         "y": [
          0.7557506053268765
         ],
         "yaxis": "y"
        },
        {
         "hovertemplate": "ihme_loc_id=ALB<br>mean_temperature=%{x}<br>total_anemia_prev=%{y}<extra></extra>",
         "legendgroup": "ALB",
         "marker": {
          "color": "#EF553B",
          "symbol": "circle"
         },
         "mode": "markers",
         "name": "ALB",
         "orientation": "v",
         "showlegend": true,
         "type": "scatter",
         "x": [
          12.809387027797577,
          13.24414800389484
         ],
         "xaxis": "x",
         "y": [
          0.20812544547398432,
          0.31499513145082764
         ],
         "yaxis": "y"
        },
        {
         "hovertemplate": "ihme_loc_id=BEN<br>mean_temperature=%{x}<br>total_anemia_prev=%{y}<extra></extra>",
         "legendgroup": "BEN",
         "marker": {
          "color": "#00cc96",
          "symbol": "circle"
         },
         "mode": "markers",
         "name": "BEN",
         "orientation": "v",
         "showlegend": true,
         "type": "scatter",
         "x": [
          26.686295275590552,
          26.586813478376225,
          27.19226455199477
         ],
         "xaxis": "x",
         "y": [
          0.7996062992125984,
          0.5935261342531175,
          0.7176258992805755
         ],
         "yaxis": "y"
        },
        {
         "hovertemplate": "ihme_loc_id=BOL<br>mean_temperature=%{x}<br>total_anemia_prev=%{y}<extra></extra>",
         "legendgroup": "BOL",
         "marker": {
          "color": "#ab63fa",
          "symbol": "circle"
         },
         "mode": "markers",
         "name": "BOL",
         "orientation": "v",
         "showlegend": true,
         "type": "scatter",
         "x": [
          14.773294930875577
         ],
         "xaxis": "x",
         "y": [
          0.5787250384024577
         ],
         "yaxis": "y"
        },
        {
         "hovertemplate": "ihme_loc_id=BFA<br>mean_temperature=%{x}<br>total_anemia_prev=%{y}<extra></extra>",
         "legendgroup": "BFA",
         "marker": {
          "color": "#FFA15A",
          "symbol": "circle"
         },
         "mode": "markers",
         "name": "BFA",
         "orientation": "v",
         "showlegend": true,
         "type": "scatter",
         "x": [
          28.343999999999998
         ],
         "xaxis": "x",
         "y": [
          0.9220394736842106
         ],
         "yaxis": "y"
        },
        {
         "hovertemplate": "ihme_loc_id=KHM<br>mean_temperature=%{x}<br>total_anemia_prev=%{y}<extra></extra>",
         "legendgroup": "KHM",
         "marker": {
          "color": "#19d3f3",
          "symbol": "circle"
         },
         "mode": "markers",
         "name": "KHM",
         "orientation": "v",
         "showlegend": true,
         "type": "scatter",
         "x": [
          26.687616875712656,
          27.330129640542136,
          27.67296002118083
         ],
         "xaxis": "x",
         "y": [
          0.6465222348916762,
          0.631159634110357,
          0.5252846174212338
         ],
         "yaxis": "y"
        },
        {
         "hovertemplate": "ihme_loc_id=CMR<br>mean_temperature=%{x}<br>total_anemia_prev=%{y}<extra></extra>",
         "legendgroup": "CMR",
         "marker": {
          "color": "#FF6692",
          "symbol": "circle"
         },
         "mode": "markers",
         "name": "CMR",
         "orientation": "v",
         "showlegend": true,
         "type": "scatter",
         "x": [
          24.188669594420045,
          24.201236283833214
         ],
         "xaxis": "x",
         "y": [
          0.7215189873417721,
          0.6773957571324067
         ],
         "yaxis": "y"
        },
        {
         "hovertemplate": "ihme_loc_id=COD<br>mean_temperature=%{x}<br>total_anemia_prev=%{y}<extra></extra>",
         "legendgroup": "COD",
         "marker": {
          "color": "#B6E880",
          "symbol": "circle"
         },
         "mode": "markers",
         "name": "COD",
         "orientation": "v",
         "showlegend": true,
         "type": "scatter",
         "x": [
          23.53143434343434
         ],
         "xaxis": "x",
         "y": [
          0.7428571428571429
         ],
         "yaxis": "y"
        },
        {
         "hovertemplate": "ihme_loc_id=EGY<br>mean_temperature=%{x}<br>total_anemia_prev=%{y}<extra></extra>",
         "legendgroup": "EGY",
         "marker": {
          "color": "#FF97FF",
          "symbol": "circle"
         },
         "mode": "markers",
         "name": "EGY",
         "orientation": "v",
         "showlegend": true,
         "type": "scatter",
         "x": [
          21.519075709186552,
          22.30069823434992,
          22.897171306209852
         ],
         "xaxis": "x",
         "y": [
          0.2904922961292747,
          0.49464954521134297,
          0.2728051391862955
         ],
         "yaxis": "y"
        },
        {
         "hovertemplate": "ihme_loc_id=ETH<br>mean_temperature=%{x}<br>total_anemia_prev=%{y}<extra></extra>",
         "legendgroup": "ETH",
         "marker": {
          "color": "#FECB52",
          "symbol": "circle"
         },
         "mode": "markers",
         "name": "ETH",
         "orientation": "v",
         "showlegend": true,
         "type": "scatter",
         "x": [
          19.616926059263363,
          20.7299911239321,
          21.416570172224258
         ],
         "xaxis": "x",
         "y": [
          0.6020492938244254,
          0.5858204815266836,
          0.6783925735922804
         ],
         "yaxis": "y"
        },
        {
         "hovertemplate": "ihme_loc_id=GHA<br>mean_temperature=%{x}<br>total_anemia_prev=%{y}<extra></extra>",
         "legendgroup": "GHA",
         "marker": {
          "color": "#636efa",
          "symbol": "circle"
         },
         "mode": "markers",
         "name": "GHA",
         "orientation": "v",
         "showlegend": true,
         "type": "scatter",
         "x": [
          26.83001718705242,
          26.65425734381465,
          26.70324814814815
         ],
         "xaxis": "x",
         "y": [
          0.7521514629948365,
          0.795614398014067,
          0.6822222222222222
         ],
         "yaxis": "y"
        },
        {
         "hovertemplate": "ihme_loc_id=GIN<br>mean_temperature=%{x}<br>total_anemia_prev=%{y}<extra></extra>",
         "legendgroup": "GIN",
         "marker": {
          "color": "#EF553B",
          "symbol": "circle"
         },
         "mode": "markers",
         "name": "GIN",
         "orientation": "v",
         "showlegend": true,
         "type": "scatter",
         "x": [
          25.40762861169838,
          25.083371446229915,
          25.560891966759005
         ],
         "xaxis": "x",
         "y": [
          0.7832980972515856,
          0.7877008652657602,
          0.7767313019390581
         ],
         "yaxis": "y"
        },
        {
         "hovertemplate": "ihme_loc_id=HTI<br>mean_temperature=%{x}<br>total_anemia_prev=%{y}<extra></extra>",
         "legendgroup": "HTI",
         "marker": {
          "color": "#00cc96",
          "symbol": "circle"
         },
         "mode": "markers",
         "name": "HTI",
         "orientation": "v",
         "showlegend": true,
         "type": "scatter",
         "x": [
          24.21294834777029,
          24.57268335071255,
          24.483824091778203,
          24.76184996717006
         ],
         "xaxis": "x",
         "y": [
          0.6397176772537696,
          0.6093152589502955,
          0.6663479923518164,
          0.6925476034143139
         ],
         "yaxis": "y"
        },
        {
         "hovertemplate": "ihme_loc_id=JOR<br>mean_temperature=%{x}<br>total_anemia_prev=%{y}<extra></extra>",
         "legendgroup": "JOR",
         "marker": {
          "color": "#ab63fa",
          "symbol": "circle"
         },
         "mode": "markers",
         "name": "JOR",
         "orientation": "v",
         "showlegend": true,
         "type": "scatter",
         "x": [
          17.751115933044016,
          18.066828863042964,
          18.371617906238985
         ],
         "xaxis": "x",
         "y": [
          0.3880967141971482,
          0.42392594350818896,
          0.3893197039125837
         ],
         "yaxis": "y"
        },
        {
         "hovertemplate": "ihme_loc_id=MDG<br>mean_temperature=%{x}<br>total_anemia_prev=%{y}<extra></extra>",
         "legendgroup": "MDG",
         "marker": {
          "color": "#FFA15A",
          "symbol": "circle"
         },
         "mode": "markers",
         "name": "MDG",
         "orientation": "v",
         "showlegend": true,
         "type": "scatter",
         "x": [
          21.11369814651368,
          21.38761976612599
         ],
         "xaxis": "x",
         "y": [
          0.7881729920564872,
          0.5746887966804979
         ],
         "yaxis": "y"
        },
        {
         "hovertemplate": "ihme_loc_id=MWI<br>mean_temperature=%{x}<br>total_anemia_prev=%{y}<extra></extra>",
         "legendgroup": "MWI",
         "marker": {
          "color": "#19d3f3",
          "symbol": "circle"
         },
         "mode": "markers",
         "name": "MWI",
         "orientation": "v",
         "showlegend": true,
         "type": "scatter",
         "x": [
          21.56637332280979,
          21.91904042647712,
          22.248391807320314,
          21.263943396226413
         ],
         "xaxis": "x",
         "y": [
          0.7762430939226519,
          0.7203465126610396,
          0.7159112459700361,
          0.6962264150943396
         ],
         "yaxis": "y"
        },
        {
         "hovertemplate": "ihme_loc_id=MLI<br>mean_temperature=%{x}<br>total_anemia_prev=%{y}<extra></extra>",
         "legendgroup": "MLI",
         "marker": {
          "color": "#FF6692",
          "symbol": "circle"
         },
         "mode": "markers",
         "name": "MLI",
         "orientation": "v",
         "showlegend": true,
         "type": "scatter",
         "x": [
          28.29328867235079,
          28.038696937697996
         ],
         "xaxis": "x",
         "y": [
          0.8160779537149817,
          0.8211193241816261
         ],
         "yaxis": "y"
        },
        {
         "hovertemplate": "ihme_loc_id=MDA<br>mean_temperature=%{x}<br>total_anemia_prev=%{y}<extra></extra>",
         "legendgroup": "MDA",
         "marker": {
          "color": "#B6E880",
          "symbol": "circle"
         },
         "mode": "markers",
         "name": "MDA",
         "orientation": "v",
         "showlegend": true,
         "type": "scatter",
         "x": [
          10.23932634730539
         ],
         "xaxis": "x",
         "y": [
          0.28892215568862273
         ],
         "yaxis": "y"
        },
        {
         "hovertemplate": "ihme_loc_id=NPL<br>mean_temperature=%{x}<br>total_anemia_prev=%{y}<extra></extra>",
         "legendgroup": "NPL",
         "marker": {
          "color": "#FF97FF",
          "symbol": "circle"
         },
         "mode": "markers",
         "name": "NPL",
         "orientation": "v",
         "showlegend": true,
         "type": "scatter",
         "x": [
          19.730682819383258,
          18.716555304740407,
          20.422244623655914
         ],
         "xaxis": "x",
         "y": [
          0.5320384461353624,
          0.5259593679458239,
          0.578405017921147
         ],
         "yaxis": "y"
        },
        {
         "hovertemplate": "ihme_loc_id=RWA<br>mean_temperature=%{x}<br>total_anemia_prev=%{y}<extra></extra>",
         "legendgroup": "RWA",
         "marker": {
          "color": "#FECB52",
          "symbol": "circle"
         },
         "mode": "markers",
         "name": "RWA",
         "orientation": "v",
         "showlegend": true,
         "type": "scatter",
         "x": [
          19.285233002291825,
          18.862544886807182,
          19.02965093411996,
          19.335574745186864
         ],
         "xaxis": "x",
         "y": [
          0.6131907308377896,
          0.5343481654957065,
          0.5068829891838741,
          0.4844280860702152
         ],
         "yaxis": "y"
        },
        {
         "hovertemplate": "ihme_loc_id=SWZ<br>mean_temperature=%{x}<br>total_anemia_prev=%{y}<extra></extra>",
         "legendgroup": "SWZ",
         "marker": {
          "color": "#636efa",
          "symbol": "circle"
         },
         "mode": "markers",
         "name": "SWZ",
         "orientation": "v",
         "showlegend": true,
         "type": "scatter",
         "x": [
          18.75301002004008
         ],
         "xaxis": "x",
         "y": [
          0.4657314629258517
         ],
         "yaxis": "y"
        },
        {
         "hovertemplate": "ihme_loc_id=ZWE<br>mean_temperature=%{x}<br>total_anemia_prev=%{y}<extra></extra>",
         "legendgroup": "ZWE",
         "marker": {
          "color": "#EF553B",
          "symbol": "circle"
         },
         "mode": "markers",
         "name": "ZWE",
         "orientation": "v",
         "showlegend": true,
         "type": "scatter",
         "x": [
          21.169069979484842,
          20.560518183979084,
          21.01386594066842
         ],
         "xaxis": "x",
         "y": [
          0.6765443355368133,
          0.6798193487045401,
          0.49023657529102516
         ],
         "yaxis": "y"
        },
        {
         "hovertemplate": "ihme_loc_id=SLE<br>mean_temperature=%{x}<br>total_anemia_prev=%{y}<extra></extra>",
         "legendgroup": "SLE",
         "marker": {
          "color": "#00cc96",
          "symbol": "circle"
         },
         "mode": "markers",
         "name": "SLE",
         "orientation": "v",
         "showlegend": true,
         "type": "scatter",
         "x": [
          25.52738467709587
         ],
         "xaxis": "x",
         "y": [
          0.7581227436823105
         ],
         "yaxis": "y"
        },
        {
         "hovertemplate": "ihme_loc_id=TLS<br>mean_temperature=%{x}<br>total_anemia_prev=%{y}<extra></extra>",
         "legendgroup": "TLS",
         "marker": {
          "color": "#ab63fa",
          "symbol": "circle"
         },
         "mode": "markers",
         "name": "TLS",
         "orientation": "v",
         "showlegend": true,
         "type": "scatter",
         "x": [
          23.863709929632527,
          24.50520925652388
         ],
         "xaxis": "x",
         "y": [
          0.46168881939014855,
          0.4687346134908912
         ],
         "yaxis": "y"
        },
        {
         "hovertemplate": "ihme_loc_id=TZA<br>mean_temperature=%{x}<br>total_anemia_prev=%{y}<extra></extra>",
         "legendgroup": "TZA",
         "marker": {
          "color": "#FFA15A",
          "symbol": "circle"
         },
         "mode": "markers",
         "name": "TZA",
         "orientation": "v",
         "showlegend": true,
         "type": "scatter",
         "x": [
          23.100730711043877,
          23.047299152633272
         ],
         "xaxis": "x",
         "y": [
          0.6804841149773071,
          0.657942722299689
         ],
         "yaxis": "y"
        },
        {
         "hovertemplate": "ihme_loc_id=GUY<br>mean_temperature=%{x}<br>total_anemia_prev=%{y}<extra></extra>",
         "legendgroup": "GUY",
         "marker": {
          "color": "#19d3f3",
          "symbol": "circle"
         },
         "mode": "markers",
         "name": "GUY",
         "orientation": "v",
         "showlegend": true,
         "type": "scatter",
         "x": [
          25.578783783783784
         ],
         "xaxis": "x",
         "y": [
          0.3783783783783784
         ],
         "yaxis": "y"
        },
        {
         "hovertemplate": "ihme_loc_id=LSO<br>mean_temperature=%{x}<br>total_anemia_prev=%{y}<extra></extra>",
         "legendgroup": "LSO",
         "marker": {
          "color": "#FF6692",
          "symbol": "circle"
         },
         "mode": "markers",
         "name": "LSO",
         "orientation": "v",
         "showlegend": true,
         "type": "scatter",
         "x": [
          11.79220281416788,
          12.487451868629671
         ],
         "xaxis": "x",
         "y": [
          0.5773896166909267,
          0.6098527746319365
         ],
         "yaxis": "y"
        },
        {
         "hovertemplate": "ihme_loc_id=BDI<br>mean_temperature=%{x}<br>total_anemia_prev=%{y}<extra></extra>",
         "legendgroup": "BDI",
         "marker": {
          "color": "#B6E880",
          "symbol": "circle"
         },
         "mode": "markers",
         "name": "BDI",
         "orientation": "v",
         "showlegend": true,
         "type": "scatter",
         "x": [
          20.73520061255743,
          20.018572189664358,
          20.682078465562338
         ],
         "xaxis": "x",
         "y": [
          0.5571209800918836,
          0.6108151305274374,
          0.7000871839581517
         ],
         "yaxis": "y"
        },
        {
         "hovertemplate": "ihme_loc_id=MOZ<br>mean_temperature=%{x}<br>total_anemia_prev=%{y}<extra></extra>",
         "legendgroup": "MOZ",
         "marker": {
          "color": "#FF97FF",
          "symbol": "circle"
         },
         "mode": "markers",
         "name": "MOZ",
         "orientation": "v",
         "showlegend": true,
         "type": "scatter",
         "x": [
          23.45050193050193
         ],
         "xaxis": "x",
         "y": [
          0.6773013615118878
         ],
         "yaxis": "y"
        },
        {
         "hovertemplate": "ihme_loc_id=UGA<br>mean_temperature=%{x}<br>total_anemia_prev=%{y}<extra></extra>",
         "legendgroup": "UGA",
         "marker": {
          "color": "#FECB52",
          "symbol": "circle"
         },
         "mode": "markers",
         "name": "UGA",
         "orientation": "v",
         "showlegend": true,
         "type": "scatter",
         "x": [
          21.971083372585962,
          22.941343346731543
         ],
         "xaxis": "x",
         "y": [
          0.5850211964201601,
          0.6454410831394118
         ],
         "yaxis": "y"
        },
        {
         "hovertemplate": "ihme_loc_id=SEN<br>mean_temperature=%{x}<br>total_anemia_prev=%{y}<extra></extra>",
         "legendgroup": "SEN",
         "marker": {
          "color": "#636efa",
          "symbol": "circle"
         },
         "mode": "markers",
         "name": "SEN",
         "orientation": "v",
         "showlegend": true,
         "type": "scatter",
         "x": [
          27.693729615991582,
          27.46119896193772,
          27.61961168216675,
          27.517824066655983,
          28.082852582159624,
          28.106276273519963
         ],
         "xaxis": "x",
         "y": [
          0.7619673855865334,
          0.7058823529411765,
          0.5873715124816447,
          0.698125300432623,
          0.6809389671361502,
          0.7233593391463974
         ],
         "yaxis": "y"
        },
        {
         "hovertemplate": "ihme_loc_id=NER<br>mean_temperature=%{x}<br>total_anemia_prev=%{y}<extra></extra>",
         "legendgroup": "NER",
         "marker": {
          "color": "#EF553B",
          "symbol": "circle"
         },
         "mode": "markers",
         "name": "NER",
         "orientation": "v",
         "showlegend": true,
         "type": "scatter",
         "x": [
          28.2854671638699
         ],
         "xaxis": "x",
         "y": [
          0.7791588978661694
         ],
         "yaxis": "y"
        },
        {
         "hovertemplate": "ihme_loc_id=TGO<br>mean_temperature=%{x}<br>total_anemia_prev=%{y}<extra></extra>",
         "legendgroup": "TGO",
         "marker": {
          "color": "#00cc96",
          "symbol": "circle"
         },
         "mode": "markers",
         "name": "TGO",
         "orientation": "v",
         "showlegend": true,
         "type": "scatter",
         "x": [
          26.903291139240505
         ],
         "xaxis": "x",
         "y": [
          0.7097869712874344
         ],
         "yaxis": "y"
        },
        {
         "hovertemplate": "ihme_loc_id=KGZ<br>mean_temperature=%{x}<br>total_anemia_prev=%{y}<extra></extra>",
         "legendgroup": "KGZ",
         "marker": {
          "color": "#ab63fa",
          "symbol": "circle"
         },
         "mode": "markers",
         "name": "KGZ",
         "orientation": "v",
         "showlegend": true,
         "type": "scatter",
         "x": [
          6.604982001439884
         ],
         "xaxis": "x",
         "y": [
          0.5399568034557235
         ],
         "yaxis": "y"
        },
        {
         "hovertemplate": "ihme_loc_id=HND<br>mean_temperature=%{x}<br>total_anemia_prev=%{y}<extra></extra>",
         "legendgroup": "HND",
         "marker": {
          "color": "#FFA15A",
          "symbol": "circle"
         },
         "mode": "markers",
         "name": "HND",
         "orientation": "v",
         "showlegend": true,
         "type": "scatter",
         "x": [
          22.415865589111018
         ],
         "xaxis": "x",
         "y": [
          0.34638297872340423
         ],
         "yaxis": "y"
        },
        {
         "hovertemplate": "ihme_loc_id=NAM<br>mean_temperature=%{x}<br>total_anemia_prev=%{y}<extra></extra>",
         "legendgroup": "NAM",
         "marker": {
          "color": "#19d3f3",
          "symbol": "circle"
         },
         "mode": "markers",
         "name": "NAM",
         "orientation": "v",
         "showlegend": true,
         "type": "scatter",
         "x": [
          22.5864901793339
         ],
         "xaxis": "x",
         "y": [
          0.5888129803586678
         ],
         "yaxis": "y"
        },
        {
         "hovertemplate": "ihme_loc_id=GTM<br>mean_temperature=%{x}<br>total_anemia_prev=%{y}<extra></extra>",
         "legendgroup": "GTM",
         "marker": {
          "color": "#FF6692",
          "symbol": "circle"
         },
         "mode": "markers",
         "name": "GTM",
         "orientation": "v",
         "showlegend": true,
         "type": "scatter",
         "x": [
          20.18084360625575
         ],
         "xaxis": "x",
         "y": [
          0.4098436062557498
         ],
         "yaxis": "y"
        },
        {
         "hovertemplate": "ihme_loc_id=IND<br>mean_temperature=%{x}<br>total_anemia_prev=%{y}<extra></extra>",
         "legendgroup": "IND",
         "marker": {
          "color": "#B6E880",
          "symbol": "circle"
         },
         "mode": "markers",
         "name": "IND",
         "orientation": "v",
         "showlegend": true,
         "type": "scatter",
         "x": [
          24.218003784856013,
          23.839762498158425
         ],
         "xaxis": "x",
         "y": [
          0.5978709715688466,
          0.6963266509796212
         ],
         "yaxis": "y"
        },
        {
         "hovertemplate": "ihme_loc_id=MMR<br>mean_temperature=%{x}<br>total_anemia_prev=%{y}<extra></extra>",
         "legendgroup": "MMR",
         "marker": {
          "color": "#FF97FF",
          "symbol": "circle"
         },
         "mode": "markers",
         "name": "MMR",
         "orientation": "v",
         "showlegend": true,
         "type": "scatter",
         "x": [
          24.868163877092183
         ],
         "xaxis": "x",
         "y": [
          0.5663252560579566
         ],
         "yaxis": "y"
        },
        {
         "hovertemplate": "ihme_loc_id=ZAF<br>mean_temperature=%{x}<br>total_anemia_prev=%{y}<extra></extra>",
         "legendgroup": "ZAF",
         "marker": {
          "color": "#FECB52",
          "symbol": "circle"
         },
         "mode": "markers",
         "name": "ZAF",
         "orientation": "v",
         "showlegend": true,
         "type": "scatter",
         "x": [
          18.618514680483592
         ],
         "xaxis": "x",
         "y": [
          0.7089810017271158
         ],
         "yaxis": "y"
        },
        {
         "hovertemplate": "ihme_loc_id=AGO<br>mean_temperature=%{x}<br>total_anemia_prev=%{y}<extra></extra>",
         "legendgroup": "AGO",
         "marker": {
          "color": "#636efa",
          "symbol": "circle"
         },
         "mode": "markers",
         "name": "AGO",
         "orientation": "v",
         "showlegend": true,
         "type": "scatter",
         "x": [
          22.844123637663035
         ],
         "xaxis": "x",
         "y": [
          0.717705913882437
         ],
         "yaxis": "y"
        },
        {
         "hovertemplate": "ihme_loc_id=ARM<br>mean_temperature=%{x}<br>total_anemia_prev=%{y}<extra></extra>",
         "legendgroup": "ARM",
         "marker": {
          "color": "#EF553B",
          "symbol": "circle"
         },
         "mode": "markers",
         "name": "ARM",
         "orientation": "v",
         "showlegend": true,
         "type": "scatter",
         "x": [
          8.349413059427732
         ],
         "xaxis": "x",
         "y": [
          0.2619222303741746
         ],
         "yaxis": "y"
        },
        {
         "hovertemplate": "ihme_loc_id=ZMB<br>mean_temperature=%{x}<br>total_anemia_prev=%{y}<extra></extra>",
         "legendgroup": "ZMB",
         "marker": {
          "color": "#00cc96",
          "symbol": "circle"
         },
         "mode": "markers",
         "name": "ZMB",
         "orientation": "v",
         "showlegend": true,
         "type": "scatter",
         "x": [
          21.782434886499402
         ],
         "xaxis": "x",
         "y": [
          0.7009827420901247
         ],
         "yaxis": "y"
        },
        {
         "hovertemplate": "ihme_loc_id=LBR<br>mean_temperature=%{x}<br>total_anemia_prev=%{y}<extra></extra>",
         "legendgroup": "LBR",
         "marker": {
          "color": "#ab63fa",
          "symbol": "circle"
         },
         "mode": "markers",
         "name": "LBR",
         "orientation": "v",
         "showlegend": true,
         "type": "scatter",
         "x": [
          25.453223484848483
         ],
         "xaxis": "x",
         "y": [
          0.7045454545454546
         ],
         "yaxis": "y"
        }
       ],
       "layout": {
        "legend": {
         "title": {
          "text": "ihme_loc_id"
         },
         "tracegroupgap": 0
        },
        "margin": {
         "t": 60
        },
        "template": {
         "data": {
          "bar": [
           {
            "error_x": {
             "color": "#2a3f5f"
            },
            "error_y": {
             "color": "#2a3f5f"
            },
            "marker": {
             "line": {
              "color": "#E5ECF6",
              "width": 0.5
             },
             "pattern": {
              "fillmode": "overlay",
              "size": 10,
              "solidity": 0.2
             }
            },
            "type": "bar"
           }
          ],
          "barpolar": [
           {
            "marker": {
             "line": {
              "color": "#E5ECF6",
              "width": 0.5
             },
             "pattern": {
              "fillmode": "overlay",
              "size": 10,
              "solidity": 0.2
             }
            },
            "type": "barpolar"
           }
          ],
          "carpet": [
           {
            "aaxis": {
             "endlinecolor": "#2a3f5f",
             "gridcolor": "white",
             "linecolor": "white",
             "minorgridcolor": "white",
             "startlinecolor": "#2a3f5f"
            },
            "baxis": {
             "endlinecolor": "#2a3f5f",
             "gridcolor": "white",
             "linecolor": "white",
             "minorgridcolor": "white",
             "startlinecolor": "#2a3f5f"
            },
            "type": "carpet"
           }
          ],
          "choropleth": [
           {
            "colorbar": {
             "outlinewidth": 0,
             "ticks": ""
            },
            "type": "choropleth"
           }
          ],
          "contour": [
           {
            "colorbar": {
             "outlinewidth": 0,
             "ticks": ""
            },
            "colorscale": [
             [
              0,
              "#0d0887"
             ],
             [
              0.1111111111111111,
              "#46039f"
             ],
             [
              0.2222222222222222,
              "#7201a8"
             ],
             [
              0.3333333333333333,
              "#9c179e"
             ],
             [
              0.4444444444444444,
              "#bd3786"
             ],
             [
              0.5555555555555556,
              "#d8576b"
             ],
             [
              0.6666666666666666,
              "#ed7953"
             ],
             [
              0.7777777777777778,
              "#fb9f3a"
             ],
             [
              0.8888888888888888,
              "#fdca26"
             ],
             [
              1,
              "#f0f921"
             ]
            ],
            "type": "contour"
           }
          ],
          "contourcarpet": [
           {
            "colorbar": {
             "outlinewidth": 0,
             "ticks": ""
            },
            "type": "contourcarpet"
           }
          ],
          "heatmap": [
           {
            "colorbar": {
             "outlinewidth": 0,
             "ticks": ""
            },
            "colorscale": [
             [
              0,
              "#0d0887"
             ],
             [
              0.1111111111111111,
              "#46039f"
             ],
             [
              0.2222222222222222,
              "#7201a8"
             ],
             [
              0.3333333333333333,
              "#9c179e"
             ],
             [
              0.4444444444444444,
              "#bd3786"
             ],
             [
              0.5555555555555556,
              "#d8576b"
             ],
             [
              0.6666666666666666,
              "#ed7953"
             ],
             [
              0.7777777777777778,
              "#fb9f3a"
             ],
             [
              0.8888888888888888,
              "#fdca26"
             ],
             [
              1,
              "#f0f921"
             ]
            ],
            "type": "heatmap"
           }
          ],
          "heatmapgl": [
           {
            "colorbar": {
             "outlinewidth": 0,
             "ticks": ""
            },
            "colorscale": [
             [
              0,
              "#0d0887"
             ],
             [
              0.1111111111111111,
              "#46039f"
             ],
             [
              0.2222222222222222,
              "#7201a8"
             ],
             [
              0.3333333333333333,
              "#9c179e"
             ],
             [
              0.4444444444444444,
              "#bd3786"
             ],
             [
              0.5555555555555556,
              "#d8576b"
             ],
             [
              0.6666666666666666,
              "#ed7953"
             ],
             [
              0.7777777777777778,
              "#fb9f3a"
             ],
             [
              0.8888888888888888,
              "#fdca26"
             ],
             [
              1,
              "#f0f921"
             ]
            ],
            "type": "heatmapgl"
           }
          ],
          "histogram": [
           {
            "marker": {
             "pattern": {
              "fillmode": "overlay",
              "size": 10,
              "solidity": 0.2
             }
            },
            "type": "histogram"
           }
          ],
          "histogram2d": [
           {
            "colorbar": {
             "outlinewidth": 0,
             "ticks": ""
            },
            "colorscale": [
             [
              0,
              "#0d0887"
             ],
             [
              0.1111111111111111,
              "#46039f"
             ],
             [
              0.2222222222222222,
              "#7201a8"
             ],
             [
              0.3333333333333333,
              "#9c179e"
             ],
             [
              0.4444444444444444,
              "#bd3786"
             ],
             [
              0.5555555555555556,
              "#d8576b"
             ],
             [
              0.6666666666666666,
              "#ed7953"
             ],
             [
              0.7777777777777778,
              "#fb9f3a"
             ],
             [
              0.8888888888888888,
              "#fdca26"
             ],
             [
              1,
              "#f0f921"
             ]
            ],
            "type": "histogram2d"
           }
          ],
          "histogram2dcontour": [
           {
            "colorbar": {
             "outlinewidth": 0,
             "ticks": ""
            },
            "colorscale": [
             [
              0,
              "#0d0887"
             ],
             [
              0.1111111111111111,
              "#46039f"
             ],
             [
              0.2222222222222222,
              "#7201a8"
             ],
             [
              0.3333333333333333,
              "#9c179e"
             ],
             [
              0.4444444444444444,
              "#bd3786"
             ],
             [
              0.5555555555555556,
              "#d8576b"
             ],
             [
              0.6666666666666666,
              "#ed7953"
             ],
             [
              0.7777777777777778,
              "#fb9f3a"
             ],
             [
              0.8888888888888888,
              "#fdca26"
             ],
             [
              1,
              "#f0f921"
             ]
            ],
            "type": "histogram2dcontour"
           }
          ],
          "mesh3d": [
           {
            "colorbar": {
             "outlinewidth": 0,
             "ticks": ""
            },
            "type": "mesh3d"
           }
          ],
          "parcoords": [
           {
            "line": {
             "colorbar": {
              "outlinewidth": 0,
              "ticks": ""
             }
            },
            "type": "parcoords"
           }
          ],
          "pie": [
           {
            "automargin": true,
            "type": "pie"
           }
          ],
          "scatter": [
           {
            "fillpattern": {
             "fillmode": "overlay",
             "size": 10,
             "solidity": 0.2
            },
            "type": "scatter"
           }
          ],
          "scatter3d": [
           {
            "line": {
             "colorbar": {
              "outlinewidth": 0,
              "ticks": ""
             }
            },
            "marker": {
             "colorbar": {
              "outlinewidth": 0,
              "ticks": ""
             }
            },
            "type": "scatter3d"
           }
          ],
          "scattercarpet": [
           {
            "marker": {
             "colorbar": {
              "outlinewidth": 0,
              "ticks": ""
             }
            },
            "type": "scattercarpet"
           }
          ],
          "scattergeo": [
           {
            "marker": {
             "colorbar": {
              "outlinewidth": 0,
              "ticks": ""
             }
            },
            "type": "scattergeo"
           }
          ],
          "scattergl": [
           {
            "marker": {
             "colorbar": {
              "outlinewidth": 0,
              "ticks": ""
             }
            },
            "type": "scattergl"
           }
          ],
          "scattermapbox": [
           {
            "marker": {
             "colorbar": {
              "outlinewidth": 0,
              "ticks": ""
             }
            },
            "type": "scattermapbox"
           }
          ],
          "scatterpolar": [
           {
            "marker": {
             "colorbar": {
              "outlinewidth": 0,
              "ticks": ""
             }
            },
            "type": "scatterpolar"
           }
          ],
          "scatterpolargl": [
           {
            "marker": {
             "colorbar": {
              "outlinewidth": 0,
              "ticks": ""
             }
            },
            "type": "scatterpolargl"
           }
          ],
          "scatterternary": [
           {
            "marker": {
             "colorbar": {
              "outlinewidth": 0,
              "ticks": ""
             }
            },
            "type": "scatterternary"
           }
          ],
          "surface": [
           {
            "colorbar": {
             "outlinewidth": 0,
             "ticks": ""
            },
            "colorscale": [
             [
              0,
              "#0d0887"
             ],
             [
              0.1111111111111111,
              "#46039f"
             ],
             [
              0.2222222222222222,
              "#7201a8"
             ],
             [
              0.3333333333333333,
              "#9c179e"
             ],
             [
              0.4444444444444444,
              "#bd3786"
             ],
             [
              0.5555555555555556,
              "#d8576b"
             ],
             [
              0.6666666666666666,
              "#ed7953"
             ],
             [
              0.7777777777777778,
              "#fb9f3a"
             ],
             [
              0.8888888888888888,
              "#fdca26"
             ],
             [
              1,
              "#f0f921"
             ]
            ],
            "type": "surface"
           }
          ],
          "table": [
           {
            "cells": {
             "fill": {
              "color": "#EBF0F8"
             },
             "line": {
              "color": "white"
             }
            },
            "header": {
             "fill": {
              "color": "#C8D4E3"
             },
             "line": {
              "color": "white"
             }
            },
            "type": "table"
           }
          ]
         },
         "layout": {
          "annotationdefaults": {
           "arrowcolor": "#2a3f5f",
           "arrowhead": 0,
           "arrowwidth": 1
          },
          "autotypenumbers": "strict",
          "coloraxis": {
           "colorbar": {
            "outlinewidth": 0,
            "ticks": ""
           }
          },
          "colorscale": {
           "diverging": [
            [
             0,
             "#8e0152"
            ],
            [
             0.1,
             "#c51b7d"
            ],
            [
             0.2,
             "#de77ae"
            ],
            [
             0.3,
             "#f1b6da"
            ],
            [
             0.4,
             "#fde0ef"
            ],
            [
             0.5,
             "#f7f7f7"
            ],
            [
             0.6,
             "#e6f5d0"
            ],
            [
             0.7,
             "#b8e186"
            ],
            [
             0.8,
             "#7fbc41"
            ],
            [
             0.9,
             "#4d9221"
            ],
            [
             1,
             "#276419"
            ]
           ],
           "sequential": [
            [
             0,
             "#0d0887"
            ],
            [
             0.1111111111111111,
             "#46039f"
            ],
            [
             0.2222222222222222,
             "#7201a8"
            ],
            [
             0.3333333333333333,
             "#9c179e"
            ],
            [
             0.4444444444444444,
             "#bd3786"
            ],
            [
             0.5555555555555556,
             "#d8576b"
            ],
            [
             0.6666666666666666,
             "#ed7953"
            ],
            [
             0.7777777777777778,
             "#fb9f3a"
            ],
            [
             0.8888888888888888,
             "#fdca26"
            ],
            [
             1,
             "#f0f921"
            ]
           ],
           "sequentialminus": [
            [
             0,
             "#0d0887"
            ],
            [
             0.1111111111111111,
             "#46039f"
            ],
            [
             0.2222222222222222,
             "#7201a8"
            ],
            [
             0.3333333333333333,
             "#9c179e"
            ],
            [
             0.4444444444444444,
             "#bd3786"
            ],
            [
             0.5555555555555556,
             "#d8576b"
            ],
            [
             0.6666666666666666,
             "#ed7953"
            ],
            [
             0.7777777777777778,
             "#fb9f3a"
            ],
            [
             0.8888888888888888,
             "#fdca26"
            ],
            [
             1,
             "#f0f921"
            ]
           ]
          },
          "colorway": [
           "#636efa",
           "#EF553B",
           "#00cc96",
           "#ab63fa",
           "#FFA15A",
           "#19d3f3",
           "#FF6692",
           "#B6E880",
           "#FF97FF",
           "#FECB52"
          ],
          "font": {
           "color": "#2a3f5f"
          },
          "geo": {
           "bgcolor": "white",
           "lakecolor": "white",
           "landcolor": "#E5ECF6",
           "showlakes": true,
           "showland": true,
           "subunitcolor": "white"
          },
          "hoverlabel": {
           "align": "left"
          },
          "hovermode": "closest",
          "mapbox": {
           "style": "light"
          },
          "paper_bgcolor": "white",
          "plot_bgcolor": "#E5ECF6",
          "polar": {
           "angularaxis": {
            "gridcolor": "white",
            "linecolor": "white",
            "ticks": ""
           },
           "bgcolor": "#E5ECF6",
           "radialaxis": {
            "gridcolor": "white",
            "linecolor": "white",
            "ticks": ""
           }
          },
          "scene": {
           "xaxis": {
            "backgroundcolor": "#E5ECF6",
            "gridcolor": "white",
            "gridwidth": 2,
            "linecolor": "white",
            "showbackground": true,
            "ticks": "",
            "zerolinecolor": "white"
           },
           "yaxis": {
            "backgroundcolor": "#E5ECF6",
            "gridcolor": "white",
            "gridwidth": 2,
            "linecolor": "white",
            "showbackground": true,
            "ticks": "",
            "zerolinecolor": "white"
           },
           "zaxis": {
            "backgroundcolor": "#E5ECF6",
            "gridcolor": "white",
            "gridwidth": 2,
            "linecolor": "white",
            "showbackground": true,
            "ticks": "",
            "zerolinecolor": "white"
           }
          },
          "shapedefaults": {
           "line": {
            "color": "#2a3f5f"
           }
          },
          "ternary": {
           "aaxis": {
            "gridcolor": "white",
            "linecolor": "white",
            "ticks": ""
           },
           "baxis": {
            "gridcolor": "white",
            "linecolor": "white",
            "ticks": ""
           },
           "bgcolor": "#E5ECF6",
           "caxis": {
            "gridcolor": "white",
            "linecolor": "white",
            "ticks": ""
           }
          },
          "title": {
           "x": 0.05
          },
          "xaxis": {
           "automargin": true,
           "gridcolor": "white",
           "linecolor": "white",
           "ticks": "",
           "title": {
            "standoff": 15
           },
           "zerolinecolor": "white",
           "zerolinewidth": 2
          },
          "yaxis": {
           "automargin": true,
           "gridcolor": "white",
           "linecolor": "white",
           "ticks": "",
           "title": {
            "standoff": 15
           },
           "zerolinecolor": "white",
           "zerolinewidth": 2
          }
         }
        },
        "xaxis": {
         "anchor": "y",
         "domain": [
          0,
          1
         ],
         "title": {
          "text": "mean_temperature"
         }
        },
        "yaxis": {
         "anchor": "x",
         "domain": [
          0,
          1
         ],
         "title": {
          "text": "total_anemia_prev"
         }
        }
       }
      },
      "text/html": [
       "<div>                            <div id=\"dd05143d-dab2-4a00-819e-5894fec7198a\" class=\"plotly-graph-div\" style=\"height:525px; width:100%;\"></div>            <script type=\"text/javascript\">                require([\"plotly\"], function(Plotly) {                    window.PLOTLYENV=window.PLOTLYENV || {};                                    if (document.getElementById(\"dd05143d-dab2-4a00-819e-5894fec7198a\")) {                    Plotly.newPlot(                        \"dd05143d-dab2-4a00-819e-5894fec7198a\",                        [{\"hovertemplate\":\"ihme_loc_id=CIV\\u003cbr\\u003emean_temperature=%{x}\\u003cbr\\u003etotal_anemia_prev=%{y}\\u003cextra\\u003e\\u003c\\u002fextra\\u003e\",\"legendgroup\":\"CIV\",\"marker\":{\"color\":\"#636efa\",\"symbol\":\"circle\"},\"mode\":\"markers\",\"name\":\"CIV\",\"orientation\":\"v\",\"showlegend\":true,\"x\":[25.796234866828087],\"xaxis\":\"x\",\"y\":[0.7557506053268765],\"yaxis\":\"y\",\"type\":\"scatter\"},{\"hovertemplate\":\"ihme_loc_id=ALB\\u003cbr\\u003emean_temperature=%{x}\\u003cbr\\u003etotal_anemia_prev=%{y}\\u003cextra\\u003e\\u003c\\u002fextra\\u003e\",\"legendgroup\":\"ALB\",\"marker\":{\"color\":\"#EF553B\",\"symbol\":\"circle\"},\"mode\":\"markers\",\"name\":\"ALB\",\"orientation\":\"v\",\"showlegend\":true,\"x\":[12.809387027797577,13.24414800389484],\"xaxis\":\"x\",\"y\":[0.20812544547398432,0.31499513145082764],\"yaxis\":\"y\",\"type\":\"scatter\"},{\"hovertemplate\":\"ihme_loc_id=BEN\\u003cbr\\u003emean_temperature=%{x}\\u003cbr\\u003etotal_anemia_prev=%{y}\\u003cextra\\u003e\\u003c\\u002fextra\\u003e\",\"legendgroup\":\"BEN\",\"marker\":{\"color\":\"#00cc96\",\"symbol\":\"circle\"},\"mode\":\"markers\",\"name\":\"BEN\",\"orientation\":\"v\",\"showlegend\":true,\"x\":[26.686295275590552,26.586813478376225,27.19226455199477],\"xaxis\":\"x\",\"y\":[0.7996062992125984,0.5935261342531175,0.7176258992805755],\"yaxis\":\"y\",\"type\":\"scatter\"},{\"hovertemplate\":\"ihme_loc_id=BOL\\u003cbr\\u003emean_temperature=%{x}\\u003cbr\\u003etotal_anemia_prev=%{y}\\u003cextra\\u003e\\u003c\\u002fextra\\u003e\",\"legendgroup\":\"BOL\",\"marker\":{\"color\":\"#ab63fa\",\"symbol\":\"circle\"},\"mode\":\"markers\",\"name\":\"BOL\",\"orientation\":\"v\",\"showlegend\":true,\"x\":[14.773294930875577],\"xaxis\":\"x\",\"y\":[0.5787250384024577],\"yaxis\":\"y\",\"type\":\"scatter\"},{\"hovertemplate\":\"ihme_loc_id=BFA\\u003cbr\\u003emean_temperature=%{x}\\u003cbr\\u003etotal_anemia_prev=%{y}\\u003cextra\\u003e\\u003c\\u002fextra\\u003e\",\"legendgroup\":\"BFA\",\"marker\":{\"color\":\"#FFA15A\",\"symbol\":\"circle\"},\"mode\":\"markers\",\"name\":\"BFA\",\"orientation\":\"v\",\"showlegend\":true,\"x\":[28.343999999999998],\"xaxis\":\"x\",\"y\":[0.9220394736842106],\"yaxis\":\"y\",\"type\":\"scatter\"},{\"hovertemplate\":\"ihme_loc_id=KHM\\u003cbr\\u003emean_temperature=%{x}\\u003cbr\\u003etotal_anemia_prev=%{y}\\u003cextra\\u003e\\u003c\\u002fextra\\u003e\",\"legendgroup\":\"KHM\",\"marker\":{\"color\":\"#19d3f3\",\"symbol\":\"circle\"},\"mode\":\"markers\",\"name\":\"KHM\",\"orientation\":\"v\",\"showlegend\":true,\"x\":[26.687616875712656,27.330129640542136,27.67296002118083],\"xaxis\":\"x\",\"y\":[0.6465222348916762,0.631159634110357,0.5252846174212338],\"yaxis\":\"y\",\"type\":\"scatter\"},{\"hovertemplate\":\"ihme_loc_id=CMR\\u003cbr\\u003emean_temperature=%{x}\\u003cbr\\u003etotal_anemia_prev=%{y}\\u003cextra\\u003e\\u003c\\u002fextra\\u003e\",\"legendgroup\":\"CMR\",\"marker\":{\"color\":\"#FF6692\",\"symbol\":\"circle\"},\"mode\":\"markers\",\"name\":\"CMR\",\"orientation\":\"v\",\"showlegend\":true,\"x\":[24.188669594420045,24.201236283833214],\"xaxis\":\"x\",\"y\":[0.7215189873417721,0.6773957571324067],\"yaxis\":\"y\",\"type\":\"scatter\"},{\"hovertemplate\":\"ihme_loc_id=COD\\u003cbr\\u003emean_temperature=%{x}\\u003cbr\\u003etotal_anemia_prev=%{y}\\u003cextra\\u003e\\u003c\\u002fextra\\u003e\",\"legendgroup\":\"COD\",\"marker\":{\"color\":\"#B6E880\",\"symbol\":\"circle\"},\"mode\":\"markers\",\"name\":\"COD\",\"orientation\":\"v\",\"showlegend\":true,\"x\":[23.53143434343434],\"xaxis\":\"x\",\"y\":[0.7428571428571429],\"yaxis\":\"y\",\"type\":\"scatter\"},{\"hovertemplate\":\"ihme_loc_id=EGY\\u003cbr\\u003emean_temperature=%{x}\\u003cbr\\u003etotal_anemia_prev=%{y}\\u003cextra\\u003e\\u003c\\u002fextra\\u003e\",\"legendgroup\":\"EGY\",\"marker\":{\"color\":\"#FF97FF\",\"symbol\":\"circle\"},\"mode\":\"markers\",\"name\":\"EGY\",\"orientation\":\"v\",\"showlegend\":true,\"x\":[21.519075709186552,22.30069823434992,22.897171306209852],\"xaxis\":\"x\",\"y\":[0.2904922961292747,0.49464954521134297,0.2728051391862955],\"yaxis\":\"y\",\"type\":\"scatter\"},{\"hovertemplate\":\"ihme_loc_id=ETH\\u003cbr\\u003emean_temperature=%{x}\\u003cbr\\u003etotal_anemia_prev=%{y}\\u003cextra\\u003e\\u003c\\u002fextra\\u003e\",\"legendgroup\":\"ETH\",\"marker\":{\"color\":\"#FECB52\",\"symbol\":\"circle\"},\"mode\":\"markers\",\"name\":\"ETH\",\"orientation\":\"v\",\"showlegend\":true,\"x\":[19.616926059263363,20.7299911239321,21.416570172224258],\"xaxis\":\"x\",\"y\":[0.6020492938244254,0.5858204815266836,0.6783925735922804],\"yaxis\":\"y\",\"type\":\"scatter\"},{\"hovertemplate\":\"ihme_loc_id=GHA\\u003cbr\\u003emean_temperature=%{x}\\u003cbr\\u003etotal_anemia_prev=%{y}\\u003cextra\\u003e\\u003c\\u002fextra\\u003e\",\"legendgroup\":\"GHA\",\"marker\":{\"color\":\"#636efa\",\"symbol\":\"circle\"},\"mode\":\"markers\",\"name\":\"GHA\",\"orientation\":\"v\",\"showlegend\":true,\"x\":[26.83001718705242,26.65425734381465,26.70324814814815],\"xaxis\":\"x\",\"y\":[0.7521514629948365,0.795614398014067,0.6822222222222222],\"yaxis\":\"y\",\"type\":\"scatter\"},{\"hovertemplate\":\"ihme_loc_id=GIN\\u003cbr\\u003emean_temperature=%{x}\\u003cbr\\u003etotal_anemia_prev=%{y}\\u003cextra\\u003e\\u003c\\u002fextra\\u003e\",\"legendgroup\":\"GIN\",\"marker\":{\"color\":\"#EF553B\",\"symbol\":\"circle\"},\"mode\":\"markers\",\"name\":\"GIN\",\"orientation\":\"v\",\"showlegend\":true,\"x\":[25.40762861169838,25.083371446229915,25.560891966759005],\"xaxis\":\"x\",\"y\":[0.7832980972515856,0.7877008652657602,0.7767313019390581],\"yaxis\":\"y\",\"type\":\"scatter\"},{\"hovertemplate\":\"ihme_loc_id=HTI\\u003cbr\\u003emean_temperature=%{x}\\u003cbr\\u003etotal_anemia_prev=%{y}\\u003cextra\\u003e\\u003c\\u002fextra\\u003e\",\"legendgroup\":\"HTI\",\"marker\":{\"color\":\"#00cc96\",\"symbol\":\"circle\"},\"mode\":\"markers\",\"name\":\"HTI\",\"orientation\":\"v\",\"showlegend\":true,\"x\":[24.21294834777029,24.57268335071255,24.483824091778203,24.76184996717006],\"xaxis\":\"x\",\"y\":[0.6397176772537696,0.6093152589502955,0.6663479923518164,0.6925476034143139],\"yaxis\":\"y\",\"type\":\"scatter\"},{\"hovertemplate\":\"ihme_loc_id=JOR\\u003cbr\\u003emean_temperature=%{x}\\u003cbr\\u003etotal_anemia_prev=%{y}\\u003cextra\\u003e\\u003c\\u002fextra\\u003e\",\"legendgroup\":\"JOR\",\"marker\":{\"color\":\"#ab63fa\",\"symbol\":\"circle\"},\"mode\":\"markers\",\"name\":\"JOR\",\"orientation\":\"v\",\"showlegend\":true,\"x\":[17.751115933044016,18.066828863042964,18.371617906238985],\"xaxis\":\"x\",\"y\":[0.3880967141971482,0.42392594350818896,0.3893197039125837],\"yaxis\":\"y\",\"type\":\"scatter\"},{\"hovertemplate\":\"ihme_loc_id=MDG\\u003cbr\\u003emean_temperature=%{x}\\u003cbr\\u003etotal_anemia_prev=%{y}\\u003cextra\\u003e\\u003c\\u002fextra\\u003e\",\"legendgroup\":\"MDG\",\"marker\":{\"color\":\"#FFA15A\",\"symbol\":\"circle\"},\"mode\":\"markers\",\"name\":\"MDG\",\"orientation\":\"v\",\"showlegend\":true,\"x\":[21.11369814651368,21.38761976612599],\"xaxis\":\"x\",\"y\":[0.7881729920564872,0.5746887966804979],\"yaxis\":\"y\",\"type\":\"scatter\"},{\"hovertemplate\":\"ihme_loc_id=MWI\\u003cbr\\u003emean_temperature=%{x}\\u003cbr\\u003etotal_anemia_prev=%{y}\\u003cextra\\u003e\\u003c\\u002fextra\\u003e\",\"legendgroup\":\"MWI\",\"marker\":{\"color\":\"#19d3f3\",\"symbol\":\"circle\"},\"mode\":\"markers\",\"name\":\"MWI\",\"orientation\":\"v\",\"showlegend\":true,\"x\":[21.56637332280979,21.91904042647712,22.248391807320314,21.263943396226413],\"xaxis\":\"x\",\"y\":[0.7762430939226519,0.7203465126610396,0.7159112459700361,0.6962264150943396],\"yaxis\":\"y\",\"type\":\"scatter\"},{\"hovertemplate\":\"ihme_loc_id=MLI\\u003cbr\\u003emean_temperature=%{x}\\u003cbr\\u003etotal_anemia_prev=%{y}\\u003cextra\\u003e\\u003c\\u002fextra\\u003e\",\"legendgroup\":\"MLI\",\"marker\":{\"color\":\"#FF6692\",\"symbol\":\"circle\"},\"mode\":\"markers\",\"name\":\"MLI\",\"orientation\":\"v\",\"showlegend\":true,\"x\":[28.29328867235079,28.038696937697996],\"xaxis\":\"x\",\"y\":[0.8160779537149817,0.8211193241816261],\"yaxis\":\"y\",\"type\":\"scatter\"},{\"hovertemplate\":\"ihme_loc_id=MDA\\u003cbr\\u003emean_temperature=%{x}\\u003cbr\\u003etotal_anemia_prev=%{y}\\u003cextra\\u003e\\u003c\\u002fextra\\u003e\",\"legendgroup\":\"MDA\",\"marker\":{\"color\":\"#B6E880\",\"symbol\":\"circle\"},\"mode\":\"markers\",\"name\":\"MDA\",\"orientation\":\"v\",\"showlegend\":true,\"x\":[10.23932634730539],\"xaxis\":\"x\",\"y\":[0.28892215568862273],\"yaxis\":\"y\",\"type\":\"scatter\"},{\"hovertemplate\":\"ihme_loc_id=NPL\\u003cbr\\u003emean_temperature=%{x}\\u003cbr\\u003etotal_anemia_prev=%{y}\\u003cextra\\u003e\\u003c\\u002fextra\\u003e\",\"legendgroup\":\"NPL\",\"marker\":{\"color\":\"#FF97FF\",\"symbol\":\"circle\"},\"mode\":\"markers\",\"name\":\"NPL\",\"orientation\":\"v\",\"showlegend\":true,\"x\":[19.730682819383258,18.716555304740407,20.422244623655914],\"xaxis\":\"x\",\"y\":[0.5320384461353624,0.5259593679458239,0.578405017921147],\"yaxis\":\"y\",\"type\":\"scatter\"},{\"hovertemplate\":\"ihme_loc_id=RWA\\u003cbr\\u003emean_temperature=%{x}\\u003cbr\\u003etotal_anemia_prev=%{y}\\u003cextra\\u003e\\u003c\\u002fextra\\u003e\",\"legendgroup\":\"RWA\",\"marker\":{\"color\":\"#FECB52\",\"symbol\":\"circle\"},\"mode\":\"markers\",\"name\":\"RWA\",\"orientation\":\"v\",\"showlegend\":true,\"x\":[19.285233002291825,18.862544886807182,19.02965093411996,19.335574745186864],\"xaxis\":\"x\",\"y\":[0.6131907308377896,0.5343481654957065,0.5068829891838741,0.4844280860702152],\"yaxis\":\"y\",\"type\":\"scatter\"},{\"hovertemplate\":\"ihme_loc_id=SWZ\\u003cbr\\u003emean_temperature=%{x}\\u003cbr\\u003etotal_anemia_prev=%{y}\\u003cextra\\u003e\\u003c\\u002fextra\\u003e\",\"legendgroup\":\"SWZ\",\"marker\":{\"color\":\"#636efa\",\"symbol\":\"circle\"},\"mode\":\"markers\",\"name\":\"SWZ\",\"orientation\":\"v\",\"showlegend\":true,\"x\":[18.75301002004008],\"xaxis\":\"x\",\"y\":[0.4657314629258517],\"yaxis\":\"y\",\"type\":\"scatter\"},{\"hovertemplate\":\"ihme_loc_id=ZWE\\u003cbr\\u003emean_temperature=%{x}\\u003cbr\\u003etotal_anemia_prev=%{y}\\u003cextra\\u003e\\u003c\\u002fextra\\u003e\",\"legendgroup\":\"ZWE\",\"marker\":{\"color\":\"#EF553B\",\"symbol\":\"circle\"},\"mode\":\"markers\",\"name\":\"ZWE\",\"orientation\":\"v\",\"showlegend\":true,\"x\":[21.169069979484842,20.560518183979084,21.01386594066842],\"xaxis\":\"x\",\"y\":[0.6765443355368133,0.6798193487045401,0.49023657529102516],\"yaxis\":\"y\",\"type\":\"scatter\"},{\"hovertemplate\":\"ihme_loc_id=SLE\\u003cbr\\u003emean_temperature=%{x}\\u003cbr\\u003etotal_anemia_prev=%{y}\\u003cextra\\u003e\\u003c\\u002fextra\\u003e\",\"legendgroup\":\"SLE\",\"marker\":{\"color\":\"#00cc96\",\"symbol\":\"circle\"},\"mode\":\"markers\",\"name\":\"SLE\",\"orientation\":\"v\",\"showlegend\":true,\"x\":[25.52738467709587],\"xaxis\":\"x\",\"y\":[0.7581227436823105],\"yaxis\":\"y\",\"type\":\"scatter\"},{\"hovertemplate\":\"ihme_loc_id=TLS\\u003cbr\\u003emean_temperature=%{x}\\u003cbr\\u003etotal_anemia_prev=%{y}\\u003cextra\\u003e\\u003c\\u002fextra\\u003e\",\"legendgroup\":\"TLS\",\"marker\":{\"color\":\"#ab63fa\",\"symbol\":\"circle\"},\"mode\":\"markers\",\"name\":\"TLS\",\"orientation\":\"v\",\"showlegend\":true,\"x\":[23.863709929632527,24.50520925652388],\"xaxis\":\"x\",\"y\":[0.46168881939014855,0.4687346134908912],\"yaxis\":\"y\",\"type\":\"scatter\"},{\"hovertemplate\":\"ihme_loc_id=TZA\\u003cbr\\u003emean_temperature=%{x}\\u003cbr\\u003etotal_anemia_prev=%{y}\\u003cextra\\u003e\\u003c\\u002fextra\\u003e\",\"legendgroup\":\"TZA\",\"marker\":{\"color\":\"#FFA15A\",\"symbol\":\"circle\"},\"mode\":\"markers\",\"name\":\"TZA\",\"orientation\":\"v\",\"showlegend\":true,\"x\":[23.100730711043877,23.047299152633272],\"xaxis\":\"x\",\"y\":[0.6804841149773071,0.657942722299689],\"yaxis\":\"y\",\"type\":\"scatter\"},{\"hovertemplate\":\"ihme_loc_id=GUY\\u003cbr\\u003emean_temperature=%{x}\\u003cbr\\u003etotal_anemia_prev=%{y}\\u003cextra\\u003e\\u003c\\u002fextra\\u003e\",\"legendgroup\":\"GUY\",\"marker\":{\"color\":\"#19d3f3\",\"symbol\":\"circle\"},\"mode\":\"markers\",\"name\":\"GUY\",\"orientation\":\"v\",\"showlegend\":true,\"x\":[25.578783783783784],\"xaxis\":\"x\",\"y\":[0.3783783783783784],\"yaxis\":\"y\",\"type\":\"scatter\"},{\"hovertemplate\":\"ihme_loc_id=LSO\\u003cbr\\u003emean_temperature=%{x}\\u003cbr\\u003etotal_anemia_prev=%{y}\\u003cextra\\u003e\\u003c\\u002fextra\\u003e\",\"legendgroup\":\"LSO\",\"marker\":{\"color\":\"#FF6692\",\"symbol\":\"circle\"},\"mode\":\"markers\",\"name\":\"LSO\",\"orientation\":\"v\",\"showlegend\":true,\"x\":[11.79220281416788,12.487451868629671],\"xaxis\":\"x\",\"y\":[0.5773896166909267,0.6098527746319365],\"yaxis\":\"y\",\"type\":\"scatter\"},{\"hovertemplate\":\"ihme_loc_id=BDI\\u003cbr\\u003emean_temperature=%{x}\\u003cbr\\u003etotal_anemia_prev=%{y}\\u003cextra\\u003e\\u003c\\u002fextra\\u003e\",\"legendgroup\":\"BDI\",\"marker\":{\"color\":\"#B6E880\",\"symbol\":\"circle\"},\"mode\":\"markers\",\"name\":\"BDI\",\"orientation\":\"v\",\"showlegend\":true,\"x\":[20.73520061255743,20.018572189664358,20.682078465562338],\"xaxis\":\"x\",\"y\":[0.5571209800918836,0.6108151305274374,0.7000871839581517],\"yaxis\":\"y\",\"type\":\"scatter\"},{\"hovertemplate\":\"ihme_loc_id=MOZ\\u003cbr\\u003emean_temperature=%{x}\\u003cbr\\u003etotal_anemia_prev=%{y}\\u003cextra\\u003e\\u003c\\u002fextra\\u003e\",\"legendgroup\":\"MOZ\",\"marker\":{\"color\":\"#FF97FF\",\"symbol\":\"circle\"},\"mode\":\"markers\",\"name\":\"MOZ\",\"orientation\":\"v\",\"showlegend\":true,\"x\":[23.45050193050193],\"xaxis\":\"x\",\"y\":[0.6773013615118878],\"yaxis\":\"y\",\"type\":\"scatter\"},{\"hovertemplate\":\"ihme_loc_id=UGA\\u003cbr\\u003emean_temperature=%{x}\\u003cbr\\u003etotal_anemia_prev=%{y}\\u003cextra\\u003e\\u003c\\u002fextra\\u003e\",\"legendgroup\":\"UGA\",\"marker\":{\"color\":\"#FECB52\",\"symbol\":\"circle\"},\"mode\":\"markers\",\"name\":\"UGA\",\"orientation\":\"v\",\"showlegend\":true,\"x\":[21.971083372585962,22.941343346731543],\"xaxis\":\"x\",\"y\":[0.5850211964201601,0.6454410831394118],\"yaxis\":\"y\",\"type\":\"scatter\"},{\"hovertemplate\":\"ihme_loc_id=SEN\\u003cbr\\u003emean_temperature=%{x}\\u003cbr\\u003etotal_anemia_prev=%{y}\\u003cextra\\u003e\\u003c\\u002fextra\\u003e\",\"legendgroup\":\"SEN\",\"marker\":{\"color\":\"#636efa\",\"symbol\":\"circle\"},\"mode\":\"markers\",\"name\":\"SEN\",\"orientation\":\"v\",\"showlegend\":true,\"x\":[27.693729615991582,27.46119896193772,27.61961168216675,27.517824066655983,28.082852582159624,28.106276273519963],\"xaxis\":\"x\",\"y\":[0.7619673855865334,0.7058823529411765,0.5873715124816447,0.698125300432623,0.6809389671361502,0.7233593391463974],\"yaxis\":\"y\",\"type\":\"scatter\"},{\"hovertemplate\":\"ihme_loc_id=NER\\u003cbr\\u003emean_temperature=%{x}\\u003cbr\\u003etotal_anemia_prev=%{y}\\u003cextra\\u003e\\u003c\\u002fextra\\u003e\",\"legendgroup\":\"NER\",\"marker\":{\"color\":\"#EF553B\",\"symbol\":\"circle\"},\"mode\":\"markers\",\"name\":\"NER\",\"orientation\":\"v\",\"showlegend\":true,\"x\":[28.2854671638699],\"xaxis\":\"x\",\"y\":[0.7791588978661694],\"yaxis\":\"y\",\"type\":\"scatter\"},{\"hovertemplate\":\"ihme_loc_id=TGO\\u003cbr\\u003emean_temperature=%{x}\\u003cbr\\u003etotal_anemia_prev=%{y}\\u003cextra\\u003e\\u003c\\u002fextra\\u003e\",\"legendgroup\":\"TGO\",\"marker\":{\"color\":\"#00cc96\",\"symbol\":\"circle\"},\"mode\":\"markers\",\"name\":\"TGO\",\"orientation\":\"v\",\"showlegend\":true,\"x\":[26.903291139240505],\"xaxis\":\"x\",\"y\":[0.7097869712874344],\"yaxis\":\"y\",\"type\":\"scatter\"},{\"hovertemplate\":\"ihme_loc_id=KGZ\\u003cbr\\u003emean_temperature=%{x}\\u003cbr\\u003etotal_anemia_prev=%{y}\\u003cextra\\u003e\\u003c\\u002fextra\\u003e\",\"legendgroup\":\"KGZ\",\"marker\":{\"color\":\"#ab63fa\",\"symbol\":\"circle\"},\"mode\":\"markers\",\"name\":\"KGZ\",\"orientation\":\"v\",\"showlegend\":true,\"x\":[6.604982001439884],\"xaxis\":\"x\",\"y\":[0.5399568034557235],\"yaxis\":\"y\",\"type\":\"scatter\"},{\"hovertemplate\":\"ihme_loc_id=HND\\u003cbr\\u003emean_temperature=%{x}\\u003cbr\\u003etotal_anemia_prev=%{y}\\u003cextra\\u003e\\u003c\\u002fextra\\u003e\",\"legendgroup\":\"HND\",\"marker\":{\"color\":\"#FFA15A\",\"symbol\":\"circle\"},\"mode\":\"markers\",\"name\":\"HND\",\"orientation\":\"v\",\"showlegend\":true,\"x\":[22.415865589111018],\"xaxis\":\"x\",\"y\":[0.34638297872340423],\"yaxis\":\"y\",\"type\":\"scatter\"},{\"hovertemplate\":\"ihme_loc_id=NAM\\u003cbr\\u003emean_temperature=%{x}\\u003cbr\\u003etotal_anemia_prev=%{y}\\u003cextra\\u003e\\u003c\\u002fextra\\u003e\",\"legendgroup\":\"NAM\",\"marker\":{\"color\":\"#19d3f3\",\"symbol\":\"circle\"},\"mode\":\"markers\",\"name\":\"NAM\",\"orientation\":\"v\",\"showlegend\":true,\"x\":[22.5864901793339],\"xaxis\":\"x\",\"y\":[0.5888129803586678],\"yaxis\":\"y\",\"type\":\"scatter\"},{\"hovertemplate\":\"ihme_loc_id=GTM\\u003cbr\\u003emean_temperature=%{x}\\u003cbr\\u003etotal_anemia_prev=%{y}\\u003cextra\\u003e\\u003c\\u002fextra\\u003e\",\"legendgroup\":\"GTM\",\"marker\":{\"color\":\"#FF6692\",\"symbol\":\"circle\"},\"mode\":\"markers\",\"name\":\"GTM\",\"orientation\":\"v\",\"showlegend\":true,\"x\":[20.18084360625575],\"xaxis\":\"x\",\"y\":[0.4098436062557498],\"yaxis\":\"y\",\"type\":\"scatter\"},{\"hovertemplate\":\"ihme_loc_id=IND\\u003cbr\\u003emean_temperature=%{x}\\u003cbr\\u003etotal_anemia_prev=%{y}\\u003cextra\\u003e\\u003c\\u002fextra\\u003e\",\"legendgroup\":\"IND\",\"marker\":{\"color\":\"#B6E880\",\"symbol\":\"circle\"},\"mode\":\"markers\",\"name\":\"IND\",\"orientation\":\"v\",\"showlegend\":true,\"x\":[24.218003784856013,23.839762498158425],\"xaxis\":\"x\",\"y\":[0.5978709715688466,0.6963266509796212],\"yaxis\":\"y\",\"type\":\"scatter\"},{\"hovertemplate\":\"ihme_loc_id=MMR\\u003cbr\\u003emean_temperature=%{x}\\u003cbr\\u003etotal_anemia_prev=%{y}\\u003cextra\\u003e\\u003c\\u002fextra\\u003e\",\"legendgroup\":\"MMR\",\"marker\":{\"color\":\"#FF97FF\",\"symbol\":\"circle\"},\"mode\":\"markers\",\"name\":\"MMR\",\"orientation\":\"v\",\"showlegend\":true,\"x\":[24.868163877092183],\"xaxis\":\"x\",\"y\":[0.5663252560579566],\"yaxis\":\"y\",\"type\":\"scatter\"},{\"hovertemplate\":\"ihme_loc_id=ZAF\\u003cbr\\u003emean_temperature=%{x}\\u003cbr\\u003etotal_anemia_prev=%{y}\\u003cextra\\u003e\\u003c\\u002fextra\\u003e\",\"legendgroup\":\"ZAF\",\"marker\":{\"color\":\"#FECB52\",\"symbol\":\"circle\"},\"mode\":\"markers\",\"name\":\"ZAF\",\"orientation\":\"v\",\"showlegend\":true,\"x\":[18.618514680483592],\"xaxis\":\"x\",\"y\":[0.7089810017271158],\"yaxis\":\"y\",\"type\":\"scatter\"},{\"hovertemplate\":\"ihme_loc_id=AGO\\u003cbr\\u003emean_temperature=%{x}\\u003cbr\\u003etotal_anemia_prev=%{y}\\u003cextra\\u003e\\u003c\\u002fextra\\u003e\",\"legendgroup\":\"AGO\",\"marker\":{\"color\":\"#636efa\",\"symbol\":\"circle\"},\"mode\":\"markers\",\"name\":\"AGO\",\"orientation\":\"v\",\"showlegend\":true,\"x\":[22.844123637663035],\"xaxis\":\"x\",\"y\":[0.717705913882437],\"yaxis\":\"y\",\"type\":\"scatter\"},{\"hovertemplate\":\"ihme_loc_id=ARM\\u003cbr\\u003emean_temperature=%{x}\\u003cbr\\u003etotal_anemia_prev=%{y}\\u003cextra\\u003e\\u003c\\u002fextra\\u003e\",\"legendgroup\":\"ARM\",\"marker\":{\"color\":\"#EF553B\",\"symbol\":\"circle\"},\"mode\":\"markers\",\"name\":\"ARM\",\"orientation\":\"v\",\"showlegend\":true,\"x\":[8.349413059427732],\"xaxis\":\"x\",\"y\":[0.2619222303741746],\"yaxis\":\"y\",\"type\":\"scatter\"},{\"hovertemplate\":\"ihme_loc_id=ZMB\\u003cbr\\u003emean_temperature=%{x}\\u003cbr\\u003etotal_anemia_prev=%{y}\\u003cextra\\u003e\\u003c\\u002fextra\\u003e\",\"legendgroup\":\"ZMB\",\"marker\":{\"color\":\"#00cc96\",\"symbol\":\"circle\"},\"mode\":\"markers\",\"name\":\"ZMB\",\"orientation\":\"v\",\"showlegend\":true,\"x\":[21.782434886499402],\"xaxis\":\"x\",\"y\":[0.7009827420901247],\"yaxis\":\"y\",\"type\":\"scatter\"},{\"hovertemplate\":\"ihme_loc_id=LBR\\u003cbr\\u003emean_temperature=%{x}\\u003cbr\\u003etotal_anemia_prev=%{y}\\u003cextra\\u003e\\u003c\\u002fextra\\u003e\",\"legendgroup\":\"LBR\",\"marker\":{\"color\":\"#ab63fa\",\"symbol\":\"circle\"},\"mode\":\"markers\",\"name\":\"LBR\",\"orientation\":\"v\",\"showlegend\":true,\"x\":[25.453223484848483],\"xaxis\":\"x\",\"y\":[0.7045454545454546],\"yaxis\":\"y\",\"type\":\"scatter\"}],                        {\"template\":{\"data\":{\"histogram2dcontour\":[{\"type\":\"histogram2dcontour\",\"colorbar\":{\"outlinewidth\":0,\"ticks\":\"\"},\"colorscale\":[[0.0,\"#0d0887\"],[0.1111111111111111,\"#46039f\"],[0.2222222222222222,\"#7201a8\"],[0.3333333333333333,\"#9c179e\"],[0.4444444444444444,\"#bd3786\"],[0.5555555555555556,\"#d8576b\"],[0.6666666666666666,\"#ed7953\"],[0.7777777777777778,\"#fb9f3a\"],[0.8888888888888888,\"#fdca26\"],[1.0,\"#f0f921\"]]}],\"choropleth\":[{\"type\":\"choropleth\",\"colorbar\":{\"outlinewidth\":0,\"ticks\":\"\"}}],\"histogram2d\":[{\"type\":\"histogram2d\",\"colorbar\":{\"outlinewidth\":0,\"ticks\":\"\"},\"colorscale\":[[0.0,\"#0d0887\"],[0.1111111111111111,\"#46039f\"],[0.2222222222222222,\"#7201a8\"],[0.3333333333333333,\"#9c179e\"],[0.4444444444444444,\"#bd3786\"],[0.5555555555555556,\"#d8576b\"],[0.6666666666666666,\"#ed7953\"],[0.7777777777777778,\"#fb9f3a\"],[0.8888888888888888,\"#fdca26\"],[1.0,\"#f0f921\"]]}],\"heatmap\":[{\"type\":\"heatmap\",\"colorbar\":{\"outlinewidth\":0,\"ticks\":\"\"},\"colorscale\":[[0.0,\"#0d0887\"],[0.1111111111111111,\"#46039f\"],[0.2222222222222222,\"#7201a8\"],[0.3333333333333333,\"#9c179e\"],[0.4444444444444444,\"#bd3786\"],[0.5555555555555556,\"#d8576b\"],[0.6666666666666666,\"#ed7953\"],[0.7777777777777778,\"#fb9f3a\"],[0.8888888888888888,\"#fdca26\"],[1.0,\"#f0f921\"]]}],\"heatmapgl\":[{\"type\":\"heatmapgl\",\"colorbar\":{\"outlinewidth\":0,\"ticks\":\"\"},\"colorscale\":[[0.0,\"#0d0887\"],[0.1111111111111111,\"#46039f\"],[0.2222222222222222,\"#7201a8\"],[0.3333333333333333,\"#9c179e\"],[0.4444444444444444,\"#bd3786\"],[0.5555555555555556,\"#d8576b\"],[0.6666666666666666,\"#ed7953\"],[0.7777777777777778,\"#fb9f3a\"],[0.8888888888888888,\"#fdca26\"],[1.0,\"#f0f921\"]]}],\"contourcarpet\":[{\"type\":\"contourcarpet\",\"colorbar\":{\"outlinewidth\":0,\"ticks\":\"\"}}],\"contour\":[{\"type\":\"contour\",\"colorbar\":{\"outlinewidth\":0,\"ticks\":\"\"},\"colorscale\":[[0.0,\"#0d0887\"],[0.1111111111111111,\"#46039f\"],[0.2222222222222222,\"#7201a8\"],[0.3333333333333333,\"#9c179e\"],[0.4444444444444444,\"#bd3786\"],[0.5555555555555556,\"#d8576b\"],[0.6666666666666666,\"#ed7953\"],[0.7777777777777778,\"#fb9f3a\"],[0.8888888888888888,\"#fdca26\"],[1.0,\"#f0f921\"]]}],\"surface\":[{\"type\":\"surface\",\"colorbar\":{\"outlinewidth\":0,\"ticks\":\"\"},\"colorscale\":[[0.0,\"#0d0887\"],[0.1111111111111111,\"#46039f\"],[0.2222222222222222,\"#7201a8\"],[0.3333333333333333,\"#9c179e\"],[0.4444444444444444,\"#bd3786\"],[0.5555555555555556,\"#d8576b\"],[0.6666666666666666,\"#ed7953\"],[0.7777777777777778,\"#fb9f3a\"],[0.8888888888888888,\"#fdca26\"],[1.0,\"#f0f921\"]]}],\"mesh3d\":[{\"type\":\"mesh3d\",\"colorbar\":{\"outlinewidth\":0,\"ticks\":\"\"}}],\"scatter\":[{\"fillpattern\":{\"fillmode\":\"overlay\",\"size\":10,\"solidity\":0.2},\"type\":\"scatter\"}],\"parcoords\":[{\"type\":\"parcoords\",\"line\":{\"colorbar\":{\"outlinewidth\":0,\"ticks\":\"\"}}}],\"scatterpolargl\":[{\"type\":\"scatterpolargl\",\"marker\":{\"colorbar\":{\"outlinewidth\":0,\"ticks\":\"\"}}}],\"bar\":[{\"error_x\":{\"color\":\"#2a3f5f\"},\"error_y\":{\"color\":\"#2a3f5f\"},\"marker\":{\"line\":{\"color\":\"#E5ECF6\",\"width\":0.5},\"pattern\":{\"fillmode\":\"overlay\",\"size\":10,\"solidity\":0.2}},\"type\":\"bar\"}],\"scattergeo\":[{\"type\":\"scattergeo\",\"marker\":{\"colorbar\":{\"outlinewidth\":0,\"ticks\":\"\"}}}],\"scatterpolar\":[{\"type\":\"scatterpolar\",\"marker\":{\"colorbar\":{\"outlinewidth\":0,\"ticks\":\"\"}}}],\"histogram\":[{\"marker\":{\"pattern\":{\"fillmode\":\"overlay\",\"size\":10,\"solidity\":0.2}},\"type\":\"histogram\"}],\"scattergl\":[{\"type\":\"scattergl\",\"marker\":{\"colorbar\":{\"outlinewidth\":0,\"ticks\":\"\"}}}],\"scatter3d\":[{\"type\":\"scatter3d\",\"line\":{\"colorbar\":{\"outlinewidth\":0,\"ticks\":\"\"}},\"marker\":{\"colorbar\":{\"outlinewidth\":0,\"ticks\":\"\"}}}],\"scattermapbox\":[{\"type\":\"scattermapbox\",\"marker\":{\"colorbar\":{\"outlinewidth\":0,\"ticks\":\"\"}}}],\"scatterternary\":[{\"type\":\"scatterternary\",\"marker\":{\"colorbar\":{\"outlinewidth\":0,\"ticks\":\"\"}}}],\"scattercarpet\":[{\"type\":\"scattercarpet\",\"marker\":{\"colorbar\":{\"outlinewidth\":0,\"ticks\":\"\"}}}],\"carpet\":[{\"aaxis\":{\"endlinecolor\":\"#2a3f5f\",\"gridcolor\":\"white\",\"linecolor\":\"white\",\"minorgridcolor\":\"white\",\"startlinecolor\":\"#2a3f5f\"},\"baxis\":{\"endlinecolor\":\"#2a3f5f\",\"gridcolor\":\"white\",\"linecolor\":\"white\",\"minorgridcolor\":\"white\",\"startlinecolor\":\"#2a3f5f\"},\"type\":\"carpet\"}],\"table\":[{\"cells\":{\"fill\":{\"color\":\"#EBF0F8\"},\"line\":{\"color\":\"white\"}},\"header\":{\"fill\":{\"color\":\"#C8D4E3\"},\"line\":{\"color\":\"white\"}},\"type\":\"table\"}],\"barpolar\":[{\"marker\":{\"line\":{\"color\":\"#E5ECF6\",\"width\":0.5},\"pattern\":{\"fillmode\":\"overlay\",\"size\":10,\"solidity\":0.2}},\"type\":\"barpolar\"}],\"pie\":[{\"automargin\":true,\"type\":\"pie\"}]},\"layout\":{\"autotypenumbers\":\"strict\",\"colorway\":[\"#636efa\",\"#EF553B\",\"#00cc96\",\"#ab63fa\",\"#FFA15A\",\"#19d3f3\",\"#FF6692\",\"#B6E880\",\"#FF97FF\",\"#FECB52\"],\"font\":{\"color\":\"#2a3f5f\"},\"hovermode\":\"closest\",\"hoverlabel\":{\"align\":\"left\"},\"paper_bgcolor\":\"white\",\"plot_bgcolor\":\"#E5ECF6\",\"polar\":{\"bgcolor\":\"#E5ECF6\",\"angularaxis\":{\"gridcolor\":\"white\",\"linecolor\":\"white\",\"ticks\":\"\"},\"radialaxis\":{\"gridcolor\":\"white\",\"linecolor\":\"white\",\"ticks\":\"\"}},\"ternary\":{\"bgcolor\":\"#E5ECF6\",\"aaxis\":{\"gridcolor\":\"white\",\"linecolor\":\"white\",\"ticks\":\"\"},\"baxis\":{\"gridcolor\":\"white\",\"linecolor\":\"white\",\"ticks\":\"\"},\"caxis\":{\"gridcolor\":\"white\",\"linecolor\":\"white\",\"ticks\":\"\"}},\"coloraxis\":{\"colorbar\":{\"outlinewidth\":0,\"ticks\":\"\"}},\"colorscale\":{\"sequential\":[[0.0,\"#0d0887\"],[0.1111111111111111,\"#46039f\"],[0.2222222222222222,\"#7201a8\"],[0.3333333333333333,\"#9c179e\"],[0.4444444444444444,\"#bd3786\"],[0.5555555555555556,\"#d8576b\"],[0.6666666666666666,\"#ed7953\"],[0.7777777777777778,\"#fb9f3a\"],[0.8888888888888888,\"#fdca26\"],[1.0,\"#f0f921\"]],\"sequentialminus\":[[0.0,\"#0d0887\"],[0.1111111111111111,\"#46039f\"],[0.2222222222222222,\"#7201a8\"],[0.3333333333333333,\"#9c179e\"],[0.4444444444444444,\"#bd3786\"],[0.5555555555555556,\"#d8576b\"],[0.6666666666666666,\"#ed7953\"],[0.7777777777777778,\"#fb9f3a\"],[0.8888888888888888,\"#fdca26\"],[1.0,\"#f0f921\"]],\"diverging\":[[0,\"#8e0152\"],[0.1,\"#c51b7d\"],[0.2,\"#de77ae\"],[0.3,\"#f1b6da\"],[0.4,\"#fde0ef\"],[0.5,\"#f7f7f7\"],[0.6,\"#e6f5d0\"],[0.7,\"#b8e186\"],[0.8,\"#7fbc41\"],[0.9,\"#4d9221\"],[1,\"#276419\"]]},\"xaxis\":{\"gridcolor\":\"white\",\"linecolor\":\"white\",\"ticks\":\"\",\"title\":{\"standoff\":15},\"zerolinecolor\":\"white\",\"automargin\":true,\"zerolinewidth\":2},\"yaxis\":{\"gridcolor\":\"white\",\"linecolor\":\"white\",\"ticks\":\"\",\"title\":{\"standoff\":15},\"zerolinecolor\":\"white\",\"automargin\":true,\"zerolinewidth\":2},\"scene\":{\"xaxis\":{\"backgroundcolor\":\"#E5ECF6\",\"gridcolor\":\"white\",\"linecolor\":\"white\",\"showbackground\":true,\"ticks\":\"\",\"zerolinecolor\":\"white\",\"gridwidth\":2},\"yaxis\":{\"backgroundcolor\":\"#E5ECF6\",\"gridcolor\":\"white\",\"linecolor\":\"white\",\"showbackground\":true,\"ticks\":\"\",\"zerolinecolor\":\"white\",\"gridwidth\":2},\"zaxis\":{\"backgroundcolor\":\"#E5ECF6\",\"gridcolor\":\"white\",\"linecolor\":\"white\",\"showbackground\":true,\"ticks\":\"\",\"zerolinecolor\":\"white\",\"gridwidth\":2}},\"shapedefaults\":{\"line\":{\"color\":\"#2a3f5f\"}},\"annotationdefaults\":{\"arrowcolor\":\"#2a3f5f\",\"arrowhead\":0,\"arrowwidth\":1},\"geo\":{\"bgcolor\":\"white\",\"landcolor\":\"#E5ECF6\",\"subunitcolor\":\"white\",\"showland\":true,\"showlakes\":true,\"lakecolor\":\"white\"},\"title\":{\"x\":0.05},\"mapbox\":{\"style\":\"light\"}}},\"xaxis\":{\"anchor\":\"y\",\"domain\":[0.0,1.0],\"title\":{\"text\":\"mean_temperature\"}},\"yaxis\":{\"anchor\":\"x\",\"domain\":[0.0,1.0],\"title\":{\"text\":\"total_anemia_prev\"}},\"legend\":{\"title\":{\"text\":\"ihme_loc_id\"},\"tracegroupgap\":0},\"margin\":{\"t\":60}},                        {\"responsive\": true}                    ).then(function(){\n",
       "                            \n",
       "var gd = document.getElementById('dd05143d-dab2-4a00-819e-5894fec7198a');\n",
       "var x = new MutationObserver(function (mutations, observer) {{\n",
       "        var display = window.getComputedStyle(gd).display;\n",
       "        if (!display || display === 'none') {{\n",
       "            console.log([gd, 'removed!']);\n",
       "            Plotly.purge(gd);\n",
       "            observer.disconnect();\n",
       "        }}\n",
       "}});\n",
       "\n",
       "// Listen for the removal of the full notebook cells\n",
       "var notebookContainer = gd.closest('#notebook-container');\n",
       "if (notebookContainer) {{\n",
       "    x.observe(notebookContainer, {childList: true});\n",
       "}}\n",
       "\n",
       "// Listen for the clearing of the current output cell\n",
       "var outputEl = gd.closest('.output');\n",
       "if (outputEl) {{\n",
       "    x.observe(outputEl, {childList: true});\n",
       "}}\n",
       "\n",
       "                        })                };                });            </script>        </div>"
      ]
     },
     "metadata": {},
     "output_type": "display_data"
    }
   ],
   "source": [
    "\n",
    "px.scatter(agg_df, x='mean_temperature', y='total_anemia_prev', color='ihme_loc_id')"
   ]
  },
  {
   "cell_type": "code",
   "execution_count": 224,
   "metadata": {},
   "outputs": [
    {
     "name": "stderr",
     "output_type": "stream",
     "text": [
      "/tmp/ipykernel_2894241/3077287638.py:8: FutureWarning:\n",
      "\n",
      "The default of observed=False is deprecated and will be changed to True in a future version of pandas. Pass observed=False to retain current behavior or observed=True to adopt the future default and silence this warning.\n",
      "\n"
     ]
    },
    {
     "data": {
      "text/plain": [
       "<Axes: xlabel='days_over_30C_bin', ylabel='consumption'>"
      ]
     },
     "execution_count": 224,
     "metadata": {},
     "output_type": "execute_result"
    },
    {
     "data": {
      "image/png": "[encoded data removed]",
      "text/plain": [
       "<Figure size 640x480 with 2 Axes>"
      ]
     },
     "metadata": {},
     "output_type": "display_data"
    }
   ],
   "source": [
    "columns_to_bin = ['mean_temperature', 'total_precipitation', 'relative_humidity', 'mean_high_temperature', 'mean_low_temperature', 'precipitation_days', 'days_over_30C', 'days_over_26C']\n",
    "heatmap_df = anemia_df.copy()#.query(\"ihme_loc_id == 'ETH'\")\n",
    "for col in columns_to_bin:\n",
    "    heatmap_df[f'{col}_bin'] = pd.qcut(heatmap_df[col], 10, retbins=False, duplicates='drop')\n",
    "heatmap_df[\"consumption\"], ldi_bins = pd.qcut(heatmap_df.ldipc_weighted_no_match, 10, retbins=True)\n",
    "col = 'days_over_30C'\n",
    "sns.heatmap(\n",
    "        heatmap_df.groupby([\"consumption\", f\"{col}_bin\"])['anemia_anemic_brinda'].mean().unstack(),\n",
    "        annot=True,\n",
    "        fmt=\".2f\",\n",
    "        cmap='YlOrBr',\n",
    "    )\n"
   ]
  }
 ],
 "metadata": {
  "kernelspec": {
   "display_name": "Python 3",
   "language": "python",
   "name": "python3"
  },
  "language_info": {
   "codemirror_mode": {
    "name": "ipython",
    "version": 3
   },
   "file_extension": ".py",
   "mimetype": "text/x-python",
   "name": "python",
   "nbconvert_exporter": "python",
   "pygments_lexer": "ipython3",
   "version": "3.12.7"
  }
 },
 "nbformat": 4,
 "nbformat_minor": 2
}
