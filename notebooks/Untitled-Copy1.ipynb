{
 "cells": [
  {
   "cell_type": "code",
   "execution_count": 31,
   "id": "29a9ab1e-ba99-4fc5-a359-9e9cc629b17a",
   "metadata": {
    "execution": {
     "iopub.execute_input": "2024-06-29T01:21:44.015903Z",
     "iopub.status.busy": "2024-06-29T01:21:44.014683Z",
     "iopub.status.idle": "2024-06-29T01:21:44.022563Z",
     "shell.execute_reply": "2024-06-29T01:21:44.021587Z",
     "shell.execute_reply.started": "2024-06-29T01:21:44.015849Z"
    }
   },
   "outputs": [],
   "source": [
    "from pathlib import Path\n",
    "\n",
    "import pandas as pd\n",
    "from sklearn.model_selection import train_test_split\n",
    "import click\n",
    "from rra_tools import jobmon\n",
    "from pymer4.models.Lmer import Lmer\n",
    "from pymer4.models.Lm import Lm\n",
    "\n",
    "from spatial_temp_cgf import cli_options as clio\n",
    "from spatial_temp_cgf import binning, scaling\n",
    "from spatial_temp_cgf.data import DEFAULT_ROOT, ClimateMalnutritionData\n",
    "from spatial_temp_cgf.model_specification import (\n",
    "    ModelSpecification,\n",
    ")\n",
    "\n",
    "from spatial_temp_cgf.training.run_training import prepare_model_data"
   ]
  },
  {
   "cell_type": "code",
   "execution_count": 32,
   "id": "c5ddd649-07a6-4d48-8a68-3046a680f334",
   "metadata": {
    "execution": {
     "iopub.execute_input": "2024-06-29T01:21:44.248670Z",
     "iopub.status.busy": "2024-06-29T01:21:44.248244Z",
     "iopub.status.idle": "2024-06-29T01:21:44.254956Z",
     "shell.execute_reply": "2024-06-29T01:21:44.254004Z",
     "shell.execute_reply.started": "2024-06-29T01:21:44.248637Z"
    }
   },
   "outputs": [],
   "source": [
    "def prepare_model_version(model_specification_path):\n",
    "    output_root = DEFAULT_ROOT\n",
    "\n",
    "    # Build version and save spec\n",
    "    model_spec = ModelSpecification.from_yaml(model_specification_path)\n",
    "    measure = model_spec.measure\n",
    "    measure_root = Path(output_root) / measure\n",
    "    cm_data = ClimateMalnutritionData(measure_root)\n",
    "    model_version = cm_data.new_model_version()\n",
    "    model_spec.version.model = model_version\n",
    "    cm_data.save_model_specification(model_spec, model_version)\n",
    "    return model_version\n",
    "\n",
    "# Prepare a test version.  Only need to run once to do testing\n",
    "# model_spec_path = \"../specifications/stunting_test.yaml\"\n",
    "# prepare_model_version(model_spec_path)"
   ]
  },
  {
   "cell_type": "code",
   "execution_count": 33,
   "id": "281f2e51-41d2-4e6b-a95c-dec0418118d6",
   "metadata": {
    "execution": {
     "iopub.execute_input": "2024-06-29T01:21:44.527987Z",
     "iopub.status.busy": "2024-06-29T01:21:44.527397Z",
     "iopub.status.idle": "2024-06-29T01:21:44.533620Z",
     "shell.execute_reply": "2024-06-29T01:21:44.532761Z",
     "shell.execute_reply.started": "2024-06-29T01:21:44.527938Z"
    }
   },
   "outputs": [],
   "source": [
    "output_root = Path(DEFAULT_ROOT)\n",
    "measure = 'stunting'\n",
    "model_version = '2024_06_28.04'\n",
    "age_group_id = 5\n",
    "sex_id = 1"
   ]
  },
  {
   "cell_type": "code",
   "execution_count": 34,
   "id": "197f9f82-18f2-4438-bc16-5cd3348c0677",
   "metadata": {
    "execution": {
     "iopub.execute_input": "2024-06-29T01:21:45.172477Z",
     "iopub.status.busy": "2024-06-29T01:21:45.172032Z",
     "iopub.status.idle": "2024-06-29T01:21:53.347502Z",
     "shell.execute_reply": "2024-06-29T01:21:53.346069Z",
     "shell.execute_reply.started": "2024-06-29T01:21:45.172444Z"
    }
   },
   "outputs": [],
   "source": [
    "cm_data = ClimateMalnutritionData(output_root / measure)\n",
    "model_spec = cm_data.load_model_specification(model_version)\n",
    "\n",
    "# Load training data\n",
    "full_training_data = cm_data.load_training_data(model_spec.version.training_data)\n",
    "# FIXME: Prep leaves a bad index\n",
    "full_training_data = full_training_data.reset_index(drop=True)    \n",
    "full_training_data['intercept'] = 1.\n",
    "\n",
    "subset_mask = (\n",
    "    (full_training_data.sex_id == sex_id) \n",
    "    & (full_training_data.age_group_id == age_group_id)\n",
    ")\n",
    "\n",
    "raw_df = full_training_data.loc[:, model_spec.raw_variables]    \n",
    "null_mask = raw_df.isnull().any(axis=1)\n",
    "assert null_mask.sum() == 0\n",
    "\n",
    "df, var_info = prepare_model_data(raw_df, model_spec)\n",
    "\n",
    "df = df.loc[subset_mask].reset_index(drop=True)"
   ]
  },
  {
   "cell_type": "code",
   "execution_count": 35,
   "id": "3beb8448-a014-4c46-a553-61a60eaff8e7",
   "metadata": {
    "execution": {
     "iopub.execute_input": "2024-06-29T01:21:53.350502Z",
     "iopub.status.busy": "2024-06-29T01:21:53.350175Z",
     "iopub.status.idle": "2024-06-29T01:21:53.355387Z",
     "shell.execute_reply": "2024-06-29T01:21:53.354522Z",
     "shell.execute_reply.started": "2024-06-29T01:21:53.350475Z"
    }
   },
   "outputs": [],
   "source": [
    "# import matplotlib.pyplot as plt\n",
    "# import seaborn as sns\n",
    "# fig, axes = plt.subplots(figsize=(12, 30), nrows=5)\n",
    "\n",
    "# vmin = 0\n",
    "# vmax = 5000\n",
    "\n",
    "# sns.heatmap(df.groupby(['grid_cell', 'ihme_loc_id']).stunting.count().unstack(), ax=axes[0], vmin=vmin, vmax=vmax)\n",
    "# sns.heatmap(df.groupby(['temp', 'ihme_loc_id']).stunting.count().unstack(), ax=axes[1], vmin=vmin, vmax=vmax)\n",
    "# sns.heatmap(df.groupby(['ldi_pc_pd', 'ihme_loc_id']).stunting.count().unstack(), ax=axes[2], vmin=vmin, vmax=vmax)\n",
    "# sns.heatmap(df.groupby(['ldi_pc_pd', 'temp']).stunting.count().unstack(), ax=axes[3])\n",
    "# sns.heatmap(df.groupby(['ldi_pc_pd', 'temp']).stunting.mean().unstack().sort_index(ascending=False), ax=axes[4], cmap='RdYlBu_r')\n",
    "# fig.tight_layout()"
   ]
  },
  {
   "cell_type": "code",
   "execution_count": null,
   "id": "bdb7a81b-d153-4119-ade0-26330814170f",
   "metadata": {},
   "outputs": [],
   "source": [
    "model = Lmer(\"stunting ~ (1 | location) + ldi_pc_pd + temp + temp*ldi_pc_pd\", data=test_df, family='binomial')\n",
    "model.fit(verbose=True)"
   ]
  },
  {
   "cell_type": "code",
   "execution_count": null,
   "id": "93f0ed9c-8006-41f1-9efa-6d35592ce203",
   "metadata": {},
   "outputs": [],
   "source": [
    "model.coefs['Estimate'].\n"
   ]
  },
  {
   "cell_type": "code",
   "execution_count": null,
   "id": "d59750a0-1de8-4c51-9a6c-7be66d4a2882",
   "metadata": {},
   "outputs": [],
   "source": [
    "print(model_spec.lmer_formula)\n",
    "model = Lmer(model_spec.lmer_formula, data=df, family='binomial')\n",
    "model.fit(verbose=True)\n",
    "if not model.fitted:\n",
    "    raise ValueError(f\"Model failed to converge.\")"
   ]
  },
  {
   "cell_type": "code",
   "execution_count": null,
   "id": "0e522485-7187-4f39-b830-fa2faf6106fa",
   "metadata": {},
   "outputs": [],
   "source": [
    "import seaborn as sns\n",
    "sns.heatmap(\n",
    "    df.groupby(['temp', 'ldi_pc_pd']).stunting.mean().sort_index().unstack(), \n",
    "    #vmax=0.5,\n",
    "    #vmin=0,\n",
    "    cmap='hot_r')"
   ]
  },
  {
   "cell_type": "code",
   "execution_count": null,
   "id": "228e9497-baea-439b-9c5f-9e0179961f29",
   "metadata": {},
   "outputs": [],
   "source": [
    "help(model.design_matrix)"
   ]
  },
  {
   "cell_type": "code",
   "execution_count": null,
   "id": "24852c48-62ad-4e24-be98-fd523982bbda",
   "metadata": {},
   "outputs": [],
   "source": []
  }
 ],
 "metadata": {
  "kernelspec": {
   "display_name": "Python 3 (ipykernel)",
   "language": "python",
   "name": "python3"
  },
  "language_info": {
   "codemirror_mode": {
    "name": "ipython",
    "version": 3
   },
   "file_extension": ".py",
   "mimetype": "text/x-python",
   "name": "python",
   "nbconvert_exporter": "python",
   "pygments_lexer": "ipython3",
   "version": "3.12.4"
  }
 },
 "nbformat": 4,
 "nbformat_minor": 5
}
