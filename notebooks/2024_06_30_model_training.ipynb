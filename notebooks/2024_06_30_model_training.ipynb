{
 "cells": [
  {
   "cell_type": "code",
   "execution_count": 1,
   "id": "29a9ab1e-ba99-4fc5-a359-9e9cc629b17a",
   "metadata": {
    "execution": {
     "iopub.execute_input": "2024-07-02T20:25:24.537138Z",
     "iopub.status.busy": "2024-07-02T20:25:24.536574Z",
     "iopub.status.idle": "2024-07-02T20:25:37.118797Z",
     "shell.execute_reply": "2024-07-02T20:25:37.117657Z",
     "shell.execute_reply.started": "2024-07-02T20:25:24.537090Z"
    }
   },
   "outputs": [],
   "source": [
    "from pathlib import Path\n",
    "\n",
    "import pandas as pd\n",
    "from pymer4.models.Lmer import Lmer\n",
    "import seaborn as sns\n",
    "\n",
    "from spatial_temp_cgf.transforms import scaling\n",
    "from spatial_temp_cgf.data import DEFAULT_ROOT, ClimateMalnutritionData\n",
    "from spatial_temp_cgf.model_specification import (\n",
    "    ModelSpecification,\n",
    ")\n",
    "\n",
    "from spatial_temp_cgf.training.run_training import prepare_model_data"
   ]
  },
  {
   "cell_type": "code",
   "execution_count": 2,
   "id": "c5ddd649-07a6-4d48-8a68-3046a680f334",
   "metadata": {
    "execution": {
     "iopub.execute_input": "2024-07-02T20:25:37.120899Z",
     "iopub.status.busy": "2024-07-02T20:25:37.120236Z",
     "iopub.status.idle": "2024-07-02T20:25:37.310722Z",
     "shell.execute_reply": "2024-07-02T20:25:37.309528Z",
     "shell.execute_reply.started": "2024-07-02T20:25:37.120862Z"
    }
   },
   "outputs": [
    {
     "data": {
      "text/plain": [
       "'2024_07_02.01'"
      ]
     },
     "execution_count": 2,
     "metadata": {},
     "output_type": "execute_result"
    }
   ],
   "source": [
    "def prepare_model_version(model_specification_path):\n",
    "    output_root = DEFAULT_ROOT\n",
    "\n",
    "    # Build version and save spec\n",
    "    model_spec = ModelSpecification.from_yaml(model_specification_path)\n",
    "    measure = model_spec.measure\n",
    "    measure_root = Path(output_root) / measure\n",
    "    cm_data = ClimateMalnutritionData(measure_root)\n",
    "    model_version = cm_data.new_model_version()\n",
    "    model_spec.version.model = model_version\n",
    "    cm_data.save_model_specification(model_spec, model_version)\n",
    "    return model_version\n",
    "\n",
    "# Prepare a test version.  Only need to run once to do testing\n",
    "model_spec_path = \"../specifications/stunting_test.yaml\"\n",
    "prepare_model_version(model_spec_path)"
   ]
  },
  {
   "cell_type": "code",
   "execution_count": 3,
   "id": "281f2e51-41d2-4e6b-a95c-dec0418118d6",
   "metadata": {
    "execution": {
     "iopub.execute_input": "2024-07-02T20:25:48.698976Z",
     "iopub.status.busy": "2024-07-02T20:25:48.698365Z",
     "iopub.status.idle": "2024-07-02T20:25:48.704828Z",
     "shell.execute_reply": "2024-07-02T20:25:48.703671Z",
     "shell.execute_reply.started": "2024-07-02T20:25:48.698928Z"
    }
   },
   "outputs": [],
   "source": [
    "output_root = Path(DEFAULT_ROOT)\n",
    "measure = 'stunting'\n",
    "model_version = '2024_07_02.01'\n",
    "age_group_id = 5\n",
    "sex_id = 1"
   ]
  },
  {
   "cell_type": "code",
   "execution_count": 4,
   "id": "197f9f82-18f2-4438-bc16-5cd3348c0677",
   "metadata": {
    "execution": {
     "iopub.execute_input": "2024-07-02T20:25:50.177314Z",
     "iopub.status.busy": "2024-07-02T20:25:50.176696Z",
     "iopub.status.idle": "2024-07-02T20:25:51.634377Z",
     "shell.execute_reply": "2024-07-02T20:25:51.633260Z",
     "shell.execute_reply.started": "2024-07-02T20:25:50.177267Z"
    }
   },
   "outputs": [],
   "source": [
    "cm_data = ClimateMalnutritionData(output_root / measure)\n",
    "model_spec = cm_data.load_model_specification(model_version)\n",
    "\n",
    "# Load training data\n",
    "full_training_data = cm_data.load_training_data(model_spec.version.training_data)\n",
    "# FIXME: Prep leaves a bad index\n",
    "full_training_data = full_training_data.reset_index(drop=True)    \n",
    "full_training_data['intercept'] = 1.\n",
    "\n",
    "subset_mask = (\n",
    "    (full_training_data.sex_id == sex_id) \n",
    "    & (full_training_data.age_group_id == age_group_id)\n",
    ")\n",
    "\n",
    "raw_df = full_training_data.loc[:, model_spec.raw_variables]   \n",
    "null_mask = raw_df.isnull().any(axis=1)\n",
    "assert null_mask.sum() == 0\n",
    "\n",
    "df, var_info = prepare_model_data(raw_df, model_spec)\n",
    "\n",
    "raw_df = raw_df.loc[subset_mask].reset_index(drop=True)\n",
    "df = df.loc[subset_mask].reset_index(drop=True)"
   ]
  },
  {
   "cell_type": "code",
   "execution_count": null,
   "id": "18723f17-6100-48b4-bba6-317314590167",
   "metadata": {},
   "outputs": [],
   "source": []
  },
  {
   "cell_type": "code",
   "execution_count": 5,
   "id": "9d452bdf-cdda-45c0-ba30-0831f4df0ea8",
   "metadata": {
    "execution": {
     "iopub.execute_input": "2024-07-02T20:25:54.835003Z",
     "iopub.status.busy": "2024-07-02T20:25:54.834421Z",
     "iopub.status.idle": "2024-07-02T20:28:47.550582Z",
     "shell.execute_reply": "2024-07-02T20:28:47.549429Z",
     "shell.execute_reply.started": "2024-07-02T20:25:54.834952Z"
    }
   },
   "outputs": [
    {
     "name": "stdout",
     "output_type": "stream",
     "text": [
      "Training stunting ~ (1 | ihme_loc_id) + days_over_30C + ldi_pc_pd + elevation + mean_temperature + any_days_over_30C + any_days_over_30C * ldi_pc_pd for stunting 2024_07_02.01 age 5 sex 1 cols Index(['intercept', 'days_over_30C', 'ldi_pc_pd', 'elevation',\n",
      "       'mean_temperature', 'any_days_over_30C', 'ihme_loc_id', 'stunting'],\n",
      "      dtype='object')\n",
      "Linear mixed model fit by maximum likelihood  ['lmerMod']\n",
      "Formula: stunting~(1|ihme_loc_id)+days_over_30C+ldi_pc_pd+elevation+mean_temperature+any_days_over_30C+any_days_over_30C*ldi_pc_pd\n",
      "\n",
      "Family: binomial\t Inference: parametric\n",
      "\n",
      "Number of observations: 391086\t Groups: {'ihme_loc_id': 54.0}\n",
      "\n",
      "Log-likelihood: -250008.692 \t AIC: 500033.383\n",
      "\n",
      "Random effects:\n",
      "\n",
      "                    Name   Var    Std\n",
      "ihme_loc_id  (Intercept)  0.21  0.458\n",
      "\n",
      "No random effect correlations specified\n",
      "\n",
      "Fixed effects:\n",
      "\n"
     ]
    }
   ],
   "source": [
    "# TODO: Test/train split\n",
    "print(\n",
    "    f\"Training {model_spec.lmer_formula} for {measure} {model_version} \"\n",
    "    f\"age {age_group_id} sex {sex_id} cols {df.columns}\"\n",
    ")\n",
    "model = Lmer(model_spec.lmer_formula, data=df, family='binomial')\n",
    "model.fit()\n",
    "if len(model.warnings) > 0:\n",
    "    # TODO save these to a file\n",
    "    print(model.warnings)\n",
    "    raise ValueError(f\"Model {model_spec} did not fit.\")\n",
    "model.var_info = var_info\n",
    "model.raw_data = raw_df"
   ]
  },
  {
   "cell_type": "code",
   "execution_count": 24,
   "id": "8a2d5f5e-6abf-4a7b-9dd9-ca42d2f5cd09",
   "metadata": {
    "execution": {
     "iopub.execute_input": "2024-07-02T20:34:15.436350Z",
     "iopub.status.busy": "2024-07-02T20:34:15.435805Z",
     "iopub.status.idle": "2024-07-02T20:34:15.450091Z",
     "shell.execute_reply": "2024-07-02T20:34:15.449123Z",
     "shell.execute_reply.started": "2024-07-02T20:34:15.436304Z"
    }
   },
   "outputs": [],
   "source": [
    "import matplotlib.pyplot as plt\n",
    "import seaborn as sns\n",
    "\n",
    "def describe_model(m, fig_title):\n",
    "\n",
    "    print(m.coefs['Estimate'])\n",
    "    df = model.raw_data.copy() \n",
    "    tdf = model.data.copy()\n",
    "    df['fits'] = tdf['fits']\n",
    "    df['over_30'] = pd.cut(df.days_over_30C, [0, 1, 2, 7, 15, 30, 60, 90, 180, 367], right=False)\n",
    "    df['ldi']  = pd.qcut(df.ldi_pc_pd, 10)\n",
    "    df['pred'] = m.predict(m.design_matrix, use_rfx=False, verify_predictions=False)\n",
    "\n",
    "    fig, axes = plt.subplots(figsize=(20, 5), ncols=3)\n",
    "    \n",
    "    sns.heatmap(df.groupby(['ldi', 'over_30']).stunting.mean().unstack(), cmap='RdYlBu_r', ax=axes[0])\n",
    "    axes[0].set_title('Data')\n",
    "    sns.heatmap(df.groupby(['ldi', 'over_30']).fits.mean().unstack(), cmap='RdYlBu_r', ax=axes[1])\n",
    "    axes[1].set_title('With location random effects')\n",
    "    sns.heatmap(df.groupby(['ldi', 'over_30']).pred.mean().unstack(), cmap='RdYlBu_r', ax=axes[2])\n",
    "    axes[2].set_title('Without location random effects')\n",
    "\n",
    "    fig.suptitle(fig_title, fontsize=18)\n",
    "    fig.tight_layout()\n",
    "    plt.show()\n",
    "    \n",
    "\n"
   ]
  },
  {
   "cell_type": "code",
   "execution_count": 25,
   "id": "6cfb53a0-2255-45a8-a242-5818f1ac442c",
   "metadata": {
    "execution": {
     "iopub.execute_input": "2024-07-02T20:34:16.740384Z",
     "iopub.status.busy": "2024-07-02T20:34:16.739880Z",
     "iopub.status.idle": "2024-07-02T20:34:23.460728Z",
     "shell.execute_reply": "2024-07-02T20:34:23.459971Z",
     "shell.execute_reply.started": "2024-07-02T20:34:16.740340Z"
    }
   },
   "outputs": [
    {
     "name": "stdout",
     "output_type": "stream",
     "text": [
      "(Intercept)                   -0.500338\n",
      "days_over_30C                  0.266888\n",
      "ldi_pc_pd                     -2.149267\n",
      "elevation                      0.712970\n",
      "mean_temperature               0.221295\n",
      "any_days_over_30C              0.014584\n",
      "ldi_pc_pd:any_days_over_30C    0.753779\n",
      "Name: Estimate, dtype: float64\n"
     ]
    },
    {
     "data": {
      "image/png": "[encoded data removed]",
      "text/plain": [
       "<Figure size 2000x500 with 6 Axes>"
      ]
     },
     "metadata": {},
     "output_type": "display_data"
    }
   ],
   "source": [
    "describe_model(model, model_spec.lmer_formula)"
   ]
  },
  {
   "cell_type": "code",
   "execution_count": null,
   "id": "34a373cb-2b04-4a56-ac08-85a1e24046b9",
   "metadata": {},
   "outputs": [],
   "source": [
    "describe_model(model, formula)"
   ]
  },
  {
   "cell_type": "code",
   "execution_count": null,
   "id": "226eedf2-326e-44ca-867b-a9338847ce15",
   "metadata": {},
   "outputs": [],
   "source": [
    "model.ranef.mean()"
   ]
  },
  {
   "cell_type": "code",
   "execution_count": null,
   "id": "82ca07d6-3e8d-4df9-bdc9-9dadddb7b9e9",
   "metadata": {},
   "outputs": [],
   "source": [
    "import pickle\n",
    "from pathlib import Path\n",
    "\n",
    "p = Path('/mnt/team/rapidresponse/pub/population/modeling/climate_malnutrition/stunting/models/2024_07_01.05/5_1.pkl')\n",
    "with p.open('rb') as f:\n",
    "    m = pickle.load(f)\n",
    "\n",
    "df = m.data"
   ]
  },
  {
   "cell_type": "code",
   "execution_count": null,
   "id": "445c3ccb-ea79-4354-8477-dbe4673159fe",
   "metadata": {},
   "outputs": [],
   "source": [
    "m.ranef[0]"
   ]
  },
  {
   "cell_type": "code",
   "execution_count": null,
   "id": "4946ab73-a43b-4890-b31c-8469184f39dd",
   "metadata": {},
   "outputs": [],
   "source": [
    "res = m.ranef[0].reset_index().rename(columns={'index': 'grid_cell'})\n",
    "res['ldi'] = res['grid_cell'].apply(lambda x: float(x.split(\"_\")[0].split(\",\")[0][1:]))\n",
    "res['temp'] = res['grid_cell'].apply(lambda x: float(x.split(\"_\")[1].split(\",\")[0][1:]))"
   ]
  },
  {
   "cell_type": "code",
   "execution_count": null,
   "id": "fda3542f-ffff-4c53-911e-7ba5296e8072",
   "metadata": {},
   "outputs": [],
   "source": [
    "sns.heatmap(res.set_index(['ldi', 'temp'])['X.Intercept.'].unstack(), cmap='RdYlBu_r')"
   ]
  },
  {
   "cell_type": "code",
   "execution_count": null,
   "id": "e09b6fff-d005-4704-8f90-2a05b5a857f2",
   "metadata": {},
   "outputs": [],
   "source": [
    "m.var_info['grid_cell']['coefs'].sort_values('grid_cell')"
   ]
  },
  {
   "cell_type": "code",
   "execution_count": null,
   "id": "ca9671e4-14b9-428f-acf5-73ef302296ba",
   "metadata": {},
   "outputs": [],
   "source": [
    "x = raw_df[raw_df.mean_temperature > 28]\n",
    "x['ldi_bin'] = pd.qcut(x.ldi_pc_pd, 10)\n",
    "x.groupby('ldi_bin').stunting.mean()"
   ]
  },
  {
   "cell_type": "code",
   "execution_count": null,
   "id": "c4ba61a8-ce9e-4487-bedb-55da171106a4",
   "metadata": {},
   "outputs": [],
   "source": [
    "raw_df[raw_df.ihme_loc_id == 'MLI'].stunting.mean()"
   ]
  },
  {
   "cell_type": "code",
   "execution_count": null,
   "id": "31dc54a1-c9a4-408b-a656-97ba3a2dc6a9",
   "metadata": {},
   "outputs": [],
   "source": [
    "r = raw_df.combine_first(model.data)"
   ]
  },
  {
   "cell_type": "code",
   "execution_count": null,
   "id": "bd6a0432-419f-4135-9a2a-89a72dfc3030",
   "metadata": {},
   "outputs": [],
   "source": [
    "full_training_data"
   ]
  },
  {
   "cell_type": "code",
   "execution_count": null,
   "id": "1d6fb887-b300-48c0-8dab-03889cdb0930",
   "metadata": {},
   "outputs": [],
   "source": [
    "r['pred_no_loc'] = model.predict(model.data, use_rfx=False, skip_data_checks=True, verify_predictions=False)"
   ]
  },
  {
   "cell_type": "code",
   "execution_count": null,
   "id": "9187955f-843a-41fe-8aec-fdbeead0070e",
   "metadata": {},
   "outputs": [],
   "source": [
    "r[r.ihme_loc_id == 'MLI'].mean()"
   ]
  },
  {
   "cell_type": "code",
   "execution_count": null,
   "id": "0f2c979c-8673-45bb-813b-5c3d9aecda28",
   "metadata": {},
   "outputs": [],
   "source": [
    "sns.heatmap(r.groupby(['ldi_bin', 'temp_bin']).pred_no_loc.mean().unstack(), cmap='RdYlBu_r')"
   ]
  },
  {
   "cell_type": "code",
   "execution_count": null,
   "id": "850b9649-f8e4-492b-a7ff-10292184d8fe",
   "metadata": {},
   "outputs": [],
   "source": [
    "raw_df['ldi_bin'] = pd.cut(raw_df.ldi_pc_pd, sorted(df.ldi.unique()) + [500], right=False)\n",
    "raw_df['temp_bin'] = pd.cut(raw_df.mean_temperature, sorted(df.temp.unique()) + [500], right=False)\n",
    "sns.heatmap(raw_df.groupby(['ldi_bin', 'temp_bin']).stunting.mean().unstack(), cmap='RdYlBu_r')"
   ]
  },
  {
   "cell_type": "code",
   "execution_count": null,
   "id": "2a373be0-6083-4300-b8c3-ea712b9dfcb6",
   "metadata": {},
   "outputs": [],
   "source": [
    "c = x.groupby('ihme_loc_id').stunting.count()\n",
    "c = c / c.sum()\n",
    "pd.concat([c.rename('data_proportion'), model.ranef.loc[c.index]], axis=1).sort_values('data_proportion')"
   ]
  },
  {
   "cell_type": "code",
   "execution_count": null,
   "id": "744fe578-d924-4d30-9aae-468d3d7362b3",
   "metadata": {},
   "outputs": [],
   "source": [
    "cc = raw_df.groupby('ihme_loc_id').stunting.count()\n",
    "cc = cc / cc.sum()\n",
    "cc"
   ]
  },
  {
   "cell_type": "code",
   "execution_count": null,
   "id": "1f42f55f-2098-42f1-b96d-37aa4e148908",
   "metadata": {},
   "outputs": [],
   "source": [
    "df = m.data\n"
   ]
  },
  {
   "cell_type": "code",
   "execution_count": null,
   "id": "bcc3684f-23ee-4b2b-8c29-5c323b1b822c",
   "metadata": {},
   "outputs": [],
   "source": [
    "df['ldi'] = df['grid_cell'].apply(lambda s: s.split(\"_\")[0].split(',')[0][1:]).astype(float)\n",
    "df['temp'] = df['grid_cell'].apply(lambda s: s.split(\"_\")[1].split(',')[0][1:]).astype(float)"
   ]
  },
  {
   "cell_type": "code",
   "execution_count": null,
   "id": "0de0357c-9ae1-4895-9814-b7025aef44fc",
   "metadata": {},
   "outputs": [],
   "source": [
    "import matplotlib.pyplot as plt\n",
    "sns.scatterplot(data=df, x='mean_temperature', y='fits', hue='ldi_pc_pd', alpha=0.5)\n",
    "\n"
   ]
  },
  {
   "cell_type": "code",
   "execution_count": null,
   "id": "e9683b7d-b291-4d0e-b8fb-3abc5d310d93",
   "metadata": {},
   "outputs": [],
   "source": [
    "sns.scatterplot(data=df, x='ldi_pc_pd', y='residuals', hue='mean_temperature', alpha=0.5)"
   ]
  },
  {
   "cell_type": "code",
   "execution_count": null,
   "id": "e022661b-e68f-44e9-8955-fd0ef4516bca",
   "metadata": {},
   "outputs": [],
   "source": [
    "df"
   ]
  },
  {
   "cell_type": "code",
   "execution_count": null,
   "id": "b2e85dc9-5545-42cb-b33a-1c2681d5ca1f",
   "metadata": {},
   "outputs": [],
   "source": [
    "plt.scatter(df.mean_temperature, df.stunting + 0.05 * np.random.random(len(df)), alpha=0.05, s=1)"
   ]
  },
  {
   "cell_type": "code",
   "execution_count": null,
   "id": "ec73afbd-911c-4521-8ac0-66b2fcf9669b",
   "metadata": {},
   "outputs": [],
   "source": [
    "sns.heatmap(df.groupby(['ldi', 'temp']).stunting.mean().unstack().sort_index(), cmap='RdYlBu_r')"
   ]
  },
  {
   "cell_type": "code",
   "execution_count": null,
   "id": "13c8357d-5a8a-4189-99da-5abcfce92a40",
   "metadata": {},
   "outputs": [],
   "source": [
    "sns.heatmap(df.groupby(['ldi', 'temp']).fits.mean().unstack(), cmap='RdYlBu_r', vmax=0.3, vmin=0.15)"
   ]
  },
  {
   "cell_type": "code",
   "execution_count": null,
   "id": "a1040091-e6e1-4420-856e-63f688072962",
   "metadata": {},
   "outputs": [],
   "source": [
    "df.grid_cell.unique()"
   ]
  },
  {
   "cell_type": "code",
   "execution_count": null,
   "id": "0b06a846-d54e-461f-80eb-3ec307190365",
   "metadata": {},
   "outputs": [],
   "source": [
    "rdf = raw_df.combine_first(model.data)\n",
    "\n"
   ]
  },
  {
   "cell_type": "code",
   "execution_count": null,
   "id": "ca172494-cc4a-4cc6-bfd2-713667ee566d",
   "metadata": {},
   "outputs": [],
   "source": [
    "model.data"
   ]
  },
  {
   "cell_type": "code",
   "execution_count": null,
   "id": "90350ff3-30ff-4700-a20e-6c5e24e4308b",
   "metadata": {},
   "outputs": [],
   "source": [
    "fit = m.predict(df, verify_predictions=False)"
   ]
  },
  {
   "cell_type": "code",
   "execution_count": null,
   "id": "0773957f-7d80-407f-8d39-db7d0d8bbf3d",
   "metadata": {},
   "outputs": [],
   "source": [
    "df['pred'] = (df['fits'] > 0.5).astype(int)"
   ]
  },
  {
   "cell_type": "code",
   "execution_count": null,
   "id": "65c54eaa-d4d8-4e80-b104-351c697af3d7",
   "metadata": {},
   "outputs": [],
   "source": [
    "df['residuals'].hist()"
   ]
  },
  {
   "cell_type": "code",
   "execution_count": null,
   "id": "6024da36-a9fa-43f5-a1e4-72974994a8be",
   "metadata": {},
   "outputs": [],
   "source": [
    "df[df.stunting == 0].fits.hist(bins=100)"
   ]
  },
  {
   "cell_type": "code",
   "execution_count": null,
   "id": "d0f4bf2a-db9d-45a1-91df-f3ce728b1d72",
   "metadata": {},
   "outputs": [],
   "source": [
    "df[df.stunting == 1].fits.hist()"
   ]
  },
  {
   "cell_type": "code",
   "execution_count": null,
   "id": "67c58099-9796-4d29-9bd9-6f94e1023273",
   "metadata": {},
   "outputs": [],
   "source": [
    "df = model.data \n",
    "df[df.stunting == 0].residuals.hist()"
   ]
  },
  {
   "cell_type": "code",
   "execution_count": null,
   "id": "5613c53c-bc7f-4238-86bf-28b0bfbc3e28",
   "metadata": {},
   "outputs": [],
   "source": [
    "df[df.stunting == 1].residuals.hist()"
   ]
  },
  {
   "cell_type": "code",
   "execution_count": null,
   "id": "0e522485-7187-4f39-b830-fa2faf6106fa",
   "metadata": {},
   "outputs": [],
   "source": [
    "import numpy as np\n",
    "size = 5000\n",
    "x = pd.DataFrame({\n",
    "    'temp': np.linspace(5, 50, size),\n",
    "    'ldi_pc_pd': np.linspace(0, 500, size),\n",
    "    'ihme_loc_id': np.nan * np.ones(size),\n",
    "    'intercept': np.ones(size),\n",
    "})\n",
    "\n",
    "for predictor in model_spec.predictors:\n",
    "    x, _ = scaling.scale_column(x, predictor.name, predictor.transform, var_info[predictor.name])\n",
    "\n"
   ]
  },
  {
   "cell_type": "code",
   "execution_count": null,
   "id": "e8f31446-7402-41ac-a801-720395f1c613",
   "metadata": {},
   "outputs": [],
   "source": [
    "x"
   ]
  },
  {
   "cell_type": "code",
   "execution_count": null,
   "id": "ad1af737-bd94-4ece-9019-7af52a00f479",
   "metadata": {},
   "outputs": [],
   "source": [
    "model.predict(x, skip_data_checks=True, verify_predictions=False)"
   ]
  },
  {
   "cell_type": "code",
   "execution_count": null,
   "id": "299ec5a8-7574-441d-a426-dc7ad2fb5d43",
   "metadata": {},
   "outputs": [],
   "source": [
    "var_info"
   ]
  },
  {
   "cell_type": "code",
   "execution_count": null,
   "id": "bfdde1be-273e-4d2d-82d0-9018285d4cf1",
   "metadata": {},
   "outputs": [],
   "source": []
  },
  {
   "cell_type": "code",
   "execution_count": null,
   "id": "0a30ec99-4ab9-4bbc-91b2-56f55dace339",
   "metadata": {},
   "outputs": [],
   "source": [
    "raw_df[(raw_df.ldi_pc_pd < 0.95) & (raw_df.mean_temperature < 17.56)].stunting.mean()"
   ]
  },
  {
   "cell_type": "code",
   "execution_count": null,
   "id": "aa4292c0-3564-46d7-a033-48fa136ef8ea",
   "metadata": {},
   "outputs": [],
   "source": [
    "\"/mnt/team/integrated_analytics/pub/goalkeepers/goalkeepers_2024/\""
   ]
  }
 ],
 "metadata": {
  "kernelspec": {
   "display_name": "Python 3 (ipykernel)",
   "language": "python",
   "name": "python3"
  },
  "language_info": {
   "codemirror_mode": {
    "name": "ipython",
    "version": 3
   },
   "file_extension": ".py",
   "mimetype": "text/x-python",
   "name": "python",
   "nbconvert_exporter": "python",
   "pygments_lexer": "ipython3",
   "version": "3.12.4"
  }
 },
 "nbformat": 4,
 "nbformat_minor": 5
}
