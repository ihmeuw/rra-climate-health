{
 "cells": [
  {
   "cell_type": "code",
   "execution_count": null,
   "metadata": {},
   "outputs": [],
   "source": [
    "import pandas as pd\n",
    "import numpy as np\n",
    "import matplotlib.pyplot as plt\n",
    "import seaborn as sns\n",
    "import plotly.express as px\n",
    "import geopandas as gpd\n",
    "import statsmodels.formula.api as smf\n",
    "import statsmodels.api as sm\n",
    "from pathlib import Path\n",
    "\n"
   ]
  },
  {
   "cell_type": "markdown",
   "metadata": {},
   "source": [
    "### Binning"
   ]
  },
  {
   "cell_type": "code",
   "execution_count": null,
   "metadata": {},
   "outputs": [],
   "source": [
    "def bin_column(df, col, nbins, label_strategy = None, bin_strategy = 'quantiles'):\n",
    "    if label_strategy == 'means':\n",
    "        label_strategy = [f'{col}_bin_{i}' for i in range(nbins)] #not quite right\n",
    "    if bin_strategy == 'quantiles':\n",
    "        binned = pd.qcut(df[col], q=nbins, labels=label_strategy, duplicates='drop', precision = 1)\n",
    "    elif bin_strategy == 'equal':\n",
    "        binned = pd.cut(df[col], bins=nbins, labels=label_strategy, include_lowest = True)\n",
    "    elif bin_strategy == 'readable_5':\n",
    "        bins = [df[col].min(), 20] + list(range(22, 2+int(np.ceil(df[col].max())), 2))#list(range(5*int(df[col].min() // 5), 5+5*int(df[col].max() // 5), 5))\n",
    "        binned = pd.cut(df[col], bins = bins, labels = label_strategy, include_lowest = True, right=False)\n",
    "    elif bin_strategy == '0_1_more':\n",
    "        _ , otherbins = pd.qcut(df.loc[df[col] > 1, col], q=nbins-2, retbins = True, precision = 1)\n",
    "        otherbins[-1] = otherbins[-1]+1\n",
    "        bins = [0,1] + list(otherbins)\n",
    "        binned = pd.cut(df[col], bins=bins, labels = label_strategy, include_lowest = True, right=False)\n",
    "    elif bin_strategy == '0_more':\n",
    "        _ , otherbins = pd.qcut(df.loc[df[col] >= 1, col], q=nbins-2, retbins = True, precision = 1)\n",
    "        otherbins[-1] = otherbins[-1]+1\n",
    "        bins = [0,] + list(otherbins)\n",
    "        binned = pd.cut(df[col], bins=bins, labels = label_strategy, include_lowest = True, right=False)\n",
    "    else:\n",
    "        raise ValueError('bin_strategy must be either \"quantiles\" or \"equal\"')\n",
    "    return binned\n",
    "\n",
    "def group_and_bin_column(df, group_cols, bin_col, nbins, bin_strategy = 'quantiles', label_strategy = None, result_column = None, keep_count = False):\n",
    "    if result_column == None:\n",
    "        result_column = bin_col + '_bin'\n",
    "    grouped_df = df.groupby(group_cols + [bin_col], as_index=False).size()\n",
    "    if not keep_count:\n",
    "        grouped_df = grouped_df.drop(columns=['size'])\n",
    "    grouped_df[result_column] = bin_column(grouped_df, bin_col, nbins, label_strategy, bin_strategy) \n",
    "    return pd.merge(df, grouped_df, how='left')\n",
    "    \n",
    "def group_and_bin_column_definition(df, bin_col, bin_category, nbins, bin_strategy = None, result_column = None):\n",
    "    if bin_category == 'household':\n",
    "        group_cols = ['nid', 'hh_id', 'psu', 'year_start']\n",
    "        bin_strategy = 'quantiles' if bin_strategy is None else bin_strategy\n",
    "    if bin_category == 'location':\n",
    "        group_cols = ['lat', 'long']\n",
    "        bin_strategy = 'quantiles' if bin_strategy is None else bin_strategy\n",
    "    if bin_category == 'country':\n",
    "        group_cols = ['iso3']\n",
    "        bin_strategy = 'quantiles' if bin_strategy is None else bin_strategy\n",
    "    return group_and_bin_column(df, group_cols, bin_col, nbins, bin_strategy = bin_strategy, result_column = result_column)\n",
    "\n",
    "printable_names = {\n",
    "        'income_per_day_bin':'Income Per Day (2010 USD)',\n",
    "        'temp_bin': 'Yearly Temperature (Mean)',\n",
    "        'temp_bin_quants' : 'Mean Yearly Temperature',\n",
    "        'temp_avg_bin' : 'Mean Temperature (5 year)',\n",
    "        'precip_bin': 'Yearly Precipitation',\n",
    "        'precip_avg_bin': 'Mean Yearly Precipitation (5 year avg)',\n",
    "        'over30_bin': 'Days over 30 C',\n",
    "        'over30_avg_bin': 'Days over 30 C (5 year avg)',\n",
    "        'stunting': 'Stunting',\n",
    "        'wasting':'Wasting',\n",
    "        'underweight':'Underweight',\n",
    "        'over30_avgperyear_bin' : 'Avg Days over 30 in life',\n",
    "        'over30_birth_bin' : 'Days over 30 in year of birth', \n",
    "        'temp_diff_birth_bin': 'temp diff birth',\n",
    "        'bmi': 'BMI',\n",
    "        'low_adult_bmi' : 'Low adult BMI',\n",
    "    }\n"
   ]
  },
  {
   "cell_type": "code",
   "execution_count": null,
   "metadata": {},
   "outputs": [],
   "source": [
    "OUT_ROOT = Path(\"/mnt/team/rapidresponse/pub/population/data/02-processed-data/cgf_bmi\")\n",
    "merged_df = pd.read_parquet(OUT_ROOT / \"bmi_processed.parquet\")"
   ]
  },
  {
   "cell_type": "code",
   "execution_count": null,
   "metadata": {},
   "outputs": [],
   "source": [
    "nbins = 10\n",
    "merged_binned_df = merged_df.copy()\n",
    "merged_binned_df = group_and_bin_column_definition(merged_binned_df, 'income_per_day', 'household', nbins)\n",
    "merged_binned_df = group_and_bin_column_definition(merged_binned_df, 'over30', 'location', 10, bin_strategy = '0_more')\n",
    "merged_binned_df = group_and_bin_column_definition(merged_binned_df, 'temp', 'location', nbins, bin_strategy = 'readable_5')\n",
    "merged_binned_df = group_and_bin_column_definition(merged_binned_df, 'temp', 'location', nbins, bin_strategy = 'quantiles', result_column = 'temp_bin_quants')\n",
    "merged_binned_df = group_and_bin_column_definition(merged_binned_df, 'precip', 'location', nbins, bin_strategy = 'quantiles')\n",
    "#merged_binned_df = group_and_bin_column_definition(merged_binned_df, 'over30_avg', 'location', nbins, bin_strategy = '0_1_more')\n",
    "#merged_binned_df = group_and_bin_column_definition(merged_binned_df, 'temp_avg', 'location', nbins, bin_strategy = 'quantiles')\n",
    "#merged_binned_df = group_and_bin_column_definition(merged_binned_df, 'precip_avg', 'location', nbins, bin_strategy = 'quantiles')\n",
    "\n",
    "\n",
    "#TODO Assert NAs and length here\n",
    "cols_to_verify = ['over30', 'over30_bin', 'temp', 'temp_bin', 'precip', 'precip_bin', 'income_per_day', 'income_per_day_bin',] \n",
    "        #'over30_avg', 'over30_avg_bin', 'temp_avg', 'temp_avg_bin', 'precip_avg', 'precip_avg_bin']\n",
    "assert(merged_binned_df[cols_to_verify].notna().all().all())"
   ]
  },
  {
   "cell_type": "code",
   "execution_count": null,
   "metadata": {},
   "outputs": [],
   "source": [
    "def plot_heatmap(df, temp_col, wealth_col = 'income_per_day_bin', country = None, year = None, margins = False, filter = None, value_col = 'cgf_value'):  \n",
    "    plot_df = df\n",
    "\n",
    "    if filter is not None:\n",
    "        plot_df = plot_df.query(filter)\n",
    "    if country:\n",
    "        plot_df = plot_df[plot_df['iso3'] == country]\n",
    "    if year:\n",
    "        plot_df = plot_df[plot_df['year_start'] == year]\n",
    "    plot_df = plot_df.rename(columns = printable_names)\n",
    "    pivot_table_mean = plot_df.pivot_table(values=printable_names[value_col], index=printable_names[wealth_col], \n",
    "        columns=printable_names[temp_col], aggfunc='mean', dropna=False, margins=margins)\n",
    "    pivot_table_count = plot_df.pivot_table(values=printable_names[value_col], index=printable_names[wealth_col], \n",
    "        columns=printable_names[temp_col], aggfunc='count', dropna=False, margins=margins)\n",
    "\n",
    "    plt.figure(figsize=(10, 8))\n",
    "    sns.heatmap(pivot_table_mean, annot=True, fmt=\".2f\", cmap='RdYlBu_r')\n",
    "\n",
    "    # Overlay the counts on the heatmap\n",
    "    for i, row in enumerate(pivot_table_mean.values):\n",
    "        for j, value in enumerate(row):\n",
    "            plt.text(j+0.5, i+0.6, f'\\n({pivot_table_count.values[i][j]})', \n",
    "                    ha=\"center\", va=\"center\");\n",
    "\n",
    "    plt.title((f'{printable_names[wealth_col]} x {printable_names[temp_col]} x {printable_names[value_col]}' \n",
    "    f'(mean Proportion & Count) {country if country else \", All Locations\"}'));\n",
    "    plt.show();\n",
    "\n",
    "plot_heatmap(merged_binned_df, 'temp_bin_quants', value_col='low_adult_bmi')"
   ]
  },
  {
   "cell_type": "code",
   "execution_count": null,
   "metadata": {},
   "outputs": [],
   "source": [
    "plot_heatmap(merged_binned_df, 'over30_bin', value_col='low_adult_bmi')"
   ]
  }
 ],
 "metadata": {
  "kernelspec": {
   "display_name": "Python 3",
   "language": "python",
   "name": "python3"
  },
  "language_info": {
   "codemirror_mode": {
    "name": "ipython",
    "version": 3
   },
   "file_extension": ".py",
   "mimetype": "text/x-python",
   "name": "python",
   "nbconvert_exporter": "python",
   "pygments_lexer": "ipython3",
   "version": "3.11.5"
  }
 },
 "nbformat": 4,
 "nbformat_minor": 2
}
