{
 "cells": [
  {
   "cell_type": "code",
   "execution_count": 1,
   "id": "29a9ab1e-ba99-4fc5-a359-9e9cc629b17a",
   "metadata": {
    "execution": {
     "iopub.execute_input": "2024-06-29T01:43:41.841834Z",
     "iopub.status.busy": "2024-06-29T01:43:41.841346Z",
     "iopub.status.idle": "2024-06-29T01:43:49.172811Z",
     "shell.execute_reply": "2024-06-29T01:43:49.171685Z",
     "shell.execute_reply.started": "2024-06-29T01:43:41.841794Z"
    }
   },
   "outputs": [],
   "source": [
    "from pathlib import Path\n",
    "\n",
    "import pandas as pd\n",
    "from sklearn.model_selection import train_test_split\n",
    "import click\n",
    "from rra_tools import jobmon\n",
    "from pymer4.models.Lmer import Lmer\n",
    "\n",
    "from spatial_temp_cgf import cli_options as clio\n",
    "from spatial_temp_cgf import binning, scaling\n",
    "from spatial_temp_cgf.data import DEFAULT_ROOT, ClimateMalnutritionData\n",
    "from spatial_temp_cgf.model_specification import (\n",
    "    ModelSpecification,\n",
    ")\n",
    "\n",
    "from spatial_temp_cgf.training.run_training import prepare_model_data"
   ]
  },
  {
   "cell_type": "code",
   "execution_count": 2,
   "id": "c5ddd649-07a6-4d48-8a68-3046a680f334",
   "metadata": {
    "execution": {
     "iopub.execute_input": "2024-06-29T01:43:49.174511Z",
     "iopub.status.busy": "2024-06-29T01:43:49.173994Z",
     "iopub.status.idle": "2024-06-29T01:43:49.338114Z",
     "shell.execute_reply": "2024-06-29T01:43:49.337082Z",
     "shell.execute_reply.started": "2024-06-29T01:43:49.174486Z"
    }
   },
   "outputs": [
    {
     "data": {
      "text/plain": [
       "'2024_06_28.07'"
      ]
     },
     "execution_count": 2,
     "metadata": {},
     "output_type": "execute_result"
    }
   ],
   "source": [
    "def prepare_model_version(model_specification_path):\n",
    "    output_root = DEFAULT_ROOT\n",
    "\n",
    "    # Build version and save spec\n",
    "    model_spec = ModelSpecification.from_yaml(model_specification_path)\n",
    "    measure = model_spec.measure\n",
    "    measure_root = Path(output_root) / measure\n",
    "    cm_data = ClimateMalnutritionData(measure_root)\n",
    "    model_version = cm_data.new_model_version()\n",
    "    model_spec.version.model = model_version\n",
    "    cm_data.save_model_specification(model_spec, model_version)\n",
    "    return model_version\n",
    "\n",
    "# Prepare a test version.  Only need to run once to do testing\n",
    "model_spec_path = \"../specifications/stunting_test.yaml\"\n",
    "prepare_model_version(model_spec_path)"
   ]
  },
  {
   "cell_type": "code",
   "execution_count": 3,
   "id": "281f2e51-41d2-4e6b-a95c-dec0418118d6",
   "metadata": {
    "execution": {
     "iopub.execute_input": "2024-06-29T01:43:49.340247Z",
     "iopub.status.busy": "2024-06-29T01:43:49.339717Z",
     "iopub.status.idle": "2024-06-29T01:43:49.345520Z",
     "shell.execute_reply": "2024-06-29T01:43:49.344210Z",
     "shell.execute_reply.started": "2024-06-29T01:43:49.340208Z"
    }
   },
   "outputs": [],
   "source": [
    "output_root = Path(DEFAULT_ROOT)\n",
    "measure = 'stunting'\n",
    "model_version = '2024_06_28.06'\n",
    "age_group_id = 4\n",
    "sex_id = 1"
   ]
  },
  {
   "cell_type": "code",
   "execution_count": 4,
   "id": "197f9f82-18f2-4438-bc16-5cd3348c0677",
   "metadata": {
    "execution": {
     "iopub.execute_input": "2024-06-29T01:43:49.352521Z",
     "iopub.status.busy": "2024-06-29T01:43:49.351668Z",
     "iopub.status.idle": "2024-06-29T01:43:50.413979Z",
     "shell.execute_reply": "2024-06-29T01:43:50.412646Z",
     "shell.execute_reply.started": "2024-06-29T01:43:49.352468Z"
    }
   },
   "outputs": [],
   "source": [
    "cm_data = ClimateMalnutritionData(output_root / measure)\n",
    "model_spec = cm_data.load_model_specification(model_version)\n",
    "\n",
    "# Load training data\n",
    "full_training_data = cm_data.load_training_data(model_spec.version.training_data)\n",
    "# FIXME: Prep leaves a bad index\n",
    "full_training_data = full_training_data.reset_index(drop=True)    \n",
    "full_training_data['intercept'] = 1.\n",
    "\n",
    "subset_mask = (\n",
    "    (full_training_data.sex_id == sex_id) \n",
    "    & (full_training_data.age_group_id == age_group_id)\n",
    ")\n",
    "\n",
    "raw_df = full_training_data.loc[:, model_spec.raw_variables]    \n",
    "null_mask = raw_df.isnull().any(axis=1)\n",
    "assert null_mask.sum() == 0\n",
    "\n",
    "df, var_info = prepare_model_data(raw_df, model_spec)\n",
    "\n",
    "df = df.loc[subset_mask].reset_index(drop=True)"
   ]
  },
  {
   "cell_type": "code",
   "execution_count": 5,
   "id": "52c41821-f0f6-4134-931e-a5bb5a667289",
   "metadata": {
    "execution": {
     "iopub.execute_input": "2024-06-29T01:43:50.415825Z",
     "iopub.status.busy": "2024-06-29T01:43:50.415370Z",
     "iopub.status.idle": "2024-06-29T01:43:50.422999Z",
     "shell.execute_reply": "2024-06-29T01:43:50.421891Z",
     "shell.execute_reply.started": "2024-06-29T01:43:50.415792Z"
    }
   },
   "outputs": [
    {
     "data": {
      "text/plain": [
       "'stunting ~ (1 | ihme_loc_id) + temp + ldi_pc_pd + temp * ldi_pc_pd'"
      ]
     },
     "execution_count": 5,
     "metadata": {},
     "output_type": "execute_result"
    }
   ],
   "source": [
    "model_spec.lmer_formula"
   ]
  },
  {
   "cell_type": "code",
   "execution_count": 6,
   "id": "d59750a0-1de8-4c51-9a6c-7be66d4a2882",
   "metadata": {
    "execution": {
     "iopub.execute_input": "2024-06-29T01:43:50.424749Z",
     "iopub.status.busy": "2024-06-29T01:43:50.424424Z",
     "iopub.status.idle": "2024-06-29T01:44:09.001800Z",
     "shell.execute_reply": "2024-06-29T01:44:09.000869Z",
     "shell.execute_reply.started": "2024-06-29T01:43:50.424721Z"
    }
   },
   "outputs": [
    {
     "name": "stdout",
     "output_type": "stream",
     "text": [
      "Fitting generalized linear model using glmer (family binomial) with Wald confidence intervals...\n",
      "\n",
      "Linear mixed model fit by maximum likelihood  ['lmerMod']\n",
      "Formula: stunting~(1|ihme_loc_id)+temp+ldi_pc_pd+temp*ldi_pc_pd\n",
      "\n",
      "Family: binomial\t Inference: parametric\n",
      "\n",
      "Number of observations: 94627\t Groups: {'ihme_loc_id': 52.0}\n",
      "\n",
      "Log-likelihood: -50902.242 \t AIC: 101814.483\n",
      "\n",
      "Random effects:\n",
      "\n",
      "                    Name   Var    Std\n",
      "ihme_loc_id  (Intercept)  0.14  0.374\n",
      "\n",
      "No random effect correlations specified\n",
      "\n",
      "Fixed effects:\n",
      "\n"
     ]
    },
    {
     "data": {
      "text/html": [
       "<div>\n",
       "<style scoped>\n",
       "    .dataframe tbody tr th:only-of-type {\n",
       "        vertical-align: middle;\n",
       "    }\n",
       "\n",
       "    .dataframe tbody tr th {\n",
       "        vertical-align: top;\n",
       "    }\n",
       "\n",
       "    .dataframe thead th {\n",
       "        text-align: right;\n",
       "    }\n",
       "</style>\n",
       "<table border=\"1\" class=\"dataframe\">\n",
       "  <thead>\n",
       "    <tr style=\"text-align: right;\">\n",
       "      <th></th>\n",
       "      <th>Estimate</th>\n",
       "      <th>2.5_ci</th>\n",
       "      <th>97.5_ci</th>\n",
       "      <th>SE</th>\n",
       "      <th>OR</th>\n",
       "      <th>OR_2.5_ci</th>\n",
       "      <th>OR_97.5_ci</th>\n",
       "      <th>Prob</th>\n",
       "      <th>Prob_2.5_ci</th>\n",
       "      <th>Prob_97.5_ci</th>\n",
       "      <th>Z-stat</th>\n",
       "      <th>P-val</th>\n",
       "      <th>Sig</th>\n",
       "    </tr>\n",
       "  </thead>\n",
       "  <tbody>\n",
       "    <tr>\n",
       "      <th>(Intercept)</th>\n",
       "      <td>-0.999</td>\n",
       "      <td>-1.173</td>\n",
       "      <td>-0.824</td>\n",
       "      <td>0.089</td>\n",
       "      <td>0.368</td>\n",
       "      <td>0.309</td>\n",
       "      <td>0.439</td>\n",
       "      <td>0.269</td>\n",
       "      <td>0.236</td>\n",
       "      <td>0.305</td>\n",
       "      <td>-11.230</td>\n",
       "      <td>0.000</td>\n",
       "      <td>***</td>\n",
       "    </tr>\n",
       "    <tr>\n",
       "      <th>temp</th>\n",
       "      <td>-0.238</td>\n",
       "      <td>-0.418</td>\n",
       "      <td>-0.059</td>\n",
       "      <td>0.092</td>\n",
       "      <td>0.788</td>\n",
       "      <td>0.658</td>\n",
       "      <td>0.943</td>\n",
       "      <td>0.441</td>\n",
       "      <td>0.397</td>\n",
       "      <td>0.485</td>\n",
       "      <td>-2.599</td>\n",
       "      <td>0.009</td>\n",
       "      <td>**</td>\n",
       "    </tr>\n",
       "    <tr>\n",
       "      <th>ldi_pc_pd</th>\n",
       "      <td>2.877</td>\n",
       "      <td>0.976</td>\n",
       "      <td>4.777</td>\n",
       "      <td>0.970</td>\n",
       "      <td>17.754</td>\n",
       "      <td>2.654</td>\n",
       "      <td>118.780</td>\n",
       "      <td>0.947</td>\n",
       "      <td>0.726</td>\n",
       "      <td>0.992</td>\n",
       "      <td>2.966</td>\n",
       "      <td>0.003</td>\n",
       "      <td>**</td>\n",
       "    </tr>\n",
       "    <tr>\n",
       "      <th>temp:ldi_pc_pd</th>\n",
       "      <td>-7.472</td>\n",
       "      <td>-9.926</td>\n",
       "      <td>-5.019</td>\n",
       "      <td>1.252</td>\n",
       "      <td>0.001</td>\n",
       "      <td>0.000</td>\n",
       "      <td>0.007</td>\n",
       "      <td>0.001</td>\n",
       "      <td>0.000</td>\n",
       "      <td>0.007</td>\n",
       "      <td>-5.969</td>\n",
       "      <td>0.000</td>\n",
       "      <td>***</td>\n",
       "    </tr>\n",
       "  </tbody>\n",
       "</table>\n",
       "</div>"
      ],
      "text/plain": [
       "                Estimate  2.5_ci  97.5_ci     SE      OR  OR_2.5_ci  \\\n",
       "(Intercept)       -0.999  -1.173   -0.824  0.089   0.368      0.309   \n",
       "temp              -0.238  -0.418   -0.059  0.092   0.788      0.658   \n",
       "ldi_pc_pd          2.877   0.976    4.777  0.970  17.754      2.654   \n",
       "temp:ldi_pc_pd    -7.472  -9.926   -5.019  1.252   0.001      0.000   \n",
       "\n",
       "                OR_97.5_ci   Prob  Prob_2.5_ci  Prob_97.5_ci  Z-stat  P-val  \\\n",
       "(Intercept)          0.439  0.269        0.236         0.305 -11.230  0.000   \n",
       "temp                 0.943  0.441        0.397         0.485  -2.599  0.009   \n",
       "ldi_pc_pd          118.780  0.947        0.726         0.992   2.966  0.003   \n",
       "temp:ldi_pc_pd       0.007  0.001        0.000         0.007  -5.969  0.000   \n",
       "\n",
       "                Sig  \n",
       "(Intercept)     ***  \n",
       "temp             **  \n",
       "ldi_pc_pd        **  \n",
       "temp:ldi_pc_pd  ***  "
      ]
     },
     "execution_count": 6,
     "metadata": {},
     "output_type": "execute_result"
    }
   ],
   "source": [
    "model = Lmer(model_spec.lmer_formula, data=df, family='binomial')\n",
    "model.fit(verbose=True)\n"
   ]
  },
  {
   "cell_type": "code",
   "execution_count": 15,
   "id": "0e522485-7187-4f39-b830-fa2faf6106fa",
   "metadata": {
    "execution": {
     "iopub.execute_input": "2024-06-29T01:46:44.220097Z",
     "iopub.status.busy": "2024-06-29T01:46:44.219376Z",
     "iopub.status.idle": "2024-06-29T01:46:45.328504Z",
     "shell.execute_reply": "2024-06-29T01:46:45.326615Z",
     "shell.execute_reply.started": "2024-06-29T01:46:44.220048Z"
    }
   },
   "outputs": [
    {
     "ename": "KeyError",
     "evalue": "\"None of [Index(['temp'], dtype='object')] are in the [index]\"",
     "output_type": "error",
     "traceback": [
      "\u001b[0;31m---------------------------------------------------------------------------\u001b[0m",
      "\u001b[0;31mKeyError\u001b[0m                                  Traceback (most recent call last)",
      "Cell \u001b[0;32mIn[15], line 11\u001b[0m\n\u001b[1;32m      3\u001b[0m x \u001b[38;5;241m=\u001b[39m pd\u001b[38;5;241m.\u001b[39mDataFrame({\n\u001b[1;32m      4\u001b[0m     \u001b[38;5;124m'\u001b[39m\u001b[38;5;124mtemp\u001b[39m\u001b[38;5;124m'\u001b[39m: np\u001b[38;5;241m.\u001b[39mlinspace(\u001b[38;5;241m5\u001b[39m, \u001b[38;5;241m50\u001b[39m, size),\n\u001b[1;32m      5\u001b[0m     \u001b[38;5;124m'\u001b[39m\u001b[38;5;124mldi_pc_pd\u001b[39m\u001b[38;5;124m'\u001b[39m: np\u001b[38;5;241m.\u001b[39mlinspace(\u001b[38;5;241m0\u001b[39m, \u001b[38;5;241m500\u001b[39m, size),\n\u001b[1;32m      6\u001b[0m     \u001b[38;5;124m'\u001b[39m\u001b[38;5;124mihme_loc_id\u001b[39m\u001b[38;5;124m'\u001b[39m: np\u001b[38;5;241m.\u001b[39mnan \u001b[38;5;241m*\u001b[39m np\u001b[38;5;241m.\u001b[39mones(size),\n\u001b[1;32m      7\u001b[0m     \u001b[38;5;124m'\u001b[39m\u001b[38;5;124mintercept\u001b[39m\u001b[38;5;124m'\u001b[39m: np\u001b[38;5;241m.\u001b[39mones(size),\n\u001b[1;32m      8\u001b[0m })\n\u001b[1;32m     10\u001b[0m \u001b[38;5;28;01mfor\u001b[39;00m predictor \u001b[38;5;129;01min\u001b[39;00m model_spec\u001b[38;5;241m.\u001b[39mpredictors:\n\u001b[0;32m---> 11\u001b[0m     x, _ \u001b[38;5;241m=\u001b[39m \u001b[43mscaling\u001b[49m\u001b[38;5;241;43m.\u001b[39;49m\u001b[43mscale_column\u001b[49m\u001b[43m(\u001b[49m\u001b[43mx\u001b[49m\u001b[43m,\u001b[49m\u001b[43m \u001b[49m\u001b[43mpredictor\u001b[49m\u001b[38;5;241;43m.\u001b[39;49m\u001b[43mname\u001b[49m\u001b[43m,\u001b[49m\u001b[43m \u001b[49m\u001b[43mpredictor\u001b[49m\u001b[38;5;241;43m.\u001b[39;49m\u001b[43mtransform\u001b[49m\u001b[43m,\u001b[49m\u001b[43m \u001b[49m\u001b[43mvar_info\u001b[49m\u001b[43m[\u001b[49m\u001b[43mpredictor\u001b[49m\u001b[38;5;241;43m.\u001b[39;49m\u001b[43mname\u001b[49m\u001b[43m]\u001b[49m\u001b[43m)\u001b[49m\n",
      "File \u001b[0;32m/mnt/share/homes/collijk/code/spatial_temp_cgf/src/spatial_temp_cgf/scaling.py:35\u001b[0m, in \u001b[0;36mscale_column\u001b[0;34m(df, column, spec, info)\u001b[0m\n\u001b[1;32m     33\u001b[0m         scaler\u001b[38;5;241m.\u001b[39mfit(df[[column]])\n\u001b[1;32m     34\u001b[0m         info \u001b[38;5;241m=\u001b[39m scaler\u001b[38;5;241m.\u001b[39mget_params()\n\u001b[0;32m---> 35\u001b[0m     data \u001b[38;5;241m=\u001b[39m pd\u001b[38;5;241m.\u001b[39mSeries(scaler\u001b[38;5;241m.\u001b[39mtransform(\u001b[43mdf\u001b[49m\u001b[43m[\u001b[49m\u001b[43m[\u001b[49m\u001b[43mcolumn\u001b[49m\u001b[43m]\u001b[49m\u001b[43m]\u001b[49m)[:, \u001b[38;5;241m0\u001b[39m], name\u001b[38;5;241m=\u001b[39mcolumn)\n\u001b[1;32m     36\u001b[0m \u001b[38;5;28;01melse\u001b[39;00m:\n\u001b[1;32m     37\u001b[0m     msg \u001b[38;5;241m=\u001b[39m \u001b[38;5;124mf\u001b[39m\u001b[38;5;124m\"\u001b[39m\u001b[38;5;124mUnknown scaling strategy \u001b[39m\u001b[38;5;132;01m{\u001b[39;00mspec\u001b[38;5;241m.\u001b[39mstrategy\u001b[38;5;132;01m}\u001b[39;00m\u001b[38;5;124m\"\u001b[39m\n",
      "File \u001b[0;32m/mnt/share/code/collijk/miniconda/envs/cgf/lib/python3.12/site-packages/pandas/core/series.py:1007\u001b[0m, in \u001b[0;36mSeries.__getitem__\u001b[0;34m(self, key)\u001b[0m\n\u001b[1;32m   1004\u001b[0m     key \u001b[38;5;241m=\u001b[39m np\u001b[38;5;241m.\u001b[39masarray(key, dtype\u001b[38;5;241m=\u001b[39m\u001b[38;5;28mbool\u001b[39m)\n\u001b[1;32m   1005\u001b[0m     \u001b[38;5;28;01mreturn\u001b[39;00m \u001b[38;5;28mself\u001b[39m\u001b[38;5;241m.\u001b[39m_get_values(key)\n\u001b[0;32m-> 1007\u001b[0m \u001b[38;5;28;01mreturn\u001b[39;00m \u001b[38;5;28;43mself\u001b[39;49m\u001b[38;5;241;43m.\u001b[39;49m\u001b[43m_get_with\u001b[49m\u001b[43m(\u001b[49m\u001b[43mkey\u001b[49m\u001b[43m)\u001b[49m\n",
      "File \u001b[0;32m/mnt/share/code/collijk/miniconda/envs/cgf/lib/python3.12/site-packages/pandas/core/series.py:1047\u001b[0m, in \u001b[0;36mSeries._get_with\u001b[0;34m(self, key)\u001b[0m\n\u001b[1;32m   1044\u001b[0m         \u001b[38;5;28;01mreturn\u001b[39;00m \u001b[38;5;28mself\u001b[39m\u001b[38;5;241m.\u001b[39miloc[key]\n\u001b[1;32m   1046\u001b[0m \u001b[38;5;66;03m# handle the dup indexing case GH#4246\u001b[39;00m\n\u001b[0;32m-> 1047\u001b[0m \u001b[38;5;28;01mreturn\u001b[39;00m \u001b[38;5;28;43mself\u001b[39;49m\u001b[38;5;241;43m.\u001b[39;49m\u001b[43mloc\u001b[49m\u001b[43m[\u001b[49m\u001b[43mkey\u001b[49m\u001b[43m]\u001b[49m\n",
      "File \u001b[0;32m/mnt/share/code/collijk/miniconda/envs/cgf/lib/python3.12/site-packages/pandas/core/indexing.py:1073\u001b[0m, in \u001b[0;36m_LocationIndexer.__getitem__\u001b[0;34m(self, key)\u001b[0m\n\u001b[1;32m   1070\u001b[0m axis \u001b[38;5;241m=\u001b[39m \u001b[38;5;28mself\u001b[39m\u001b[38;5;241m.\u001b[39maxis \u001b[38;5;129;01mor\u001b[39;00m \u001b[38;5;241m0\u001b[39m\n\u001b[1;32m   1072\u001b[0m maybe_callable \u001b[38;5;241m=\u001b[39m com\u001b[38;5;241m.\u001b[39mapply_if_callable(key, \u001b[38;5;28mself\u001b[39m\u001b[38;5;241m.\u001b[39mobj)\n\u001b[0;32m-> 1073\u001b[0m \u001b[38;5;28;01mreturn\u001b[39;00m \u001b[38;5;28;43mself\u001b[39;49m\u001b[38;5;241;43m.\u001b[39;49m\u001b[43m_getitem_axis\u001b[49m\u001b[43m(\u001b[49m\u001b[43mmaybe_callable\u001b[49m\u001b[43m,\u001b[49m\u001b[43m \u001b[49m\u001b[43maxis\u001b[49m\u001b[38;5;241;43m=\u001b[39;49m\u001b[43maxis\u001b[49m\u001b[43m)\u001b[49m\n",
      "File \u001b[0;32m/mnt/share/code/collijk/miniconda/envs/cgf/lib/python3.12/site-packages/pandas/core/indexing.py:1301\u001b[0m, in \u001b[0;36m_LocIndexer._getitem_axis\u001b[0;34m(self, key, axis)\u001b[0m\n\u001b[1;32m   1298\u001b[0m     \u001b[38;5;28;01mif\u001b[39;00m \u001b[38;5;28mhasattr\u001b[39m(key, \u001b[38;5;124m\"\u001b[39m\u001b[38;5;124mndim\u001b[39m\u001b[38;5;124m\"\u001b[39m) \u001b[38;5;129;01mand\u001b[39;00m key\u001b[38;5;241m.\u001b[39mndim \u001b[38;5;241m>\u001b[39m \u001b[38;5;241m1\u001b[39m:\n\u001b[1;32m   1299\u001b[0m         \u001b[38;5;28;01mraise\u001b[39;00m \u001b[38;5;167;01mValueError\u001b[39;00m(\u001b[38;5;124m\"\u001b[39m\u001b[38;5;124mCannot index with multidimensional key\u001b[39m\u001b[38;5;124m\"\u001b[39m)\n\u001b[0;32m-> 1301\u001b[0m     \u001b[38;5;28;01mreturn\u001b[39;00m \u001b[38;5;28;43mself\u001b[39;49m\u001b[38;5;241;43m.\u001b[39;49m\u001b[43m_getitem_iterable\u001b[49m\u001b[43m(\u001b[49m\u001b[43mkey\u001b[49m\u001b[43m,\u001b[49m\u001b[43m \u001b[49m\u001b[43maxis\u001b[49m\u001b[38;5;241;43m=\u001b[39;49m\u001b[43maxis\u001b[49m\u001b[43m)\u001b[49m\n\u001b[1;32m   1303\u001b[0m \u001b[38;5;66;03m# nested tuple slicing\u001b[39;00m\n\u001b[1;32m   1304\u001b[0m \u001b[38;5;28;01mif\u001b[39;00m is_nested_tuple(key, labels):\n",
      "File \u001b[0;32m/mnt/share/code/collijk/miniconda/envs/cgf/lib/python3.12/site-packages/pandas/core/indexing.py:1239\u001b[0m, in \u001b[0;36m_LocIndexer._getitem_iterable\u001b[0;34m(self, key, axis)\u001b[0m\n\u001b[1;32m   1236\u001b[0m \u001b[38;5;28mself\u001b[39m\u001b[38;5;241m.\u001b[39m_validate_key(key, axis)\n\u001b[1;32m   1238\u001b[0m \u001b[38;5;66;03m# A collection of keys\u001b[39;00m\n\u001b[0;32m-> 1239\u001b[0m keyarr, indexer \u001b[38;5;241m=\u001b[39m \u001b[38;5;28;43mself\u001b[39;49m\u001b[38;5;241;43m.\u001b[39;49m\u001b[43m_get_listlike_indexer\u001b[49m\u001b[43m(\u001b[49m\u001b[43mkey\u001b[49m\u001b[43m,\u001b[49m\u001b[43m \u001b[49m\u001b[43maxis\u001b[49m\u001b[43m)\u001b[49m\n\u001b[1;32m   1240\u001b[0m \u001b[38;5;28;01mreturn\u001b[39;00m \u001b[38;5;28mself\u001b[39m\u001b[38;5;241m.\u001b[39mobj\u001b[38;5;241m.\u001b[39m_reindex_with_indexers(\n\u001b[1;32m   1241\u001b[0m     {axis: [keyarr, indexer]}, copy\u001b[38;5;241m=\u001b[39m\u001b[38;5;28;01mTrue\u001b[39;00m, allow_dups\u001b[38;5;241m=\u001b[39m\u001b[38;5;28;01mTrue\u001b[39;00m\n\u001b[1;32m   1242\u001b[0m )\n",
      "File \u001b[0;32m/mnt/share/code/collijk/miniconda/envs/cgf/lib/python3.12/site-packages/pandas/core/indexing.py:1432\u001b[0m, in \u001b[0;36m_LocIndexer._get_listlike_indexer\u001b[0;34m(self, key, axis)\u001b[0m\n\u001b[1;32m   1429\u001b[0m ax \u001b[38;5;241m=\u001b[39m \u001b[38;5;28mself\u001b[39m\u001b[38;5;241m.\u001b[39mobj\u001b[38;5;241m.\u001b[39m_get_axis(axis)\n\u001b[1;32m   1430\u001b[0m axis_name \u001b[38;5;241m=\u001b[39m \u001b[38;5;28mself\u001b[39m\u001b[38;5;241m.\u001b[39mobj\u001b[38;5;241m.\u001b[39m_get_axis_name(axis)\n\u001b[0;32m-> 1432\u001b[0m keyarr, indexer \u001b[38;5;241m=\u001b[39m \u001b[43max\u001b[49m\u001b[38;5;241;43m.\u001b[39;49m\u001b[43m_get_indexer_strict\u001b[49m\u001b[43m(\u001b[49m\u001b[43mkey\u001b[49m\u001b[43m,\u001b[49m\u001b[43m \u001b[49m\u001b[43maxis_name\u001b[49m\u001b[43m)\u001b[49m\n\u001b[1;32m   1434\u001b[0m \u001b[38;5;28;01mreturn\u001b[39;00m keyarr, indexer\n",
      "File \u001b[0;32m/mnt/share/code/collijk/miniconda/envs/cgf/lib/python3.12/site-packages/pandas/core/indexes/base.py:6070\u001b[0m, in \u001b[0;36mIndex._get_indexer_strict\u001b[0;34m(self, key, axis_name)\u001b[0m\n\u001b[1;32m   6067\u001b[0m \u001b[38;5;28;01melse\u001b[39;00m:\n\u001b[1;32m   6068\u001b[0m     keyarr, indexer, new_indexer \u001b[38;5;241m=\u001b[39m \u001b[38;5;28mself\u001b[39m\u001b[38;5;241m.\u001b[39m_reindex_non_unique(keyarr)\n\u001b[0;32m-> 6070\u001b[0m \u001b[38;5;28;43mself\u001b[39;49m\u001b[38;5;241;43m.\u001b[39;49m\u001b[43m_raise_if_missing\u001b[49m\u001b[43m(\u001b[49m\u001b[43mkeyarr\u001b[49m\u001b[43m,\u001b[49m\u001b[43m \u001b[49m\u001b[43mindexer\u001b[49m\u001b[43m,\u001b[49m\u001b[43m \u001b[49m\u001b[43maxis_name\u001b[49m\u001b[43m)\u001b[49m\n\u001b[1;32m   6072\u001b[0m keyarr \u001b[38;5;241m=\u001b[39m \u001b[38;5;28mself\u001b[39m\u001b[38;5;241m.\u001b[39mtake(indexer)\n\u001b[1;32m   6073\u001b[0m \u001b[38;5;28;01mif\u001b[39;00m \u001b[38;5;28misinstance\u001b[39m(key, Index):\n\u001b[1;32m   6074\u001b[0m     \u001b[38;5;66;03m# GH 42790 - Preserve name from an Index\u001b[39;00m\n",
      "File \u001b[0;32m/mnt/share/code/collijk/miniconda/envs/cgf/lib/python3.12/site-packages/pandas/core/indexes/base.py:6130\u001b[0m, in \u001b[0;36mIndex._raise_if_missing\u001b[0;34m(self, key, indexer, axis_name)\u001b[0m\n\u001b[1;32m   6128\u001b[0m     \u001b[38;5;28;01mif\u001b[39;00m use_interval_msg:\n\u001b[1;32m   6129\u001b[0m         key \u001b[38;5;241m=\u001b[39m \u001b[38;5;28mlist\u001b[39m(key)\n\u001b[0;32m-> 6130\u001b[0m     \u001b[38;5;28;01mraise\u001b[39;00m \u001b[38;5;167;01mKeyError\u001b[39;00m(\u001b[38;5;124mf\u001b[39m\u001b[38;5;124m\"\u001b[39m\u001b[38;5;124mNone of [\u001b[39m\u001b[38;5;132;01m{\u001b[39;00mkey\u001b[38;5;132;01m}\u001b[39;00m\u001b[38;5;124m] are in the [\u001b[39m\u001b[38;5;132;01m{\u001b[39;00maxis_name\u001b[38;5;132;01m}\u001b[39;00m\u001b[38;5;124m]\u001b[39m\u001b[38;5;124m\"\u001b[39m)\n\u001b[1;32m   6132\u001b[0m not_found \u001b[38;5;241m=\u001b[39m \u001b[38;5;28mlist\u001b[39m(ensure_index(key)[missing_mask\u001b[38;5;241m.\u001b[39mnonzero()[\u001b[38;5;241m0\u001b[39m]]\u001b[38;5;241m.\u001b[39munique())\n\u001b[1;32m   6133\u001b[0m \u001b[38;5;28;01mraise\u001b[39;00m \u001b[38;5;167;01mKeyError\u001b[39;00m(\u001b[38;5;124mf\u001b[39m\u001b[38;5;124m\"\u001b[39m\u001b[38;5;132;01m{\u001b[39;00mnot_found\u001b[38;5;132;01m}\u001b[39;00m\u001b[38;5;124m not in index\u001b[39m\u001b[38;5;124m\"\u001b[39m)\n",
      "\u001b[0;31mKeyError\u001b[0m: \"None of [Index(['temp'], dtype='object')] are in the [index]\""
     ]
    }
   ],
   "source": [
    "import numpy as np\n",
    "size = 5000\n",
    "x = pd.DataFrame({\n",
    "    'temp': np.linspace(5, 50, size),\n",
    "    'ldi_pc_pd': np.linspace(0, 500, size),\n",
    "    'ihme_loc_id': np.nan * np.ones(size),\n",
    "    'intercept': np.ones(size),\n",
    "})\n",
    "\n",
    "for predictor in model_spec.predictors:\n",
    "    x, _ = scaling.scale_column(x, predictor.name, predictor.transform, var_info[predictor.name])\n",
    "\n"
   ]
  },
  {
   "cell_type": "code",
   "execution_count": 14,
   "id": "e8f31446-7402-41ac-a801-720395f1c613",
   "metadata": {
    "execution": {
     "iopub.execute_input": "2024-06-29T01:46:35.986536Z",
     "iopub.status.busy": "2024-06-29T01:46:35.985936Z",
     "iopub.status.idle": "2024-06-29T01:46:36.000808Z",
     "shell.execute_reply": "2024-06-29T01:46:35.999400Z",
     "shell.execute_reply.started": "2024-06-29T01:46:35.986486Z"
    }
   },
   "outputs": [
    {
     "data": {
      "text/plain": [
       "(0       1.0\n",
       " 1       1.0\n",
       " 2       1.0\n",
       " 3       1.0\n",
       " 4       1.0\n",
       "        ... \n",
       " 4995    1.0\n",
       " 4996    1.0\n",
       " 4997    1.0\n",
       " 4998    1.0\n",
       " 4999    1.0\n",
       " Name: intercept, Length: 5000, dtype: float64,\n",
       " {})"
      ]
     },
     "execution_count": 14,
     "metadata": {},
     "output_type": "execute_result"
    }
   ],
   "source": [
    "x"
   ]
  },
  {
   "cell_type": "code",
   "execution_count": null,
   "id": "ad1af737-bd94-4ece-9019-7af52a00f479",
   "metadata": {},
   "outputs": [],
   "source": [
    "model.predict(x, skip_data_checks=True, verify_predictions=False)"
   ]
  },
  {
   "cell_type": "code",
   "execution_count": 8,
   "id": "299ec5a8-7574-441d-a426-dc7ad2fb5d43",
   "metadata": {
    "execution": {
     "iopub.execute_input": "2024-06-29T01:44:14.471228Z",
     "iopub.status.busy": "2024-06-29T01:44:14.470723Z",
     "iopub.status.idle": "2024-06-29T01:44:14.481955Z",
     "shell.execute_reply": "2024-06-29T01:44:14.480260Z",
     "shell.execute_reply.started": "2024-06-29T01:44:14.471182Z"
    }
   },
   "outputs": [
    {
     "data": {
      "text/plain": [
       "{'intercept': {},\n",
       " 'temp': {'clip': False, 'copy': True, 'feature_range': (0, 1)},\n",
       " 'ldi_pc_pd': {'clip': False, 'copy': True, 'feature_range': (0, 1)}}"
      ]
     },
     "execution_count": 8,
     "metadata": {},
     "output_type": "execute_result"
    }
   ],
   "source": [
    "var_info"
   ]
  },
  {
   "cell_type": "code",
   "execution_count": 10,
   "id": "bfdde1be-273e-4d2d-82d0-9018285d4cf1",
   "metadata": {
    "execution": {
     "iopub.execute_input": "2024-06-29T01:45:13.812681Z",
     "iopub.status.busy": "2024-06-29T01:45:13.812108Z",
     "iopub.status.idle": "2024-06-29T01:45:13.824285Z",
     "shell.execute_reply": "2024-06-29T01:45:13.822605Z",
     "shell.execute_reply.started": "2024-06-29T01:45:13.812632Z"
    }
   },
   "outputs": [
    {
     "data": {
      "text/plain": [
       "[PredictorSpecification(name='intercept', transform=ScalingSpecification(type='scaling', strategy=<ScalingStrategy.IDENTITY: 'identity'>), random_effect='ihme_loc_id'),\n",
       " PredictorSpecification(name='temp', transform=ScalingSpecification(type='scaling', strategy=<ScalingStrategy.MIN_MAX: 'min_max'>), random_effect=''),\n",
       " PredictorSpecification(name='ldi_pc_pd', transform=ScalingSpecification(type='scaling', strategy=<ScalingStrategy.MIN_MAX: 'min_max'>), random_effect='')]"
      ]
     },
     "execution_count": 10,
     "metadata": {},
     "output_type": "execute_result"
    }
   ],
   "source": []
  },
  {
   "cell_type": "code",
   "execution_count": null,
   "id": "0a30ec99-4ab9-4bbc-91b2-56f55dace339",
   "metadata": {},
   "outputs": [],
   "source": []
  }
 ],
 "metadata": {
  "kernelspec": {
   "display_name": "Python 3 (ipykernel)",
   "language": "python",
   "name": "python3"
  },
  "language_info": {
   "codemirror_mode": {
    "name": "ipython",
    "version": 3
   },
   "file_extension": ".py",
   "mimetype": "text/x-python",
   "name": "python",
   "nbconvert_exporter": "python",
   "pygments_lexer": "ipython3",
   "version": "3.12.4"
  }
 },
 "nbformat": 4,
 "nbformat_minor": 5
}
