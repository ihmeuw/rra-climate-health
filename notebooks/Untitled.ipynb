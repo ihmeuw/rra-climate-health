{
 "cells": [
  {
   "cell_type": "code",
   "execution_count": 38,
   "id": "eda1dc9d-7718-4841-a79d-3bf73c3e2b89",
   "metadata": {
    "execution": {
     "iopub.execute_input": "2024-07-01T17:08:07.769193Z",
     "iopub.status.busy": "2024-07-01T17:08:07.768620Z",
     "iopub.status.idle": "2024-07-01T17:08:07.941691Z",
     "shell.execute_reply": "2024-07-01T17:08:07.940494Z",
     "shell.execute_reply.started": "2024-07-01T17:08:07.769145Z"
    }
   },
   "outputs": [],
   "source": [
    "import tqdm\n",
    "import pandas as pd\n",
    "from pathlib import Path\n",
    "import xarray as xr"
   ]
  },
  {
   "cell_type": "code",
   "execution_count": 41,
   "id": "a7656b7d-a342-4c5d-81da-2df837f8ba00",
   "metadata": {
    "execution": {
     "iopub.execute_input": "2024-07-01T17:08:23.519007Z",
     "iopub.status.busy": "2024-07-01T17:08:23.518444Z",
     "iopub.status.idle": "2024-07-01T17:08:23.528060Z",
     "shell.execute_reply": "2024-07-01T17:08:23.526945Z",
     "shell.execute_reply.started": "2024-07-01T17:08:23.518959Z"
    }
   },
   "outputs": [],
   "source": [
    "p = Path('/mnt/team/rapidresponse/pub/population/modeling/climate_malnutrition/zzz_archive/v1/results/tempgrid_o30/')\n",
    "\n",
    "def get_forecasted_population(location_id, year, sex_id, age_group_id):\n",
    "    FORECASTED_POPULATIONS_FILEPATH = '/mnt/share/forecasting/data/7/future/population/20240529_500d_2100_lhc_ref_squeeze_hiv_shocks_covid_all_gbd_7_shifted/population.nc'\n",
    "    future_pop_x = xr.open_dataset(FORECASTED_POPULATIONS_FILEPATH)\n",
    "    filtered_pop_x = future_pop_x.loc[dict(year_id=year, location_id = location_id, sex_id = sex_id, age_group_id=age_group_id)]\n",
    "    mean_population = filtered_pop_x.mean(dim='draw').population.to_numpy()[0]\n",
    "    return mean_population\n",
    "\n",
    "def get_forecasted_population_full():\n",
    "    FORECASTED_POPULATIONS_FILEPATH = '/mnt/share/forecasting/data/7/future/population/20240529_500d_2100_lhc_ref_squeeze_hiv_shocks_covid_all_gbd_7_shifted/population.nc'\n",
    "    future_pop_ds = xr.open_dataset(FORECASTED_POPULATIONS_FILEPATH)\n",
    "    mean_population = future_pop_ds.mean(dim='draw').population.to_numpy()[0]\n",
    "    return mean_population"
   ]
  },
  {
   "cell_type": "code",
   "execution_count": 15,
   "id": "2d00f08f-ce7d-4e45-86f3-128c86d28987",
   "metadata": {
    "execution": {
     "iopub.execute_input": "2024-07-01T16:34:52.467285Z",
     "iopub.status.busy": "2024-07-01T16:34:52.466679Z",
     "iopub.status.idle": "2024-07-01T16:52:25.663742Z",
     "shell.execute_reply": "2024-07-01T16:52:25.662448Z",
     "shell.execute_reply.started": "2024-07-01T16:34:52.467236Z"
    }
   },
   "outputs": [
    {
     "name": "stderr",
     "output_type": "stream",
     "text": [
      "100%|██████████████████████████████████████████████████████████| 42679/42679 [17:31<00:00, 40.57it/s]\n"
     ]
    }
   ],
   "source": [
    "dfs = []\n",
    "for fp in tqdm.tqdm(list(p.glob(\"stunting_*_ssp245_*\"))):\n",
    "    df = pd.read_parquet(fp)\n",
    "    dfs.append(df)"
   ]
  },
  {
   "cell_type": "code",
   "execution_count": 16,
   "id": "25e89886-2d18-4cf1-991b-0e263654acf9",
   "metadata": {
    "execution": {
     "iopub.execute_input": "2024-07-01T16:52:36.487585Z",
     "iopub.status.busy": "2024-07-01T16:52:36.486962Z",
     "iopub.status.idle": "2024-07-01T16:52:45.453208Z",
     "shell.execute_reply": "2024-07-01T16:52:45.452192Z",
     "shell.execute_reply.started": "2024-07-01T16:52:36.487535Z"
    }
   },
   "outputs": [],
   "source": [
    "pd.concat(dfs).to_parquet('ssp245.parquet')"
   ]
  },
  {
   "cell_type": "code",
   "execution_count": 17,
   "id": "44a3d859-3503-4f55-b2a8-8e6f64fd6ccd",
   "metadata": {
    "execution": {
     "iopub.execute_input": "2024-07-01T16:54:53.742983Z",
     "iopub.status.busy": "2024-07-01T16:54:53.742396Z",
     "iopub.status.idle": "2024-07-01T16:54:53.841304Z",
     "shell.execute_reply": "2024-07-01T16:54:53.839958Z",
     "shell.execute_reply.started": "2024-07-01T16:54:53.742934Z"
    }
   },
   "outputs": [],
   "source": [
    "ssp119 = pd.read_parquet('ssp119.parquet')\n",
    "ssp245 = pd.read_parquet('ssp245.parquet')"
   ]
  },
  {
   "cell_type": "code",
   "execution_count": 65,
   "id": "54a977ac-55c6-43a1-b949-452a901a16af",
   "metadata": {
    "execution": {
     "iopub.execute_input": "2024-07-01T17:16:29.826066Z",
     "iopub.status.busy": "2024-07-01T17:16:29.825506Z",
     "iopub.status.idle": "2024-07-01T17:16:30.423394Z",
     "shell.execute_reply": "2024-07-01T17:16:30.422421Z",
     "shell.execute_reply.started": "2024-07-01T17:16:29.826017Z"
    }
   },
   "outputs": [],
   "source": [
    "combined = pd.concat([\n",
    "    ssp245.set_index('year_id', append=True).affected_proportion.rename('ssp245'),\n",
    "    ssp119.set_index('year_id', append=True).affected_proportion.rename('ssp119'),\n",
    "], axis=1).sort_index()\n",
    "combined = combined.reset_index().rename(columns={'fhs_location_id': 'location_id'}).assign(location_id = lambda x: x.location_id.astype(int))\n",
    "combined = combined[combined.year_id > 2020]\n",
    "combined = combined.set_index(['location_id', 'age_group_id', 'sex_id', 'year_id']).sort_index()"
   ]
  },
  {
   "cell_type": "code",
   "execution_count": 66,
   "id": "e1d0a881-78ec-422f-bcbf-b3fd35fdcec2",
   "metadata": {
    "execution": {
     "iopub.execute_input": "2024-07-01T17:16:33.589699Z",
     "iopub.status.busy": "2024-07-01T17:16:33.588987Z",
     "iopub.status.idle": "2024-07-01T17:16:33.613797Z",
     "shell.execute_reply": "2024-07-01T17:16:33.612917Z",
     "shell.execute_reply.started": "2024-07-01T17:16:33.589650Z"
    }
   },
   "outputs": [
    {
     "data": {
      "text/html": [
       "<div>\n",
       "<style scoped>\n",
       "    .dataframe tbody tr th:only-of-type {\n",
       "        vertical-align: middle;\n",
       "    }\n",
       "\n",
       "    .dataframe tbody tr th {\n",
       "        vertical-align: top;\n",
       "    }\n",
       "\n",
       "    .dataframe thead th {\n",
       "        text-align: right;\n",
       "    }\n",
       "</style>\n",
       "<table border=\"1\" class=\"dataframe\">\n",
       "  <thead>\n",
       "    <tr style=\"text-align: right;\">\n",
       "      <th></th>\n",
       "      <th></th>\n",
       "      <th></th>\n",
       "      <th></th>\n",
       "      <th>ssp245</th>\n",
       "      <th>ssp119</th>\n",
       "    </tr>\n",
       "    <tr>\n",
       "      <th>location_id</th>\n",
       "      <th>age_group_id</th>\n",
       "      <th>sex_id</th>\n",
       "      <th>year_id</th>\n",
       "      <th></th>\n",
       "      <th></th>\n",
       "    </tr>\n",
       "  </thead>\n",
       "  <tbody>\n",
       "    <tr>\n",
       "      <th rowspan=\"5\" valign=\"top\">7</th>\n",
       "      <th rowspan=\"5\" valign=\"top\">4</th>\n",
       "      <th rowspan=\"5\" valign=\"top\">1</th>\n",
       "      <th>2021</th>\n",
       "      <td>0.372456</td>\n",
       "      <td>0.372456</td>\n",
       "    </tr>\n",
       "    <tr>\n",
       "      <th>2022</th>\n",
       "      <td>0.372984</td>\n",
       "      <td>0.372984</td>\n",
       "    </tr>\n",
       "    <tr>\n",
       "      <th>2023</th>\n",
       "      <td>0.373290</td>\n",
       "      <td>0.373290</td>\n",
       "    </tr>\n",
       "    <tr>\n",
       "      <th>2024</th>\n",
       "      <td>0.373542</td>\n",
       "      <td>0.373542</td>\n",
       "    </tr>\n",
       "    <tr>\n",
       "      <th>2025</th>\n",
       "      <td>0.373580</td>\n",
       "      <td>0.373580</td>\n",
       "    </tr>\n",
       "    <tr>\n",
       "      <th>...</th>\n",
       "      <th>...</th>\n",
       "      <th>...</th>\n",
       "      <th>...</th>\n",
       "      <td>...</td>\n",
       "      <td>...</td>\n",
       "    </tr>\n",
       "    <tr>\n",
       "      <th rowspan=\"5\" valign=\"top\">60137</th>\n",
       "      <th rowspan=\"5\" valign=\"top\">5</th>\n",
       "      <th rowspan=\"5\" valign=\"top\">2</th>\n",
       "      <th>2096</th>\n",
       "      <td>0.373940</td>\n",
       "      <td>0.373940</td>\n",
       "    </tr>\n",
       "    <tr>\n",
       "      <th>2097</th>\n",
       "      <td>0.373907</td>\n",
       "      <td>0.373907</td>\n",
       "    </tr>\n",
       "    <tr>\n",
       "      <th>2098</th>\n",
       "      <td>0.373875</td>\n",
       "      <td>0.373875</td>\n",
       "    </tr>\n",
       "    <tr>\n",
       "      <th>2099</th>\n",
       "      <td>0.373842</td>\n",
       "      <td>0.373842</td>\n",
       "    </tr>\n",
       "    <tr>\n",
       "      <th>2100</th>\n",
       "      <td>0.373810</td>\n",
       "      <td>0.373810</td>\n",
       "    </tr>\n",
       "  </tbody>\n",
       "</table>\n",
       "<p>150080 rows × 2 columns</p>\n",
       "</div>"
      ],
      "text/plain": [
       "                                           ssp245    ssp119\n",
       "location_id age_group_id sex_id year_id                    \n",
       "7           4            1      2021     0.372456  0.372456\n",
       "                                2022     0.372984  0.372984\n",
       "                                2023     0.373290  0.373290\n",
       "                                2024     0.373542  0.373542\n",
       "                                2025     0.373580  0.373580\n",
       "...                                           ...       ...\n",
       "60137       5            2      2096     0.373940  0.373940\n",
       "                                2097     0.373907  0.373907\n",
       "                                2098     0.373875  0.373875\n",
       "                                2099     0.373842  0.373842\n",
       "                                2100     0.373810  0.373810\n",
       "\n",
       "[150080 rows x 2 columns]"
      ]
     },
     "execution_count": 66,
     "metadata": {},
     "output_type": "execute_result"
    }
   ],
   "source": [
    "combined"
   ]
  },
  {
   "cell_type": "code",
   "execution_count": 57,
   "id": "c862c5a2-3087-4191-ba5c-76f6dba9af2f",
   "metadata": {
    "execution": {
     "iopub.execute_input": "2024-07-01T17:13:43.769579Z",
     "iopub.status.busy": "2024-07-01T17:13:43.768854Z",
     "iopub.status.idle": "2024-07-01T17:13:53.891015Z",
     "shell.execute_reply": "2024-07-01T17:13:53.889848Z",
     "shell.execute_reply.started": "2024-07-01T17:13:43.769529Z"
    }
   },
   "outputs": [],
   "source": [
    "FORECASTED_POPULATIONS_FILEPATH = '/mnt/share/forecasting/data/7/future/population/20240529_500d_2100_lhc_ref_squeeze_hiv_shocks_covid_all_gbd_7_shifted/population.nc'\n",
    "pop = xr.open_dataset(FORECASTED_POPULATIONS_FILEPATH).mean(dim='draw').sel(age_group_id=[4,5]).to_dataframe().reset_index(\"scenario\", drop=True).reset_index().set_index(['location_id', 'age_group_id', 'sex_id', 'year_id'])"
   ]
  },
  {
   "cell_type": "code",
   "execution_count": 70,
   "id": "27a82bb5-68ab-4619-b931-162da11ec9ab",
   "metadata": {
    "execution": {
     "iopub.execute_input": "2024-07-01T17:17:14.115157Z",
     "iopub.status.busy": "2024-07-01T17:17:14.114608Z",
     "iopub.status.idle": "2024-07-01T17:17:14.179125Z",
     "shell.execute_reply": "2024-07-01T17:17:14.177848Z",
     "shell.execute_reply.started": "2024-07-01T17:17:14.115109Z"
    }
   },
   "outputs": [],
   "source": [
    "df = pd.concat([combined, pop.loc[combined.index]], axis=1)"
   ]
  },
  {
   "cell_type": "code",
   "execution_count": 74,
   "id": "c7de1175-18f1-439e-8387-5fe517b4481b",
   "metadata": {
    "execution": {
     "iopub.execute_input": "2024-07-01T17:19:32.985162Z",
     "iopub.status.busy": "2024-07-01T17:19:32.984584Z",
     "iopub.status.idle": "2024-07-01T17:19:32.996355Z",
     "shell.execute_reply": "2024-07-01T17:19:32.995022Z",
     "shell.execute_reply.started": "2024-07-01T17:19:32.985114Z"
    }
   },
   "outputs": [],
   "source": [
    "df['ssp245_count'] = df['ssp245'] * df['population']\n",
    "df['ssp119_count'] = df['ssp119'] * df['population']\n",
    "df['delta'] = df['ssp245_count'] - df['ssp119_count']"
   ]
  },
  {
   "cell_type": "code",
   "execution_count": 75,
   "id": "c87ea7c1-d10d-4dac-be80-b77e00fa4add",
   "metadata": {
    "execution": {
     "iopub.execute_input": "2024-07-01T17:19:49.253687Z",
     "iopub.status.busy": "2024-07-01T17:19:49.253102Z",
     "iopub.status.idle": "2024-07-01T17:19:49.278475Z",
     "shell.execute_reply": "2024-07-01T17:19:49.277357Z",
     "shell.execute_reply.started": "2024-07-01T17:19:49.253640Z"
    }
   },
   "outputs": [
    {
     "data": {
      "text/plain": [
       "age_group_id  sex_id\n",
       "4             1        -1.065470e+07\n",
       "              2        -8.856631e+06\n",
       "5             1        -8.978653e+07\n",
       "              2        -7.994703e+07\n",
       "Name: delta, dtype: float64"
      ]
     },
     "execution_count": 75,
     "metadata": {},
     "output_type": "execute_result"
    }
   ],
   "source": [
    "df.groupby(['age_group_id', 'sex_id']).delta.sum()"
   ]
  },
  {
   "cell_type": "code",
   "execution_count": null,
   "id": "72bf5ade-9958-46f2-926b-05d2b59e95c4",
   "metadata": {},
   "outputs": [],
   "source": []
  }
 ],
 "metadata": {
  "kernelspec": {
   "display_name": "Python 3 (ipykernel)",
   "language": "python",
   "name": "python3"
  },
  "language_info": {
   "codemirror_mode": {
    "name": "ipython",
    "version": 3
   },
   "file_extension": ".py",
   "mimetype": "text/x-python",
   "name": "python",
   "nbconvert_exporter": "python",
   "pygments_lexer": "ipython3",
   "version": "3.12.4"
  }
 },
 "nbformat": 4,
 "nbformat_minor": 5
}
