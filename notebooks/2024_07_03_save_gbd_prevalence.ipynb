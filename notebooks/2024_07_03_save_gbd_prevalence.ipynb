{
 "cells": [
  {
   "cell_type": "code",
   "execution_count": 1,
   "metadata": {},
   "outputs": [],
   "source": [
    "from pathlib import Path\n",
    "\n",
    "import db_queries\n",
    "\n",
    "\n",
    "output_path = Path('/mnt/team/rapidresponse/pub/population/modeling/climate_malnutrition/input/gbd_prevalence')\n"
   ]
  },
  {
   "cell_type": "code",
   "execution_count": 2,
   "metadata": {},
   "outputs": [],
   "source": [
    "for measure, me_id in [('stunting', 10556), ('wasting', 10558)]:  # Moderate\n",
    "    gbd = db_queries.get_model_results(\n",
    "        'epi',\n",
    "        me_id,\n",
    "        release_id=9,\n",
    "        measure_id=5,\n",
    "        location_id='all',\n",
    "        year_id='all',\n",
    "        age_group_id='all',\n",
    "        sex_id='all',\n",
    "    )\n",
    "    gbd.to_parquet(output_path / f'{measure}.parquet')\n"
   ]
  },
  {
   "cell_type": "code",
   "execution_count": 3,
   "metadata": {},
   "outputs": [],
   "source": [
    "for measure, rei_id in [('stunting', 241), ('wasting', 240)]:\n",
    "    sev = db_queries.get_outputs(\n",
    "        'rei',\n",
    "        rei_id=rei_id,\n",
    "        release_id=9,\n",
    "        measure_id=29,\n",
    "        metric_id=3,\n",
    "        location_id='all',\n",
    "        year_id='all',\n",
    "        age_group_id='all',\n",
    "        sex_id='all',\n",
    "    )\n",
    "    sev.to_parquet(output_path / f'{measure}_sev.parquet')\n"
   ]
  },
  {
   "cell_type": "code",
   "execution_count": 3,
   "metadata": {},
   "outputs": [],
   "source": [
    "age_metadata = db_queries.get_age_metadata(release_id=9)\n",
    "age_metadata.to_parquet(output_path / 'age_metadata.parquet')\n"
   ]
  },
  {
   "cell_type": "code",
   "execution_count": 5,
   "metadata": {},
   "outputs": [],
   "source": [
    "population = db_queries.get_population(\n",
    "    release_id=9,\n",
    "    location_id='all',\n",
    "    year_id='all',\n",
    "    age_group_id='all',\n",
    "    sex_id='all',\n",
    ")\n",
    "population.to_parquet(output_path / 'population.parquet')\n"
   ]
  },
  {
   "cell_type": "code",
   "execution_count": null,
   "metadata": {},
   "outputs": [],
   "source": []
  }
 ],
 "metadata": {
  "kernelspec": {
   "display_name": "covid-gbd-model",
   "language": "python",
   "name": "python3"
  },
  "language_info": {
   "codemirror_mode": {
    "name": "ipython",
    "version": 3
   },
   "file_extension": ".py",
   "mimetype": "text/x-python",
   "name": "python",
   "nbconvert_exporter": "python",
   "pygments_lexer": "ipython3",
   "version": "3.11.9"
  }
 },
 "nbformat": 4,
 "nbformat_minor": 2
}
