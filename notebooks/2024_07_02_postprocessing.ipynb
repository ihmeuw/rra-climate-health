{
 "cells": [
  {
   "cell_type": "code",
   "execution_count": 50,
   "id": "eda1dc9d-7718-4841-a79d-3bf73c3e2b89",
   "metadata": {
    "execution": {
     "iopub.execute_input": "2024-07-02T14:36:39.240246Z",
     "iopub.status.busy": "2024-07-02T14:36:39.239687Z",
     "iopub.status.idle": "2024-07-02T14:36:42.411933Z",
     "shell.execute_reply": "2024-07-02T14:36:42.410747Z",
     "shell.execute_reply.started": "2024-07-02T14:36:39.240201Z"
    }
   },
   "outputs": [],
   "source": [
    "import tqdm\n",
    "import pandas as pd\n",
    "from pathlib import Path\n",
    "import xarray as xr\n",
    "from spatial_temp_cgf.data import DEFAULT_ROOT, ClimateMalnutritionData"
   ]
  },
  {
   "cell_type": "code",
   "execution_count": 51,
   "id": "f3564d3a-6a54-4246-a56a-707ebc1ea30a",
   "metadata": {
    "execution": {
     "iopub.execute_input": "2024-07-02T14:37:05.179205Z",
     "iopub.status.busy": "2024-07-02T14:37:05.178626Z",
     "iopub.status.idle": "2024-07-02T14:37:05.185374Z",
     "shell.execute_reply": "2024-07-02T14:37:05.184181Z",
     "shell.execute_reply.started": "2024-07-02T14:37:05.179158Z"
    }
   },
   "outputs": [],
   "source": [
    "cm_data = ClimateMalnutritionData(DEFAULT_ROOT)"
   ]
  },
  {
   "cell_type": "code",
   "execution_count": 60,
   "id": "d4397187-e7fa-4e8c-aa6c-bef598af9c70",
   "metadata": {
    "execution": {
     "iopub.execute_input": "2024-07-02T14:39:51.762598Z",
     "iopub.status.busy": "2024-07-02T14:39:51.762019Z",
     "iopub.status.idle": "2024-07-02T14:39:58.750465Z",
     "shell.execute_reply": "2024-07-02T14:39:58.749567Z",
     "shell.execute_reply.started": "2024-07-02T14:39:51.762551Z"
    }
   },
   "outputs": [
    {
     "data": {
      "text/plain": [
       "parent_id                                                   196\n",
       "level                                                         4\n",
       "loc_name                                           Eastern Cape\n",
       "loc_nm_sh                                                E Cape\n",
       "spr_reg_id                                                  166\n",
       "region_id                                                   192\n",
       "ihme_lc_id                                              ZAF_482\n",
       "GAUL_CODE                                                 77310\n",
       "area_sqkm                                         168905.174179\n",
       "geometry      MULTIPOLYGON (((26.28513908000008 -33.83736037...\n",
       "Name: 482, dtype: object"
      ]
     },
     "execution_count": 60,
     "metadata": {},
     "output_type": "execute_result"
    }
   ],
   "source": [
    "cm_data.load_fhs_shapes().set_index('loc_id').loc[482]"
   ]
  },
  {
   "cell_type": "code",
   "execution_count": 53,
   "id": "2d00f08f-ce7d-4e45-86f3-128c86d28987",
   "metadata": {
    "execution": {
     "iopub.execute_input": "2024-07-02T14:37:30.143878Z",
     "iopub.status.busy": "2024-07-02T14:37:30.143640Z",
     "iopub.status.idle": "2024-07-02T14:37:32.059515Z",
     "shell.execute_reply": "2024-07-02T14:37:32.058502Z",
     "shell.execute_reply.started": "2024-07-02T14:37:30.143855Z"
    }
   },
   "outputs": [
    {
     "name": "stderr",
     "output_type": "stream",
     "text": [
      "100%|███████████████████████████████████████████████████████████████| 81/81 [00:00<00:00, 254.78it/s]\n",
      "100%|███████████████████████████████████████████████████████████████| 81/81 [00:00<00:00, 262.44it/s]\n"
     ]
    }
   ],
   "source": [
    "p = Path('/mnt/team/rapidresponse/pub/population/modeling/climate_malnutrition/stunting/results/2024_07_02.01/')\n",
    "\n",
    "for scenario in ['ssp119', 'ssp245']:\n",
    "    dfs = []\n",
    "    for fp in tqdm.tqdm(list(p.glob(f\"*_{scenario}.parquet\"))):\n",
    "        df = pd.read_parquet(fp)\n",
    "        df['year_id'] = int(fp.name.split('_')[0])\n",
    "        dfs.append(df)\n",
    "    pd.concat(dfs).to_parquet(f'{scenario}.parquet')\n",
    "\n",
    "idx_cols = ['location_id', 'age_group_id', 'sex_id', 'year_id']\n",
    "ssp119 = pd.read_parquet('ssp119.parquet').set_index(idx_cols).value\n",
    "ssp245 = pd.read_parquet('ssp245.parquet').set_index(idx_cols).value\n",
    "\n",
    "combined = pd.concat([\n",
    "    ssp245.rename('ssp245'),\n",
    "    ssp119.rename('ssp119'),\n",
    "], axis=1).sort_index()\n",
    "combined = combined.reset_index().assign(location_id = lambda x: x.location_id.astype(int))\n",
    "combined = combined.set_index(['location_id', 'age_group_id', 'sex_id', 'year_id']).sort_index()"
   ]
  },
  {
   "cell_type": "code",
   "execution_count": 74,
   "id": "0d81cb83-8986-44a1-b8e2-24d344231fe9",
   "metadata": {
    "execution": {
     "iopub.execute_input": "2024-07-02T14:54:28.983988Z",
     "iopub.status.busy": "2024-07-02T14:54:28.983410Z",
     "iopub.status.idle": "2024-07-02T14:54:28.992505Z",
     "shell.execute_reply": "2024-07-02T14:54:28.991171Z",
     "shell.execute_reply.started": "2024-07-02T14:54:28.983938Z"
    }
   },
   "outputs": [],
   "source": [
    "combined['delta_p'] = combined['ssp245'] - combined['ssp119']"
   ]
  },
  {
   "cell_type": "code",
   "execution_count": 76,
   "id": "f7292cb8-07bb-4b14-907d-32c9409d92f3",
   "metadata": {
    "execution": {
     "iopub.execute_input": "2024-07-02T14:55:00.040369Z",
     "iopub.status.busy": "2024-07-02T14:55:00.039801Z",
     "iopub.status.idle": "2024-07-02T14:55:00.050459Z",
     "shell.execute_reply": "2024-07-02T14:55:00.049234Z",
     "shell.execute_reply.started": "2024-07-02T14:55:00.040319Z"
    }
   },
   "outputs": [
    {
     "data": {
      "text/plain": [
       "-3.0811461e-06"
      ]
     },
     "execution_count": 76,
     "metadata": {},
     "output_type": "execute_result"
    }
   ],
   "source": [
    "combined['delta_p'].mean()"
   ]
  },
  {
   "cell_type": "code",
   "execution_count": 65,
   "id": "cf113468-9355-423f-be32-5a434e51a733",
   "metadata": {
    "execution": {
     "iopub.execute_input": "2024-07-02T14:45:22.690269Z",
     "iopub.status.busy": "2024-07-02T14:45:22.689696Z",
     "iopub.status.idle": "2024-07-02T14:45:22.717239Z",
     "shell.execute_reply": "2024-07-02T14:45:22.716308Z",
     "shell.execute_reply.started": "2024-07-02T14:45:22.690222Z"
    }
   },
   "outputs": [
    {
     "data": {
      "text/plain": [
       "1047"
      ]
     },
     "execution_count": 65,
     "metadata": {},
     "output_type": "execute_result"
    }
   ],
   "source": [
    "locs = combined.reset_index().location_id.unique()\n",
    "len(locs)"
   ]
  },
  {
   "cell_type": "code",
   "execution_count": 68,
   "id": "5f5a19f4-7a31-48e7-900c-7722ee988f72",
   "metadata": {
    "execution": {
     "iopub.execute_input": "2024-07-02T14:45:56.035990Z",
     "iopub.status.busy": "2024-07-02T14:45:56.035460Z",
     "iopub.status.idle": "2024-07-02T14:45:56.057022Z",
     "shell.execute_reply": "2024-07-02T14:45:56.055892Z",
     "shell.execute_reply.started": "2024-07-02T14:45:56.035943Z"
    }
   },
   "outputs": [
    {
     "data": {
      "text/plain": [
       "482"
      ]
     },
     "execution_count": 68,
     "metadata": {},
     "output_type": "execute_result"
    }
   ],
   "source": [
    "len(pop.reset_index().location_id.unique())"
   ]
  },
  {
   "cell_type": "code",
   "execution_count": 57,
   "id": "e1d0a881-78ec-422f-bcbf-b3fd35fdcec2",
   "metadata": {
    "execution": {
     "iopub.execute_input": "2024-07-02T14:38:30.814826Z",
     "iopub.status.busy": "2024-07-02T14:38:30.814244Z",
     "iopub.status.idle": "2024-07-02T14:38:31.485936Z",
     "shell.execute_reply": "2024-07-02T14:38:31.485199Z",
     "shell.execute_reply.started": "2024-07-02T14:38:30.814780Z"
    }
   },
   "outputs": [
    {
     "name": "stdout",
     "output_type": "stream",
     "text": [
      "339228\n",
      "183060\n",
      "[(482, 4, 1, 2020), (482, 4, 1, 2021), (482, 4, 1, 2022), (482, 4, 1, 2023), (482, 4, 1, 2024), (482, 4, 1, 2025), (482, 4, 1, 2026), (482, 4, 1, 2027), (482, 4, 1, 2028), (482, 4, 1, 2029)]\n"
     ]
    }
   ],
   "source": [
    "print(len(combined))\n",
    "print(len(combined.index.difference(pop.index)))\n",
    "print(list(combined.index.difference(pop.index))[:10])"
   ]
  },
  {
   "cell_type": "code",
   "execution_count": 47,
   "id": "dbdf34a6-139b-448b-95e4-9c0343465cf8",
   "metadata": {
    "execution": {
     "iopub.execute_input": "2024-07-02T14:29:53.776688Z",
     "iopub.status.busy": "2024-07-02T14:29:53.776084Z",
     "iopub.status.idle": "2024-07-02T14:29:53.902621Z",
     "shell.execute_reply": "2024-07-02T14:29:53.901581Z",
     "shell.execute_reply.started": "2024-07-02T14:29:53.776641Z"
    }
   },
   "outputs": [
    {
     "name": "stdout",
     "output_type": "stream",
     "text": [
      "3856\n"
     ]
    }
   ],
   "source": [
    "print(len(pop.index.difference(combined.index)))"
   ]
  },
  {
   "cell_type": "code",
   "execution_count": 69,
   "id": "c862c5a2-3087-4191-ba5c-76f6dba9af2f",
   "metadata": {
    "execution": {
     "iopub.execute_input": "2024-07-02T14:51:27.692039Z",
     "iopub.status.busy": "2024-07-02T14:51:27.691445Z",
     "iopub.status.idle": "2024-07-02T14:51:45.430172Z",
     "shell.execute_reply": "2024-07-02T14:51:45.429089Z",
     "shell.execute_reply.started": "2024-07-02T14:51:27.691989Z"
    }
   },
   "outputs": [],
   "source": [
    "FORECASTED_POPULATIONS_FILEPATH = '/mnt/share/forecasting/data/7/future/population/20240529_500d_2100_lhc_ref_squeeze_hiv_shocks_covid_all_gbd_7_shifted/population.nc'\n",
    "pop = xr.open_dataset(FORECASTED_POPULATIONS_FILEPATH).mean(dim='draw').sel(age_group_id=[4,5]).to_dataframe()#.reset_index(\"scenario\", drop=True).reset_index().set_index(['location_id', 'age_group_id', 'sex_id', 'year_id'])"
   ]
  },
  {
   "cell_type": "code",
   "execution_count": 34,
   "id": "1a111191-0bf5-4f29-b956-865fb4dfd29a",
   "metadata": {
    "execution": {
     "iopub.execute_input": "2024-07-02T14:23:41.705326Z",
     "iopub.status.busy": "2024-07-02T14:23:41.704742Z",
     "iopub.status.idle": "2024-07-02T14:23:41.723693Z",
     "shell.execute_reply": "2024-07-02T14:23:41.722722Z",
     "shell.execute_reply.started": "2024-07-02T14:23:41.705278Z"
    }
   },
   "outputs": [
    {
     "data": {
      "text/plain": [
       "location_id       int64\n",
       "age_group_id      int64\n",
       "sex_id            int64\n",
       "year_id           int64\n",
       "population      float64\n",
       "dtype: object"
      ]
     },
     "execution_count": 34,
     "metadata": {},
     "output_type": "execute_result"
    }
   ],
   "source": [
    "pop.reset_index().location_id.unique()"
   ]
  },
  {
   "cell_type": "code",
   "execution_count": 38,
   "id": "be555f4c-2256-44d4-b177-38effcccace5",
   "metadata": {
    "execution": {
     "iopub.execute_input": "2024-07-02T14:25:06.915604Z",
     "iopub.status.busy": "2024-07-02T14:25:06.914948Z",
     "iopub.status.idle": "2024-07-02T14:25:06.920902Z",
     "shell.execute_reply": "2024-07-02T14:25:06.919710Z",
     "shell.execute_reply.started": "2024-07-02T14:25:06.915558Z"
    }
   },
   "outputs": [],
   "source": [
    "#list(combined.index.difference(pop.index))"
   ]
  },
  {
   "cell_type": "code",
   "execution_count": 39,
   "id": "27a82bb5-68ab-4619-b931-162da11ec9ab",
   "metadata": {
    "execution": {
     "iopub.execute_input": "2024-07-02T14:25:19.267752Z",
     "iopub.status.busy": "2024-07-02T14:25:19.267122Z",
     "iopub.status.idle": "2024-07-02T14:25:19.272952Z",
     "shell.execute_reply": "2024-07-02T14:25:19.271791Z",
     "shell.execute_reply.started": "2024-07-02T14:25:19.267706Z"
    }
   },
   "outputs": [],
   "source": [
    "#df = pd.concat([combined, pop.loc[combined.index]], axis=1)"
   ]
  },
  {
   "cell_type": "code",
   "execution_count": null,
   "id": "c7de1175-18f1-439e-8387-5fe517b4481b",
   "metadata": {
    "execution": {
     "iopub.status.busy": "2024-07-02T14:21:32.664173Z",
     "iopub.status.idle": "2024-07-02T14:21:32.664445Z",
     "shell.execute_reply": "2024-07-02T14:21:32.664321Z",
     "shell.execute_reply.started": "2024-07-02T14:21:32.664309Z"
    }
   },
   "outputs": [],
   "source": [
    "df['ssp245_count'] = df['ssp245'] * df['population']\n",
    "df['ssp119_count'] = df['ssp119'] * df['population']\n",
    "df['delta'] = df['ssp245_count'] - df['ssp119_count']"
   ]
  },
  {
   "cell_type": "code",
   "execution_count": null,
   "id": "c87ea7c1-d10d-4dac-be80-b77e00fa4add",
   "metadata": {
    "execution": {
     "iopub.status.busy": "2024-07-02T14:21:32.665387Z",
     "iopub.status.idle": "2024-07-02T14:21:32.665707Z",
     "shell.execute_reply": "2024-07-02T14:21:32.665567Z",
     "shell.execute_reply.started": "2024-07-02T14:21:32.665554Z"
    }
   },
   "outputs": [],
   "source": [
    "df.groupby(['age_group_id', 'sex_id']).delta.sum()"
   ]
  },
  {
   "cell_type": "code",
   "execution_count": null,
   "id": "72bf5ade-9958-46f2-926b-05d2b59e95c4",
   "metadata": {},
   "outputs": [],
   "source": []
  }
 ],
 "metadata": {
  "kernelspec": {
   "display_name": "Python 3 (ipykernel)",
   "language": "python",
   "name": "python3"
  },
  "language_info": {
   "codemirror_mode": {
    "name": "ipython",
    "version": 3
   },
   "file_extension": ".py",
   "mimetype": "text/x-python",
   "name": "python",
   "nbconvert_exporter": "python",
   "pygments_lexer": "ipython3",
   "version": "3.12.4"
  }
 },
 "nbformat": 4,
 "nbformat_minor": 5
}
