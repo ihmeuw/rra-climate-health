{
 "cells": [
  {
   "cell_type": "code",
   "execution_count": 1,
   "metadata": {},
   "outputs": [],
   "source": [
    "from pathlib import Path\n",
    "import tqdm\n",
    "from multiprocessing import Pool\n",
    "from functools import partial\n",
    "import pickle\n",
    "\n",
    "import warnings\n",
    "warnings.simplefilter('ignore')\n",
    "\n",
    "import pandas as pd\n",
    "import matplotlib.pyplot as plt\n",
    "import seaborn as sns\n",
    "\n",
    "# import db_queries\n",
    "\n",
    "from rra_climate_health.data_prep.location_mapping import FHS_HIERARCHY_PATH\n",
    "\n",
    "ROOT = Path('/mnt/team/rapidresponse/pub/population/modeling/climate_malnutrition')\n"
   ]
  },
  {
   "cell_type": "code",
   "execution_count": 2,
   "metadata": {},
   "outputs": [],
   "source": [
    "fhs_loc_meta = pd.read_parquet(FHS_HIERARCHY_PATH).sort_values('sort_order').reset_index(drop=True)\n",
    "\n",
    "# location_ids = fhs_loc_meta.loc[fhs_loc_meta['most_detailed'] == 1, 'location_id'].to_list()\n",
    "versions = {\n",
    "    'stunting': {\n",
    "        'old model': {\n",
    "            'model': '2024_09_09.02',\n",
    "            'results': '2024_09_09.01',\n",
    "        },\n",
    "        'new model': {\n",
    "            'model': '2024_09_09.02',\n",
    "            'results': '2024_10_18.03',\n",
    "        },\n",
    "    },\n",
    "    'wasting': {\n",
    "        'old model': {\n",
    "            'model': '2024_09_09.02',\n",
    "            'results': '2024_09_09.01',\n",
    "        },\n",
    "        'new model': {\n",
    "            'model': '2024_09_09.02',\n",
    "            'results': '2024_10_18.03',\n",
    "        },\n",
    "    },\n",
    "}\n",
    "scenarios = ['ssp245']\n",
    "year_ids = list(range(2020, 2023))  # list(range(2020, 2101))\n",
    "age_group_ids = [4, 5]\n",
    "sex_ids = [1, 2]\n"
   ]
  },
  {
   "cell_type": "code",
   "execution_count": 3,
   "metadata": {},
   "outputs": [
    {
     "ename": "FileNotFoundError",
     "evalue": "[Errno 2] No such file or directory: '/mnt/team/rapidresponse/pub/population/modeling/climate_malnutrition/stunting/models/2024_09_09.02/4_1.pkl'",
     "output_type": "error",
     "traceback": [
      "\u001b[0;31m---------------------------------------------------------------------------\u001b[0m",
      "\u001b[0;31mFileNotFoundError\u001b[0m                         Traceback (most recent call last)",
      "Cell \u001b[0;32mIn[3], line 44\u001b[0m\n\u001b[1;32m     41\u001b[0m \u001b[38;5;28;01mfor\u001b[39;00m age_group_id \u001b[38;5;129;01min\u001b[39;00m age_group_ids:\n\u001b[1;32m     42\u001b[0m     \u001b[38;5;28;01mfor\u001b[39;00m sex_id \u001b[38;5;129;01min\u001b[39;00m sex_ids:\n\u001b[1;32m     43\u001b[0m         random_effects\u001b[38;5;241m.\u001b[39mappend(\n\u001b[0;32m---> 44\u001b[0m             \u001b[43mload_random_effects\u001b[49m\u001b[43m(\u001b[49m\u001b[43mROOT\u001b[49m\u001b[43m,\u001b[49m\u001b[43m \u001b[49m\u001b[43mmeasure\u001b[49m\u001b[43m,\u001b[49m\u001b[43m \u001b[49m\u001b[43mversion_dict\u001b[49m\u001b[43m[\u001b[49m\u001b[38;5;124;43m'\u001b[39;49m\u001b[38;5;124;43mmodel\u001b[39;49m\u001b[38;5;124;43m'\u001b[39;49m\u001b[43m]\u001b[49m\u001b[43m,\u001b[49m\n\u001b[1;32m     45\u001b[0m \u001b[43m                                \u001b[49m\u001b[43mversion_label\u001b[49m\u001b[43m,\u001b[49m\u001b[43m \u001b[49m\u001b[43mage_group_id\u001b[49m\u001b[43m,\u001b[49m\u001b[43m \u001b[49m\u001b[43msex_id\u001b[49m\u001b[43m,\u001b[49m\u001b[43m \u001b[49m\u001b[43mfhs_loc_meta\u001b[49m\u001b[43m)\u001b[49m\n\u001b[1;32m     46\u001b[0m         )\n\u001b[1;32m     47\u001b[0m \u001b[38;5;28;01mfor\u001b[39;00m year_id \u001b[38;5;129;01min\u001b[39;00m year_ids:\n\u001b[1;32m     48\u001b[0m     \u001b[38;5;28;01mfor\u001b[39;00m scenario \u001b[38;5;129;01min\u001b[39;00m scenarios:\n\u001b[1;32m     49\u001b[0m         \u001b[38;5;66;03m# load_predictions = partial(\u001b[39;00m\n\u001b[1;32m     50\u001b[0m         \u001b[38;5;66;03m#     load_prediction,\u001b[39;00m\n\u001b[0;32m   (...)\u001b[0m\n\u001b[1;32m     57\u001b[0m         \u001b[38;5;66;03m# with Pool(20) as pool:\u001b[39;00m\n\u001b[1;32m     58\u001b[0m         \u001b[38;5;66;03m#     location_predictions = list(pool.imap(load_predictions, location_ids))\u001b[39;00m\n",
      "Cell \u001b[0;32mIn[3], line 17\u001b[0m, in \u001b[0;36mload_random_effects\u001b[0;34m(root, measure, version, version_label, age_group_id, sex_id, fhs_loc_meta)\u001b[0m\n\u001b[1;32m     15\u001b[0m \u001b[38;5;28;01mdef\u001b[39;00m \u001b[38;5;21mload_random_effects\u001b[39m(root: Path, measure: \u001b[38;5;28mstr\u001b[39m, version: \u001b[38;5;28mstr\u001b[39m,\n\u001b[1;32m     16\u001b[0m                         version_label: \u001b[38;5;28mstr\u001b[39m, age_group_id: \u001b[38;5;28mint\u001b[39m, sex_id: \u001b[38;5;28mint\u001b[39m, fhs_loc_meta: pd\u001b[38;5;241m.\u001b[39mDataFrame):\n\u001b[0;32m---> 17\u001b[0m     data \u001b[38;5;241m=\u001b[39m \u001b[43mload_model\u001b[49m\u001b[43m(\u001b[49m\u001b[43mroot\u001b[49m\u001b[43m,\u001b[49m\u001b[43m \u001b[49m\u001b[43mmeasure\u001b[49m\u001b[43m,\u001b[49m\u001b[43m \u001b[49m\u001b[43mversion\u001b[49m\u001b[43m,\u001b[49m\u001b[43m \u001b[49m\u001b[43mage_group_id\u001b[49m\u001b[43m,\u001b[49m\u001b[43m \u001b[49m\u001b[43msex_id\u001b[49m\u001b[43m)\u001b[49m\u001b[38;5;241m.\u001b[39mranef\n\u001b[1;32m     18\u001b[0m     data[\u001b[38;5;124m'\u001b[39m\u001b[38;5;124mversion_label\u001b[39m\u001b[38;5;124m'\u001b[39m] \u001b[38;5;241m=\u001b[39m version_label\n\u001b[1;32m     19\u001b[0m     data[\u001b[38;5;124m'\u001b[39m\u001b[38;5;124mage_group_id\u001b[39m\u001b[38;5;124m'\u001b[39m] \u001b[38;5;241m=\u001b[39m age_group_id\n",
      "Cell \u001b[0;32mIn[3], line 10\u001b[0m, in \u001b[0;36mload_model\u001b[0;34m(root, measure, version, age_group_id, sex_id)\u001b[0m\n\u001b[1;32m      9\u001b[0m \u001b[38;5;28;01mdef\u001b[39;00m \u001b[38;5;21mload_model\u001b[39m(root: Path, measure: \u001b[38;5;28mstr\u001b[39m, version: \u001b[38;5;28mstr\u001b[39m, age_group_id: \u001b[38;5;28mint\u001b[39m, sex_id: \u001b[38;5;28mint\u001b[39m):\n\u001b[0;32m---> 10\u001b[0m     \u001b[38;5;28;01mwith\u001b[39;00m \u001b[38;5;28;43mopen\u001b[39;49m\u001b[43m(\u001b[49m\u001b[43mroot\u001b[49m\u001b[43m \u001b[49m\u001b[38;5;241;43m/\u001b[39;49m\u001b[43m \u001b[49m\u001b[43mmeasure\u001b[49m\u001b[43m \u001b[49m\u001b[38;5;241;43m/\u001b[39;49m\u001b[43m \u001b[49m\u001b[38;5;124;43m'\u001b[39;49m\u001b[38;5;124;43mmodels\u001b[39;49m\u001b[38;5;124;43m'\u001b[39;49m\u001b[38;5;241;43m/\u001b[39;49m\u001b[43m \u001b[49m\u001b[43mversion\u001b[49m\u001b[43m \u001b[49m\u001b[38;5;241;43m/\u001b[39;49m\u001b[43m \u001b[49m\u001b[38;5;124;43mf\u001b[39;49m\u001b[38;5;124;43m'\u001b[39;49m\u001b[38;5;132;43;01m{\u001b[39;49;00m\u001b[43mage_group_id\u001b[49m\u001b[38;5;132;43;01m}\u001b[39;49;00m\u001b[38;5;124;43m_\u001b[39;49m\u001b[38;5;132;43;01m{\u001b[39;49;00m\u001b[43msex_id\u001b[49m\u001b[38;5;132;43;01m}\u001b[39;49;00m\u001b[38;5;124;43m.pkl\u001b[39;49m\u001b[38;5;124;43m'\u001b[39;49m\u001b[43m,\u001b[49m\u001b[43m \u001b[49m\u001b[38;5;124;43m'\u001b[39;49m\u001b[38;5;124;43mrb\u001b[39;49m\u001b[38;5;124;43m'\u001b[39;49m\u001b[43m)\u001b[49m \u001b[38;5;28;01mas\u001b[39;00m file:\n\u001b[1;32m     11\u001b[0m         model \u001b[38;5;241m=\u001b[39m pickle\u001b[38;5;241m.\u001b[39mload(file)\n\u001b[1;32m     12\u001b[0m     \u001b[38;5;28;01mreturn\u001b[39;00m model\n",
      "File \u001b[0;32m/ihme/code/rmbarber/miniconda3/envs/cgf/lib/python3.12/site-packages/IPython/core/interactiveshell.py:324\u001b[0m, in \u001b[0;36m_modified_open\u001b[0;34m(file, *args, **kwargs)\u001b[0m\n\u001b[1;32m    317\u001b[0m \u001b[38;5;28;01mif\u001b[39;00m file \u001b[38;5;129;01min\u001b[39;00m {\u001b[38;5;241m0\u001b[39m, \u001b[38;5;241m1\u001b[39m, \u001b[38;5;241m2\u001b[39m}:\n\u001b[1;32m    318\u001b[0m     \u001b[38;5;28;01mraise\u001b[39;00m \u001b[38;5;167;01mValueError\u001b[39;00m(\n\u001b[1;32m    319\u001b[0m         \u001b[38;5;124mf\u001b[39m\u001b[38;5;124m\"\u001b[39m\u001b[38;5;124mIPython won\u001b[39m\u001b[38;5;124m'\u001b[39m\u001b[38;5;124mt let you open fd=\u001b[39m\u001b[38;5;132;01m{\u001b[39;00mfile\u001b[38;5;132;01m}\u001b[39;00m\u001b[38;5;124m by default \u001b[39m\u001b[38;5;124m\"\u001b[39m\n\u001b[1;32m    320\u001b[0m         \u001b[38;5;124m\"\u001b[39m\u001b[38;5;124mas it is likely to crash IPython. If you know what you are doing, \u001b[39m\u001b[38;5;124m\"\u001b[39m\n\u001b[1;32m    321\u001b[0m         \u001b[38;5;124m\"\u001b[39m\u001b[38;5;124myou can use builtins\u001b[39m\u001b[38;5;124m'\u001b[39m\u001b[38;5;124m open.\u001b[39m\u001b[38;5;124m\"\u001b[39m\n\u001b[1;32m    322\u001b[0m     )\n\u001b[0;32m--> 324\u001b[0m \u001b[38;5;28;01mreturn\u001b[39;00m \u001b[43mio_open\u001b[49m\u001b[43m(\u001b[49m\u001b[43mfile\u001b[49m\u001b[43m,\u001b[49m\u001b[43m \u001b[49m\u001b[38;5;241;43m*\u001b[39;49m\u001b[43margs\u001b[49m\u001b[43m,\u001b[49m\u001b[43m \u001b[49m\u001b[38;5;241;43m*\u001b[39;49m\u001b[38;5;241;43m*\u001b[39;49m\u001b[43mkwargs\u001b[49m\u001b[43m)\u001b[49m\n",
      "\u001b[0;31mFileNotFoundError\u001b[0m: [Errno 2] No such file or directory: '/mnt/team/rapidresponse/pub/population/modeling/climate_malnutrition/stunting/models/2024_09_09.02/4_1.pkl'"
     ]
    }
   ],
   "source": [
    "# def load_prediction(location_id: int, root: Path, label: str, measure: str, scenario: str, year_id: int):\n",
    "#     try:\n",
    "#         data = pd.read_parquet(root / 'results' / label / f'{measure}_{location_id}_{scenario}_{year_id}.parquet').reset_index()\n",
    "#         data['location_id'] = data['fhs_location_id'].astype(int)\n",
    "#         return data.set_index(['location_id', 'year_id', 'age_group_id', 'sex_id', 'scenario', 'measure']).loc[:, 'affected_proportion']\n",
    "#     except FileNotFoundError:\n",
    "#         return pd.Series()\n",
    "\n",
    "def load_model(root: Path, measure: str, version: str, age_group_id: int, sex_id: int):\n",
    "    with open(root / measure / 'models'/ version / f'{age_group_id}_{sex_id}.pkl', 'rb') as file:\n",
    "        model = pickle.load(file)\n",
    "    return model\n",
    "\n",
    "\n",
    "def load_random_effects(root: Path, measure: str, version: str,\n",
    "                        version_label: str, age_group_id: int, sex_id: int, fhs_loc_meta: pd.DataFrame):\n",
    "    data = load_model(root, measure, version, age_group_id, sex_id).ranef\n",
    "    data['version_label'] = version_label\n",
    "    data['age_group_id'] = age_group_id\n",
    "    data['sex_id'] = sex_id\n",
    "    data['measure'] = measure\n",
    "    fhs_loc_meta['ihme_loc_id'] = fhs_loc_meta['ihme_loc_id'].str[:3]\n",
    "    data = data.join(fhs_loc_meta.set_index('ihme_loc_id').loc[:, 'location_id'])\n",
    "\n",
    "    return data.set_index(['version_label', 'measure', 'location_id', 'age_group_id', 'sex_id']).loc[:, 'X.Intercept.']\n",
    "\n",
    "\n",
    "def load_prediction(year_id: int, root: Path, measure: str, version: str, version_label: str, scenario: str):\n",
    "    data = pd.read_parquet(root / measure / 'results' / version / f'{year_id}_{scenario}.parquet')\n",
    "    data['year_id'] = year_id\n",
    "    data['version_label'] = version_label\n",
    "    data['measure'] = measure\n",
    "\n",
    "    return data.set_index(['version_label', 'measure', 'location_id', 'year_id', 'age_group_id', 'sex_id']).loc[:, 'value'].sort_index()\n",
    "\n",
    "\n",
    "random_effects = []\n",
    "predictions = []\n",
    "for measure, measure_versions in versions.items():\n",
    "    for version_label, version_dict in measure_versions.items():\n",
    "        for age_group_id in age_group_ids:\n",
    "            for sex_id in sex_ids:\n",
    "                random_effects.append(\n",
    "                    load_random_effects(ROOT, measure, version_dict['model'],\n",
    "                                        version_label, age_group_id, sex_id, fhs_loc_meta)\n",
    "                )\n",
    "        for year_id in year_ids:\n",
    "            for scenario in scenarios:\n",
    "                # load_predictions = partial(\n",
    "                #     load_prediction,\n",
    "                #     root=ROOT,\n",
    "                #     label=LABEL,\n",
    "                #     measure=measure,\n",
    "                #     scenario=scenario,\n",
    "                #     year_id=year_id,\n",
    "                # )\n",
    "                # with Pool(20) as pool:\n",
    "                #     location_predictions = list(pool.imap(load_predictions, location_ids))\n",
    "                predictions.append(load_prediction(year_id, ROOT, measure, version_dict['results'], version_label, scenario))\n",
    "predictions = pd.concat(predictions).sort_index().rename('pred')\n",
    "random_effects = pd.concat(random_effects).sort_index().rename('ranef')\n"
   ]
  },
  {
   "cell_type": "code",
   "execution_count": null,
   "metadata": {},
   "outputs": [],
   "source": [
    "predictions"
   ]
  },
  {
   "cell_type": "code",
   "execution_count": null,
   "metadata": {},
   "outputs": [],
   "source": [
    "random_effects"
   ]
  },
  {
   "cell_type": "code",
   "execution_count": 20,
   "metadata": {},
   "outputs": [],
   "source": [
    "# kwargs = {}\n",
    "# for id_var in ['location_id', 'year_id', 'age_group_id', 'sex_id']:\n",
    "#     kwargs[id_var] = predictions.index.get_level_values(id_var).unique().tolist()\n",
    "# gbd = db_queries.get_outputs(\n",
    "#     'rei',\n",
    "#     release_id=9,\n",
    "#     measure_id=29,\n",
    "#     metric_id=3,\n",
    "#     rei_id=[240, 241],\n",
    "#     **kwargs\n",
    "# )\n",
    "# gbd['measure'] = gbd['rei'].str.replace('nutrition_', '')\n",
    "# gbd = gbd.set_index(['location_id', 'year_id', 'age_group_id', 'sex_id', 'measure']).sort_index().loc[:, 'val'].rename('gbd')\n",
    "\n",
    "# plot_data = predictions.loc[:, :, :, :, 'ssp119', :].to_frame().join(gbd).dropna()\n",
    "\n",
    "# plt.scatter(\n",
    "#     plot_data['gbd'],\n",
    "#     plot_data['pred'],\n",
    "#     alpha=0.25\n",
    "# )\n",
    "# plt.plot((0, 1), (0, 1), color='red')"
   ]
  },
  {
   "cell_type": "code",
   "execution_count": 21,
   "metadata": {},
   "outputs": [],
   "source": [
    "# me_ids = db_queries.get_ids('modelable_entity')\n",
    "# me_ids.loc[me_ids['modelable_entity_id'].isin([8949, 8950, 8951, 10556, 10557,\n",
    "#                                                8945, 8946, 8947, 10558, 10559])]\n"
   ]
  },
  {
   "cell_type": "code",
   "execution_count": 22,
   "metadata": {},
   "outputs": [],
   "source": [
    "# me_ids = db_queries.get_ids('modelable_entity')\n",
    "# me_ids.loc[\n",
    "#     (me_ids['modelable_entity_name'].str.contains('asting'))\n",
    "#     & (me_ids['modelable_entity_name'].str.contains('oderate'))\n",
    "# ]\n",
    "# me_ids.loc[\n",
    "#     (me_ids['modelable_entity_name'].str.contains('tunting'))\n",
    "#     & (me_ids['modelable_entity_name'].str.contains('oderate'))\n",
    "# ]\n",
    "\n",
    "# 10557 --> Mild Stunting, < -1 SD (post-ensemble)\n",
    "# 10559 --> Mild Wasting, < -1 SD (post-ensemble)\n",
    "\n",
    "# 10556 --> Moderate Stunting, < -2 SD (post-ensemble)\n",
    "# 10558 --> Moderate Wasting, < -2 SD (post-ensemble)\n"
   ]
  },
  {
   "cell_type": "code",
   "execution_count": 23,
   "metadata": {},
   "outputs": [],
   "source": [
    "# age_metadata = db_queries.get_age_metadata(release_id=9)\n",
    "age_metadata = pd.read_parquet(ROOT / 'input' / 'gbd_prevalence' / 'age_metadata.parquet')\n",
    "age_metadata = age_metadata.loc[age_metadata['age_group_days_start'] >= 28]\n",
    "age_metadata = age_metadata.loc[age_metadata['age_group_years_end'] <= 5]\n",
    "\n",
    "kwargs = {}\n",
    "for id_var in ['location_id', 'year_id', 'sex_id']:  # , 'age_group_id'\n",
    "    kwargs[id_var] = predictions.index.get_level_values(id_var).unique().tolist()\n",
    "\n",
    "population = pd.read_parquet(ROOT / 'input' / 'gbd_prevalence' / 'population.parquet')\n",
    "\n",
    "gbd = []\n",
    "for measure, me_id in [('stunting', 10556), ('wasting', 10558)]:  # Moderate\n",
    "# for measure, me_id in [('stunting', 10557), ('wasting', 10559)]:  # Mild\n",
    "# for measure, me_id in [('stunting', 8949), ('stunting', 8950), ('stunting', 8951),\n",
    "#                        ('wasting', 8945), ('wasting', 8946), ('wasting', 8947)]:  # Combine individual models\n",
    "    # _gbd = db_queries.get_model_results(\n",
    "    #     'epi',\n",
    "    #     me_id,\n",
    "    #     release_id=9,\n",
    "    #     measure_id=5,\n",
    "    #     age_group_id=age_metadata['age_group_id'].to_list(),\n",
    "    #     **kwargs\n",
    "    # )\n",
    "    _gbd = pd.read_parquet(ROOT / 'input' / 'gbd_prevalence' / f'{measure}.parquet')\n",
    "    _gbd['measure'] = measure\n",
    "    gbd.append(_gbd)\n",
    "gbd = pd.concat(gbd)\n",
    "gbd = gbd.groupby(['measure', 'location_id', 'year_id', 'age_group_id', 'sex_id'], as_index=False)['mean'].sum()\n",
    "\n",
    "gbd = gbd.merge(population)\n",
    "gbd = gbd.merge(age_metadata.loc[:, ['age_group_id', 'age_group_years_start', 'age_group_years_end']])\n",
    "gbd.loc[gbd['age_group_years_end'] <= 1, 'age_group_id'] = 4\n",
    "gbd.loc[gbd['age_group_years_start'] >= 1, 'age_group_id'] = 5\n",
    "gbd['gbd'] = gbd['mean'] * gbd['population']\n",
    "gbd = gbd.groupby(['measure', 'location_id', 'year_id', 'age_group_id', 'sex_id'])['gbd', 'population'].sum()\n",
    "gbd['gbd'] /= gbd['population']\n"
   ]
  },
  {
   "cell_type": "code",
   "execution_count": 24,
   "metadata": {},
   "outputs": [],
   "source": [
    "# inputs = pd.read_parquet('/mnt/team/rapidresponse/pub/population/modeling/climate_malnutrition/stunting/training_data/2024_06_30.02/data.parquet')\n",
    "# inputs['scenario'] = 'ssp119'\n",
    "# inputs['year_id'] = inputs['int_year']\n",
    "# for int_var in ['location_id', 'year_id', 'age_group_id', 'sex_id']:\n",
    "#     inputs[int_var] = inputs[int_var].astype(int)\n",
    "# inputs = inputs.groupby(['location_id', 'year_id', 'age_group_id', 'sex_id', 'scenario'])[['stunting', 'wasting']].mean()\n",
    "# inputs.columns.name = 'measure'\n",
    "# inputs = inputs.stack().rename('pred')\n"
   ]
  },
  {
   "cell_type": "code",
   "execution_count": null,
   "metadata": {},
   "outputs": [],
   "source": [
    "plot_data = predictions.to_frame().join(gbd).dropna().join(random_effects, how='left').reorder_levels(predictions.index.names)\n",
    "plot_data['has_raneff'] = plot_data['ranef'].notnull()\n",
    "plot_data = plot_data.loc[:, :, :, :, [4], [1]]\n",
    "## plot_data = inputs.loc[:, :, :, :, 'ssp119', :].to_frame().join(gbd).dropna()\n",
    "plot_data['pred'] *= plot_data['population']\n",
    "plot_data['gbd'] *= plot_data['population']\n",
    "plot_data = plot_data.groupby(['version_label', 'measure', 'has_raneff', 'location_id', 'year_id'])['pred', 'gbd', 'population'].sum()\n",
    "plot_data['pred'] /= plot_data['population']\n",
    "plot_data['gbd'] /= plot_data['population']\n",
    "plot_data = plot_data.drop('population', axis=1)\n",
    "plot_data.describe()\n",
    "# plot_data = np.log(plot_data + plot_data['gbd'].min() / 10)\n"
   ]
  },
  {
   "cell_type": "code",
   "execution_count": null,
   "metadata": {},
   "outputs": [],
   "source": [
    "plot_data.loc[:, 'wasting', True, :, :]"
   ]
  },
  {
   "cell_type": "code",
   "execution_count": null,
   "metadata": {},
   "outputs": [],
   "source": [
    "foo = plot_data.loc[['base model'], ['wasting'], True, :, :].join(random_effects)\n",
    "foo['resid'] = foo['pred'] - foo['gbd']\n",
    "plt.scatter(foo['ranef'], foo['pred'], alpha=0.5)\n",
    "plt.scatter(foo['ranef'], foo['gbd'], alpha=0.5)\n"
   ]
  },
  {
   "cell_type": "code",
   "execution_count": null,
   "metadata": {},
   "outputs": [],
   "source": [
    "sns.set_style('whitegrid')\n",
    "\n",
    "for measure, measure_versions in versions.items():\n",
    "    # if measure == 'stunting':\n",
    "    marker = 'o'\n",
    "    fig, ax = plt.subplots(2, 2, figsize=(11, 8.5))\n",
    "    for i, (version_label, version_dict) in enumerate(measure_versions.items()):\n",
    "        idx = int(i >= 2), i % 2\n",
    "        label = f\"{version_label}\"\n",
    "        sublabel = f\"\"\n",
    "        # version = version_dict['results']\n",
    "        # for measure, marker in [('stunting', 'o')]:  # , ('wasting', 's')\n",
    "        for re, color in [(True, 'mediumseagreen'), (False, 'mediumorchid')]:\n",
    "            rmse = np.round(\n",
    "                (\n",
    "                    (\n",
    "                        plot_data.loc[version_label, measure, re, :, :].loc[:, 'gbd'] - plot_data.loc[version_label, measure, re, :, :].loc[:, 'pred']\n",
    "                    ) ** 2\n",
    "                ).mean() ** 0.5,\n",
    "                4\n",
    "            )\n",
    "            if re:\n",
    "                legend_label = f'{measure}, locs in model (RMSE: {rmse})'\n",
    "            else:\n",
    "                legend_label = f'{measure}, locs not in model (RMSE: {rmse})'\n",
    "            ax[idx].scatter(\n",
    "                plot_data.loc[version_label, measure, re, :, :].loc[:, 'gbd'],\n",
    "                plot_data.loc[version_label, measure, re, :, :].loc[:, 'pred'],\n",
    "                color=color,\n",
    "                s=100,\n",
    "                alpha=0.1,\n",
    "                marker=marker,\n",
    "            )\n",
    "            ax[idx].scatter(\n",
    "                np.nan,\n",
    "                np.nan,\n",
    "                color=color,\n",
    "                label=legend_label,\n",
    "                s=100,\n",
    "                alpha=1.,\n",
    "                marker=marker,\n",
    "            )\n",
    "        ax[idx].plot((0, 1), (0, 1), color='red')\n",
    "        ax[idx].set_ylabel('Prediction')\n",
    "        ax[idx].set_xlabel('GBD 2021')\n",
    "        ax[idx].set_ylim(0, 1)\n",
    "        ax[idx].set_xlim(0, 1)\n",
    "        ax[idx].set_title(label)\n",
    "        ax[idx].legend()\n",
    "    fig.tight_layout()\n",
    "    fig.show()\n"
   ]
  },
  {
   "cell_type": "code",
   "execution_count": null,
   "metadata": {},
   "outputs": [],
   "source": [
    "# stunting_grid = stunting_data.groupby('grid_cell').stunting.mean()\n",
    "# wasting_grid = wasting_data.groupby('grid_cell').stunting.mean()\n",
    "model.formula"
   ]
  },
  {
   "cell_type": "code",
   "execution_count": null,
   "metadata": {},
   "outputs": [],
   "source": [
    "pd.concat([stunting_grid, wasting_grid.rename('wasting')], axis=1).dropna()"
   ]
  },
  {
   "cell_type": "code",
   "execution_count": null,
   "metadata": {},
   "outputs": [],
   "source": [
    "\n",
    "import pickle\n",
    "\n",
    "def load_model_data(root: Path, label: str, measure: str, age_group_id: int, sex_id: int):\n",
    "    with open(root / 'models' / label / f'model_{measure}_{age_group_id}_{sex_id}.pkl', 'rb') as file:\n",
    "        model = pickle.load(file)\n",
    "    data = model.data\n",
    "    data['age_group_id'] = age_group_id\n",
    "    data['sex_id'] = sex_id\n",
    "    data['measure'] = measure\n",
    "    data = data.rename(columns={measure: 'obs'})\n",
    "    return data.groupby(['ihme_loc_id', 'age_group_id', 'sex_id', 'measure'])[['obs', 'fits']].mean()\n"
   ]
  },
  {
   "cell_type": "code",
   "execution_count": null,
   "metadata": {},
   "outputs": [],
   "source": [
    "new = pd.read_parquet('/mnt/team/rapidresponse/pub/population/modeling/climate_malnutrition/stunting/training_data/2024_06_30.02/data.parquet')\n",
    "for int_var in ['age_group_id', 'sex_id']:\n",
    "    new[int_var] = new[int_var].astype(int)\n",
    "new = new.groupby(['ihme_loc_id', 'age_group_id', 'sex_id'])[['stunting', 'wasting']].mean()\n",
    "new.columns.name = 'measure'\n",
    "new = new.stack().rename('pred')\n",
    "\n",
    "old = []\n",
    "for age_group_id in [4, 5]:\n",
    "    for sex_id in [1, 2]:\n",
    "        old.append(load_model_data(ROOT, LABEL, 'stunting', age_group_id, sex_id))\n",
    "old = pd.concat(old).sort_index()\n",
    "old"
   ]
  },
  {
   "cell_type": "code",
   "execution_count": null,
   "metadata": {},
   "outputs": [],
   "source": [
    "old.loc['ZWE']"
   ]
  },
  {
   "cell_type": "code",
   "execution_count": null,
   "metadata": {},
   "outputs": [],
   "source": [
    "foo = pd.concat([\n",
    "    new.rename('new'),\n",
    "    old.rename('old')\n",
    "], axis=1).loc[:, :, :, 'stunting']\n",
    "plt.scatter(\n",
    "    foo['new'],\n",
    "    foo['old'],\n",
    ")\n",
    "plt.xlabel('From dataset')\n",
    "plt.ylabel('From model object')\n",
    "plt.show()"
   ]
  },
  {
   "cell_type": "code",
   "execution_count": null,
   "metadata": {},
   "outputs": [],
   "source": [
    "foo.loc['ZWE']"
   ]
  },
  {
   "cell_type": "code",
   "execution_count": null,
   "metadata": {},
   "outputs": [],
   "source": [
    "predictions.loc[198, :, :, :, 'ssp119', 'stunting'].groupby(['age_group_id', 'sex_id']).mean()"
   ]
  },
  {
   "cell_type": "code",
   "execution_count": null,
   "metadata": {},
   "outputs": [],
   "source": [
    "root=ROOT\n",
    "label=LABEL\n",
    "measure='stunting'\n",
    "age_group_id=5\n",
    "sex_id=1\n",
    "with open(root / 'models' / label / f'model_{measure}_{age_group_id}_{sex_id}.pkl', 'rb') as file:\n",
    "    model = pickle.load(file)\n",
    "md = model.data\n",
    "md = md.loc[md['ihme_loc_id'] == 'ZWE']\n",
    "md = md.groupby('grid_cell')[['stunting', 'fits']].mean()\n",
    "plt.scatter(md['stunting'], md['fits'])\n",
    "plt.xlabel('obs')\n",
    "plt.ylabel('pred')\n",
    "plt.plot((0, 1), (0, 1), color='red')\n",
    "plt.show()\n"
   ]
  },
  {
   "cell_type": "code",
   "execution_count": null,
   "metadata": {},
   "outputs": [],
   "source": [
    "import pickle\n",
    "import matplotlib.pyplot as plt\n",
    "import seaborn as sns\n",
    "sns.set_style('whitegrid')\n",
    "\n",
    "measure = 'wasting'\n",
    "VERSIONS = ['2024_07_09.01', '2024_07_09.02', '2024_07_09.03', '2024_07_09.04']\n",
    "\n",
    "input_data = []\n",
    "models = {}\n",
    "for version in VERSIONS:\n",
    "    for age_group_id in [4, 5]:\n",
    "        for sex_id in [1, 2]:\n",
    "            with open(f'/mnt/team/rapidresponse/pub/population/modeling/climate_malnutrition/{measure}/models/{version}/{age_group_id}_{sex_id}.pkl', 'rb') as file:\n",
    "                model = pickle.load(file)\n",
    "            data = model.data\n",
    "            data['version'] = version\n",
    "            data['measure'] = measure\n",
    "            data['age_group_id'] = age_group_id\n",
    "            data['sex_id'] = sex_id\n",
    "            data = data.rename(columns={measure: 'obs'})\n",
    "            input_data.append(data)\n",
    "            models[f'{version}_{age_group_id}_{sex_id}'] = model\n",
    "input_data = pd.concat(input_data)\n",
    "plot_inputs = input_data.groupby(['version', 'ihme_loc_id', 'age_group_id', 'sex_id', 'measure'])[['obs', 'fits']].mean()\n",
    "\n",
    "plt.scatter(\n",
    "    plot_inputs['obs'],\n",
    "    plot_inputs['fits'],\n",
    "    s=20,\n",
    "    alpha=0.5\n",
    ")\n",
    "plt.plot(\n",
    "    (0, 1),\n",
    "    (0, 1),\n",
    "    color='red'\n",
    ")\n",
    "plt.xlim(0, 1)\n",
    "plt.xlabel('Obs')\n",
    "plt.ylim(0, 1)\n",
    "plt.ylabel('Pred')\n",
    "plt.tight_layout()\n",
    "plt.show()\n"
   ]
  },
  {
   "cell_type": "code",
   "execution_count": null,
   "metadata": {},
   "outputs": [],
   "source": [
    "data = input_data.loc[input_data['version'] == '2024_07_09.01']\n",
    "data['lin_residuals'] = 1 / (1 + np.exp(-data['residuals']))\n",
    "data = data.groupby(['any_days_over_30C', 'ihme_loc_id'])['obs', 'fits', 'lin_residuals'].mean()\n",
    "data.loc[0, 'obs'].hist(color='dodgerblue', alpha=0.75, label='0 days over 30')\n",
    "data.loc[1, 'obs'].hist(color='firebrick', alpha=0.75, label='1+ days over 30')\n",
    "plt.show()\n",
    "data.loc[0, 'fits'].hist(color='dodgerblue', alpha=0.75, label='0 days over 30')\n",
    "data.loc[1, 'fits'].hist(color='firebrick', alpha=0.75, label='1+ days over 30')\n",
    "plt.show()"
   ]
  },
  {
   "cell_type": "code",
   "execution_count": null,
   "metadata": {},
   "outputs": [],
   "source": [
    "1 / (\n",
    "    1 + np.exp(\n",
    "        -(\n",
    "            -2.065182 * 1 # intercept\n",
    "            + 0.256654 * 1 # days over 30\n",
    "            + -0.441034 * 0 # income\n",
    "            + 0.242929 * 1 # any days over 30\n",
    "            + 0.359003 * 0 # income/any days over 30\n",
    "        )\n",
    "    )\n",
    ")"
   ]
  },
  {
   "cell_type": "code",
   "execution_count": null,
   "metadata": {},
   "outputs": [],
   "source": [
    "foo = 0\n",
    "for i in range(10):\n",
    "    foo += 0.1 * 1 / (\n",
    "        1 + np.exp(\n",
    "            -(\n",
    "                # -2.065182 * 1 # intercept\n",
    "                + 0.256654 * 0 # days over 30\n",
    "                + -0.441034 * 5 # income\n",
    "                + 0.242929 * 0 # any days over 30\n",
    "                + 0.359003 * 0 # income/any days over 30\n",
    "            )\n",
    "        )\n",
    "    )\n",
    "foo"
   ]
  },
  {
   "cell_type": "code",
   "execution_count": null,
   "metadata": {},
   "outputs": [],
   "source": [
    "print(measure)\n",
    "coefs = []\n",
    "for label, model in models.items():\n",
    "    coefs.append(models[label].coefs['Estimate'].rename(label))\n",
    "pd.concat(coefs, axis=1)"
   ]
  },
  {
   "cell_type": "code",
   "execution_count": null,
   "metadata": {},
   "outputs": [],
   "source": [
    "print(measure)\n",
    "coefs = []\n",
    "for label, model in models.items():\n",
    "    coefs.append(models[label].coefs['Estimate'].rename(label))\n",
    "pd.concat(coefs, axis=1)"
   ]
  },
  {
   "cell_type": "code",
   "execution_count": null,
   "metadata": {},
   "outputs": [],
   "source": [
    "# dir(models['2024_07_09.01_4_1'])\n",
    "measure = 'wasting'\n",
    "data = pd.read_parquet(f'/mnt/team/rapidresponse/pub/population/modeling/climate_malnutrition/{measure}/training_data/2024_07_09.01/data.parquet')\n",
    "data['year_id'] = data['int_year']\n",
    "id_vars = ['location_id', 'year_id', 'age_group_id', 'sex_id']\n",
    "for id_var in id_vars:\n",
    "    data[id_var] = data[id_var].astype(int)\n",
    "data = data.groupby(id_vars)['wasting'].mean().rename('dhs')\n",
    "data = gbd.loc[measure].join(data, how='right')\n",
    "plt.scatter(data['gbd'], data['dhs'])\n",
    "plot_max = min(1, data[['gbd', 'dhs']].max().max() * 1.1)\n",
    "plt.plot((0, plot_max), (0, plot_max), color='red')\n",
    "plt.xlim(0, plot_max)\n",
    "plt.ylim(0, plot_max)\n",
    "plt.title(f'{measure} by location-year-age-sex')\n",
    "plt.xlabel('gbd 2021')\n",
    "plt.ylabel('input data')\n",
    "plt.show()\n",
    "# data.columns"
   ]
  },
  {
   "cell_type": "code",
   "execution_count": null,
   "metadata": {},
   "outputs": [],
   "source": [
    "models['5_2'].var_info['ldi_pc_pd']['transformer']"
   ]
  },
  {
   "cell_type": "code",
   "execution_count": null,
   "metadata": {},
   "outputs": [],
   "source": [
    "models['5_2'].data.describe()"
   ]
  },
  {
   "cell_type": "code",
   "execution_count": null,
   "metadata": {},
   "outputs": [],
   "source": [
    "pd.read_parquet('/mnt/team/rapidresponse/pub/population/modeling/climate_malnutrition/stunting/results/2024_07_02.01/2020_ssp119.parquet').describe()"
   ]
  }
 ],
 "metadata": {
  "kernelspec": {
   "display_name": "cgf",
   "language": "python",
   "name": "python3"
  },
  "language_info": {
   "codemirror_mode": {
    "name": "ipython",
    "version": 3
   },
   "file_extension": ".py",
   "mimetype": "text/x-python",
   "name": "python",
   "nbconvert_exporter": "python",
   "pygments_lexer": "ipython3",
   "version": "3.12.7"
  }
 },
 "nbformat": 4,
 "nbformat_minor": 2
}
