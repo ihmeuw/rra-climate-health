{
 "cells": [
  {
   "cell_type": "code",
   "execution_count": 42,
   "id": "81eef475-f343-428b-9541-706c57798c7a",
   "metadata": {
    "execution": {
     "iopub.execute_input": "2024-07-02T02:36:22.894008Z",
     "iopub.status.busy": "2024-07-02T02:36:22.893243Z",
     "iopub.status.idle": "2024-07-02T02:36:22.903282Z",
     "shell.execute_reply": "2024-07-02T02:36:22.901606Z",
     "shell.execute_reply.started": "2024-07-02T02:36:22.893959Z"
    }
   },
   "outputs": [],
   "source": [
    "import logging\n",
    "import sys\n",
    "from pathlib import Path\n",
    "import itertools\n",
    "\n",
    "import click\n",
    "import numpy as np\n",
    "import pandas as pd\n",
    "import rasterra as rt\n",
    "from rasterio.features import rasterize\n",
    "from rra_tools import jobmon\n",
    "import xarray as xr\n",
    "import tqdm\n",
    "import geopandas as gpd\n",
    "\n",
    "from spatial_temp_cgf import paths, utils\n",
    "from spatial_temp_cgf.data_prep.location_mapping import FHS_SHAPE_PATH\n",
    "from spatial_temp_cgf import cli_options as clio\n",
    "from spatial_temp_cgf.data import DEFAULT_ROOT, ClimateMalnutritionData\n",
    "\n",
    "from spatial_temp_cgf.inference.run_inference import get_intercept_raster"
   ]
  },
  {
   "cell_type": "code",
   "execution_count": 43,
   "id": "a3764655-bb49-4c0e-b022-80687d74d7a3",
   "metadata": {
    "execution": {
     "iopub.execute_input": "2024-07-02T02:36:25.158204Z",
     "iopub.status.busy": "2024-07-02T02:36:25.157693Z",
     "iopub.status.idle": "2024-07-02T02:36:25.165002Z",
     "shell.execute_reply": "2024-07-02T02:36:25.163488Z",
     "shell.execute_reply.started": "2024-07-02T02:36:25.158159Z"
    }
   },
   "outputs": [],
   "source": [
    "output_dir = Path(DEFAULT_ROOT)\n",
    "measure = 'stunting'\n",
    "model_version = \"2024_07_01.14\"\n",
    "cmip6_scenario = 'ssp126'\n",
    "year = 2025"
   ]
  },
  {
   "cell_type": "code",
   "execution_count": 44,
   "id": "6c42c6d7-c289-4d76-aea6-bf149a54471b",
   "metadata": {
    "execution": {
     "iopub.execute_input": "2024-07-02T02:36:28.448569Z",
     "iopub.status.busy": "2024-07-02T02:36:28.448044Z",
     "iopub.status.idle": "2024-07-02T02:36:47.471068Z",
     "shell.execute_reply": "2024-07-02T02:36:47.470215Z",
     "shell.execute_reply.started": "2024-07-02T02:36:28.448523Z"
    }
   },
   "outputs": [
    {
     "name": "stdout",
     "output_type": "stream",
     "text": [
      "loading raster template and shapes\n",
      "loading models\n"
     ]
    }
   ],
   "source": [
    "cm_data = ClimateMalnutritionData(output_dir / measure)\n",
    "spec = cm_data.load_model_specification(model_version)\n",
    "print('loading raster template and shapes')\n",
    "raster_template = cm_data.load_raster_template()\n",
    "fhs_shapes = cm_data.load_fhs_shapes()\n",
    "print('loading models')\n",
    "models = cm_data.load_model_family(model_version)"
   ]
  },
  {
   "cell_type": "code",
   "execution_count": 51,
   "id": "ee8fe117-29ec-4557-b7c4-ca382a7b9446",
   "metadata": {
    "execution": {
     "iopub.execute_input": "2024-07-02T02:46:36.668170Z",
     "iopub.status.busy": "2024-07-02T02:46:36.667653Z",
     "iopub.status.idle": "2024-07-02T02:46:36.676862Z",
     "shell.execute_reply": "2024-07-02T02:46:36.675330Z",
     "shell.execute_reply.started": "2024-07-02T02:46:36.668124Z"
    }
   },
   "outputs": [],
   "source": [
    "model = models[0]['model']\n",
    "\n",
    "coefs = model.coefs['Estimate']\n",
    "ranefs = model.ranef\n",
    "\n",
    "predictor = spec.predictors[1]\n",
    "\n",
    "ldi_spec = None\n",
    "\n",
    "partial_estimates = {}\n",
    "if predictor.name == 'intercept':\n",
    "    r = get_intercept_raster(predictor, coefs, ranefs, fhs_shapes, raster_template)\n",
    "elif predictor.name == 'ldi_pc_pd':\n",
    "    ldi_spec = predictor  # deal with later\n",
    "else:\n",
    "    transform = predictor.transform\n",
    "    variable = transform.from_column if hasattr(transform, 'from_column') else predictor.name    \n",
    "    ds = cm_data.load_climate_raster(variable, cmip6_scenario, year)\n",
    "    v = utils.xarray_to_raster(ds, nodata=np.nan).resample_to(raster_template)\n",
    "    \n"
   ]
  },
  {
   "cell_type": "code",
   "execution_count": 54,
   "id": "e7f64cf9-052d-401c-9a85-2a79c95707c2",
   "metadata": {
    "execution": {
     "iopub.execute_input": "2024-07-02T02:49:12.974457Z",
     "iopub.status.busy": "2024-07-02T02:49:12.973875Z",
     "iopub.status.idle": "2024-07-02T02:49:12.984975Z",
     "shell.execute_reply": "2024-07-02T02:49:12.983329Z",
     "shell.execute_reply.started": "2024-07-02T02:49:12.974408Z"
    }
   },
   "outputs": [
    {
     "data": {
      "text/plain": [
       "{'intercept': {'transformer': <spatial_temp_cgf.transforms.scaling.Scaler at 0x7f8f8aa30500>},\n",
       " 'days_over_30C': {'transformer': <spatial_temp_cgf.transforms.scaling.Scaler at 0x7f8f8aa303b0>},\n",
       " 'ldi_pc_pd': {'transformer': <spatial_temp_cgf.transforms.scaling.Scaler at 0x7f8f58461f10>},\n",
       " 'elevation': {'transformer': <spatial_temp_cgf.transforms.scaling.Scaler at 0x7f8f8aa30110>},\n",
       " 'mean_temperature': {'transformer': <spatial_temp_cgf.transforms.scaling.Scaler at 0x7f8f8aa2ff80>},\n",
       " 'any_days_over_30C': {'transformer': <spatial_temp_cgf.transforms.masking.Masker at 0x7f8f9175fe30>}}"
      ]
     },
     "execution_count": 54,
     "metadata": {},
     "output_type": "execute_result"
    }
   ],
   "source": [
    "model.var_info"
   ]
  },
  {
   "cell_type": "code",
   "execution_count": null,
   "id": "fbf047a3-90df-4cab-b09b-6a7fdee5efa3",
   "metadata": {},
   "outputs": [],
   "source": []
  }
 ],
 "metadata": {
  "kernelspec": {
   "display_name": "Python 3 (ipykernel)",
   "language": "python",
   "name": "python3"
  },
  "language_info": {
   "codemirror_mode": {
    "name": "ipython",
    "version": 3
   },
   "file_extension": ".py",
   "mimetype": "text/x-python",
   "name": "python",
   "nbconvert_exporter": "python",
   "pygments_lexer": "ipython3",
   "version": "3.12.4"
  }
 },
 "nbformat": 4,
 "nbformat_minor": 5
}
