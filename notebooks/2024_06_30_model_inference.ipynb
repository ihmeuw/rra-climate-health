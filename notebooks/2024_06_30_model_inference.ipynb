{
 "cells": [
  {
   "cell_type": "code",
   "execution_count": 1,
   "id": "81eef475-f343-428b-9541-706c57798c7a",
   "metadata": {
    "execution": {
     "iopub.execute_input": "2024-07-01T11:06:09.184292Z",
     "iopub.status.busy": "2024-07-01T11:06:09.183729Z",
     "iopub.status.idle": "2024-07-01T11:06:13.167142Z",
     "shell.execute_reply": "2024-07-01T11:06:13.166061Z",
     "shell.execute_reply.started": "2024-07-01T11:06:09.184242Z"
    }
   },
   "outputs": [],
   "source": [
    "import logging\n",
    "import sys\n",
    "from pathlib import Path\n",
    "import itertools\n",
    "\n",
    "import click\n",
    "import numpy as np\n",
    "import pandas as pd\n",
    "import rasterra as rt\n",
    "from rra_tools import jobmon\n",
    "from scipy.special import expit\n",
    "import xarray as xr\n",
    "import tqdm\n",
    "import rasterra as rt\n",
    "from rasterio.features import rasterize\n",
    "import geopandas as gpd\n",
    "\n",
    "from spatial_temp_cgf import paths\n",
    "from spatial_temp_cgf.training_data_prep import income_funcs\n",
    "from spatial_temp_cgf.training_data_prep.location_mapping import load_fhs_lsae_mapping\n",
    "from spatial_temp_cgf import cli_options as clio\n",
    "from spatial_temp_cgf.data import DEFAULT_ROOT, ClimateMalnutritionData"
   ]
  },
  {
   "cell_type": "code",
   "execution_count": 2,
   "id": "0991eb90-1e4d-4bdd-b2d8-f3038e8b0359",
   "metadata": {
    "execution": {
     "iopub.execute_input": "2024-07-01T11:06:13.169220Z",
     "iopub.status.busy": "2024-07-01T11:06:13.168812Z",
     "iopub.status.idle": "2024-07-01T11:06:13.174168Z",
     "shell.execute_reply": "2024-07-01T11:06:13.173104Z",
     "shell.execute_reply.started": "2024-07-01T11:06:13.169195Z"
    }
   },
   "outputs": [],
   "source": [
    "RASTER_TEMPLATE_PATH = Path('/mnt/team/rapidresponse/pub/population/data/01-raw-data/other-gridded-pop-projects/global-human-settlement-layer/1km_template.tif')\n",
    "SHAPE_PATH = Path('/mnt/team/rapidresponse/pub/population/data/02-processed-data/ihme/lbd_admin2.parquet')\n",
    "LDIPC_FILEPATH = Path('/share/resource_tracking/forecasting/poverty/GK_2024_income_distribution_forecasts/income_forecasting_through2100_admin2_final_nocoviddummy_intshift/admin2_ldipc_estimates.csv')"
   ]
  },
  {
   "cell_type": "code",
   "execution_count": 16,
   "id": "a3764655-bb49-4c0e-b022-80687d74d7a3",
   "metadata": {
    "execution": {
     "iopub.execute_input": "2024-07-01T11:12:47.069036Z",
     "iopub.status.busy": "2024-07-01T11:12:47.068348Z",
     "iopub.status.idle": "2024-07-01T11:12:47.076666Z",
     "shell.execute_reply": "2024-07-01T11:12:47.075321Z",
     "shell.execute_reply.started": "2024-07-01T11:12:47.068983Z"
    }
   },
   "outputs": [],
   "source": [
    "output_dir = Path(DEFAULT_ROOT)\n",
    "measure = 'stunting'\n",
    "model_version = \"2024_07_01.04\"\n",
    "cmip6_scenario = 'ssp126'\n",
    "year = 2025"
   ]
  },
  {
   "cell_type": "code",
   "execution_count": 4,
   "id": "6c42c6d7-c289-4d76-aea6-bf149a54471b",
   "metadata": {
    "execution": {
     "iopub.execute_input": "2024-07-01T11:06:13.205847Z",
     "iopub.status.busy": "2024-07-01T11:06:13.205114Z",
     "iopub.status.idle": "2024-07-01T11:06:13.230754Z",
     "shell.execute_reply": "2024-07-01T11:06:13.229704Z",
     "shell.execute_reply.started": "2024-07-01T11:06:13.205806Z"
    }
   },
   "outputs": [],
   "source": [
    "cm_data = ClimateMalnutritionData(output_dir / measure)"
   ]
  },
  {
   "cell_type": "code",
   "execution_count": 5,
   "id": "15cb6e9a-a78b-4b02-a8d5-fa83f72f8fdc",
   "metadata": {
    "execution": {
     "iopub.execute_input": "2024-07-01T11:06:13.276587Z",
     "iopub.status.busy": "2024-07-01T11:06:13.276038Z",
     "iopub.status.idle": "2024-07-01T11:06:26.947487Z",
     "shell.execute_reply": "2024-07-01T11:06:26.946698Z",
     "shell.execute_reply.started": "2024-07-01T11:06:13.276544Z"
    }
   },
   "outputs": [],
   "source": [
    "raster_template = rt.load_raster(RASTER_TEMPLATE_PATH)\n",
    "a2 = gpd.read_parquet(SHAPE_PATH)"
   ]
  },
  {
   "cell_type": "code",
   "execution_count": 6,
   "id": "dec18b85-0628-4a40-93e3-ae9b76d2a369",
   "metadata": {
    "execution": {
     "iopub.execute_input": "2024-07-01T11:06:26.948943Z",
     "iopub.status.busy": "2024-07-01T11:06:26.948726Z",
     "iopub.status.idle": "2024-07-01T11:08:10.810563Z",
     "shell.execute_reply": "2024-07-01T11:08:10.809308Z",
     "shell.execute_reply.started": "2024-07-01T11:06:26.948922Z"
    }
   },
   "outputs": [],
   "source": [
    "ldi = pd.read_csv(LDIPC_FILEPATH)\n",
    "national_mean = ldi.groupby(['year_id', 'national_ihme_loc_id', 'population_percentile']).ldipc.transform('mean')\n",
    "null_mask = ldi.ldipc.isnull()\n",
    "ldi.loc[null_mask, 'ldipc'] = national_mean.loc[null_mask]\n",
    "ldi['ldi_pc_pd'] = ldi['ldipc'] / 365.25\n",
    "ldi = ldi.groupby(['year_id', 'location_id']).ldi_pc_pd.mean().reset_index()\n",
    "polys = a2.loc[a2.loc_id.isin(ldi.location_id.unique()), ['loc_id', 'geometry']].rename(columns={'loc_id': 'location_id'}).set_index('location_id').geometry\n",
    "\n",
    "year_ldi = ldi[ldi.year_id == 2000].set_index('location_id').ldi_pc_pd\n",
    "shapes = [(t.geometry, t.ldi_pc_pd) for t in pd.concat([year_ldi, polys.sort_index()], axis=1).itertuples()]\n",
    "arr = rasterize(\n",
    "    shapes, \n",
    "    out=np.zeros_like(raster_template), \n",
    "    transform=raster_template.transform, \n",
    ")\n",
    "r = rt.RasterArray(arr, transform=raster_template.transform, crs=raster_template.crs, no_data_value=np.nan)"
   ]
  },
  {
   "cell_type": "code",
   "execution_count": 21,
   "id": "f1e90ddd-16e4-4e9a-aea2-a250cbb37353",
   "metadata": {
    "execution": {
     "iopub.execute_input": "2024-07-01T11:29:29.686048Z",
     "iopub.status.busy": "2024-07-01T11:29:29.685438Z",
     "iopub.status.idle": "2024-07-01T11:29:41.673634Z",
     "shell.execute_reply": "2024-07-01T11:29:41.672426Z",
     "shell.execute_reply.started": "2024-07-01T11:29:29.686001Z"
    }
   },
   "outputs": [],
   "source": [
    "models = cm_data.load_model_family(model_version)"
   ]
  },
  {
   "cell_type": "code",
   "execution_count": 22,
   "id": "7d1dee06-6efd-4554-ad55-652f6e2a3a24",
   "metadata": {
    "execution": {
     "iopub.execute_input": "2024-07-01T11:30:53.187786Z",
     "iopub.status.busy": "2024-07-01T11:30:53.187130Z",
     "iopub.status.idle": "2024-07-01T11:30:53.195070Z",
     "shell.execute_reply": "2024-07-01T11:30:53.193889Z",
     "shell.execute_reply.started": "2024-07-01T11:30:53.187735Z"
    }
   },
   "outputs": [],
   "source": [
    "m = models[0]"
   ]
  },
  {
   "cell_type": "code",
   "execution_count": 23,
   "id": "de191b24-63d9-4f47-ba6e-acec791b6a6a",
   "metadata": {
    "execution": {
     "iopub.execute_input": "2024-07-01T11:30:53.721276Z",
     "iopub.status.busy": "2024-07-01T11:30:53.720770Z",
     "iopub.status.idle": "2024-07-01T11:30:53.730099Z",
     "shell.execute_reply": "2024-07-01T11:30:53.728927Z",
     "shell.execute_reply.started": "2024-07-01T11:30:53.721231Z"
    }
   },
   "outputs": [
    {
     "data": {
      "text/plain": [
       "{'intercept': {'transformer': <spatial_temp_cgf.scaling.Scaler at 0x7f8f84772360>},\n",
       " 'mean_temperature': {'transformer': <spatial_temp_cgf.binning.Binner at 0x7f8f37d92420>},\n",
       " 'ldi_pc_pd': {'transformer': <spatial_temp_cgf.scaling.Scaler at 0x7f8f3df5a390>}}"
      ]
     },
     "execution_count": 23,
     "metadata": {},
     "output_type": "execute_result"
    }
   ],
   "source": [
    "m['model'].var_info"
   ]
  },
  {
   "cell_type": "code",
   "execution_count": null,
   "id": "7e62d200-826f-43be-914f-63838424f26f",
   "metadata": {
    "execution": {
     "iopub.execute_input": "2024-07-01T11:09:07.603970Z",
     "iopub.status.busy": "2024-07-01T11:09:07.603406Z",
     "iopub.status.idle": "2024-07-01T11:09:07.610227Z",
     "shell.execute_reply": "2024-07-01T11:09:07.608899Z",
     "shell.execute_reply.started": "2024-07-01T11:09:07.603924Z"
    }
   },
   "outputs": [],
   "source": [
    "t = m['model'].var_info['ldi_pc_pd']['transformer']\n",
    "t._strategy.n_features_in_ = r.shape[1]"
   ]
  },
  {
   "cell_type": "code",
   "execution_count": 13,
   "id": "e64dea65-1ee9-4b7a-8580-a593db1ea243",
   "metadata": {
    "execution": {
     "iopub.execute_input": "2024-07-01T11:09:55.125508Z",
     "iopub.status.busy": "2024-07-01T11:09:55.124957Z",
     "iopub.status.idle": "2024-07-01T11:09:58.435413Z",
     "shell.execute_reply": "2024-07-01T11:09:58.434557Z",
     "shell.execute_reply.started": "2024-07-01T11:09:55.125458Z"
    }
   },
   "outputs": [],
   "source": [
    "r_trans = rt.RasterArray(\n",
    "    t(r),\n",
    "    transform=r.transform,\n",
    "    crs=r.crs,\n",
    "    no_data_value=r.no_data_value,\n",
    ")"
   ]
  },
  {
   "cell_type": "code",
   "execution_count": 54,
   "id": "483f7643-5ad2-40e3-9cbc-f6f0d1d68bf3",
   "metadata": {
    "execution": {
     "iopub.execute_input": "2024-07-01T11:39:47.193582Z",
     "iopub.status.busy": "2024-07-01T11:39:47.192908Z",
     "iopub.status.idle": "2024-07-01T11:40:07.838594Z",
     "shell.execute_reply": "2024-07-01T11:40:07.837514Z",
     "shell.execute_reply.started": "2024-07-01T11:39:47.193530Z"
    }
   },
   "outputs": [],
   "source": [
    "import xarray as xr\n",
    "subfolder = cmip6_scenario if year >= 2024 else 'historical'\n",
    "path = paths.CLIMATE_PROJECTIONS_ROOT / subfolder / \"mean_temperature\" / f\"{year}.nc\"\n",
    "climate_ds = xr.open_dataset(path)\n",
    "climate_raster = xarray_to_raster(climate_ds.sel(year=year)['value'], nodata=np.nan).resample_to(raster_template)"
   ]
  },
  {
   "cell_type": "code",
   "execution_count": 53,
   "id": "2f225de2-f649-4e53-bd4f-41114d2258c9",
   "metadata": {
    "execution": {
     "iopub.execute_input": "2024-07-01T11:39:05.725487Z",
     "iopub.status.busy": "2024-07-01T11:39:05.724908Z",
     "iopub.status.idle": "2024-07-01T11:39:27.548933Z",
     "shell.execute_reply": "2024-07-01T11:39:27.547579Z",
     "shell.execute_reply.started": "2024-07-01T11:39:05.725430Z"
    }
   },
   "outputs": [
    {
     "data": {
      "text/plain": [
       "RasterArray\n",
       "===========\n",
       "dimensions    : 36000, 18000 (x, y)\n",
       "resolution    : 0.01, -0.01 (x, y)\n",
       "extent        : -180.0, 180.0, -90.0, 90.0 (xmin, xmax, ymin, ymax)\n",
       "crs           : EPSG:4326\n",
       "no_data_value : nan\n",
       "size          : 4943.85 MB\n",
       "dtype         : float64"
      ]
     },
     "execution_count": 53,
     "metadata": {},
     "output_type": "execute_result"
    }
   ],
   "source": []
  },
  {
   "cell_type": "code",
   "execution_count": 50,
   "id": "5e7ed8d8-aad6-4278-a6d8-dd56f660f528",
   "metadata": {
    "execution": {
     "iopub.execute_input": "2024-07-01T11:38:35.991317Z",
     "iopub.status.busy": "2024-07-01T11:38:35.990756Z",
     "iopub.status.idle": "2024-07-01T11:38:36.000350Z",
     "shell.execute_reply": "2024-07-01T11:38:35.999178Z",
     "shell.execute_reply.started": "2024-07-01T11:38:35.991269Z"
    }
   },
   "outputs": [],
   "source": [
    "def xarray_to_raster(ds: xr.DataArray, nodata: float | int) -> rt.RasterArray:\n",
    "    from affine import Affine\n",
    "    \"\"\"Convert an xarray DataArray to a RasterArray.\"\"\"\n",
    "    lat, lon = ds[\"latitude\"].data, ds[\"longitude\"].data\n",
    "\n",
    "    dlat = (lat[1:] - lat[:-1]).mean()\n",
    "    dlon = (lon[1:] - lon[:-1]).mean()\n",
    "\n",
    "    transform = Affine(\n",
    "        a=dlon,\n",
    "        b=0.0,\n",
    "        c=lon[0],\n",
    "        d=0.0,\n",
    "        e=-dlat,\n",
    "        f=lat[-1],\n",
    "    )\n",
    "    raster = rt.RasterArray(\n",
    "        data=ds.data,\n",
    "        transform=transform,\n",
    "        crs=\"EPSG:4326\",\n",
    "        no_data_value=nodata,\n",
    "    )\n",
    "    return raster"
   ]
  },
  {
   "cell_type": "code",
   "execution_count": null,
   "id": "497311b3-4ad9-43e9-8f1d-ee55783c674e",
   "metadata": {},
   "outputs": [],
   "source": []
  }
 ],
 "metadata": {
  "kernelspec": {
   "display_name": "Python 3 (ipykernel)",
   "language": "python",
   "name": "python3"
  },
  "language_info": {
   "codemirror_mode": {
    "name": "ipython",
    "version": 3
   },
   "file_extension": ".py",
   "mimetype": "text/x-python",
   "name": "python",
   "nbconvert_exporter": "python",
   "pygments_lexer": "ipython3",
   "version": "3.12.4"
  }
 },
 "nbformat": 4,
 "nbformat_minor": 5
}
