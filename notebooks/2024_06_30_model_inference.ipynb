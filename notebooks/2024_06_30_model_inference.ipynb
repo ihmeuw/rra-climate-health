{
 "cells": [
  {
   "cell_type": "code",
   "execution_count": 3,
   "id": "81eef475-f343-428b-9541-706c57798c7a",
   "metadata": {
    "execution": {
     "iopub.execute_input": "2024-07-02T21:59:55.109885Z",
     "iopub.status.busy": "2024-07-02T21:59:55.109188Z",
     "iopub.status.idle": "2024-07-02T21:59:57.831363Z",
     "shell.execute_reply": "2024-07-02T21:59:57.830597Z",
     "shell.execute_reply.started": "2024-07-02T21:59:55.109838Z"
    }
   },
   "outputs": [],
   "source": [
    "from pathlib import Path\n",
    "\n",
    "import click\n",
    "import numpy as np\n",
    "import pandas as pd\n",
    "import rasterra as rt\n",
    "from rasterio.features import rasterize\n",
    "from rra_tools import jobmon\n",
    "import geopandas as gpd\n",
    "\n",
    "from spatial_temp_cgf import utils\n",
    "from spatial_temp_cgf import cli_options as clio\n",
    "from spatial_temp_cgf.data import ClimateMalnutritionData, DEFAULT_ROOT\n",
    "from spatial_temp_cgf.model_specification import PredictorSpecification, ModelSpecification\n",
    "\n",
    "from spatial_temp_cgf.inference.run_inference import get_intercept_raster"
   ]
  },
  {
   "cell_type": "code",
   "execution_count": 4,
   "id": "a3764655-bb49-4c0e-b022-80687d74d7a3",
   "metadata": {
    "execution": {
     "iopub.execute_input": "2024-07-02T21:59:57.833186Z",
     "iopub.status.busy": "2024-07-02T21:59:57.832860Z",
     "iopub.status.idle": "2024-07-02T21:59:57.837227Z",
     "shell.execute_reply": "2024-07-02T21:59:57.836530Z",
     "shell.execute_reply.started": "2024-07-02T21:59:57.833166Z"
    }
   },
   "outputs": [],
   "source": [
    "output_dir = Path(DEFAULT_ROOT)\n",
    "measure = 'stunting'\n",
    "model_version = \"2024_07_02.02\"\n",
    "cmip6_scenario = 'ssp126'\n",
    "year = 2025"
   ]
  },
  {
   "cell_type": "code",
   "execution_count": 5,
   "id": "6c42c6d7-c289-4d76-aea6-bf149a54471b",
   "metadata": {
    "execution": {
     "iopub.execute_input": "2024-07-02T21:59:57.838510Z",
     "iopub.status.busy": "2024-07-02T21:59:57.838223Z",
     "iopub.status.idle": "2024-07-02T22:00:31.526061Z",
     "shell.execute_reply": "2024-07-02T22:00:31.525162Z",
     "shell.execute_reply.started": "2024-07-02T21:59:57.838484Z"
    }
   },
   "outputs": [
    {
     "name": "stdout",
     "output_type": "stream",
     "text": [
      "loading raster template and shapes\n",
      "loading population\n",
      "loading models\n"
     ]
    }
   ],
   "source": [
    "cm_data = ClimateMalnutritionData(output_dir / measure)\n",
    "spec = cm_data.load_model_specification(model_version)\n",
    "print('loading raster template and shapes')\n",
    "raster_template = cm_data.load_raster_template()\n",
    "fhs_shapes = cm_data.load_fhs_shapes(most_detailed_only=False)        \n",
    "print(\"loading population\")\n",
    "fhs_pop_raster = cm_data.load_population_raster().set_no_data_value(np.nan)\n",
    "print('loading models')\n",
    "models = cm_data.load_model_family(model_version)"
   ]
  },
  {
   "cell_type": "code",
   "execution_count": 6,
   "id": "730efc43-e522-4e62-9cc4-c38a580bab17",
   "metadata": {
    "execution": {
     "iopub.execute_input": "2024-07-02T22:00:31.528151Z",
     "iopub.status.busy": "2024-07-02T22:00:31.527672Z",
     "iopub.status.idle": "2024-07-02T22:00:31.531749Z",
     "shell.execute_reply": "2024-07-02T22:00:31.531209Z",
     "shell.execute_reply.started": "2024-07-02T22:00:31.528131Z"
    }
   },
   "outputs": [],
   "source": [
    "model_dict = models[0]\n",
    "model = model_dict['model']"
   ]
  },
  {
   "cell_type": "code",
   "execution_count": 14,
   "id": "92e95f32-badd-436d-9b59-7b92ca1aafbe",
   "metadata": {
    "execution": {
     "iopub.execute_input": "2024-07-02T22:06:47.495484Z",
     "iopub.status.busy": "2024-07-02T22:06:47.494976Z",
     "iopub.status.idle": "2024-07-02T22:09:45.190898Z",
     "shell.execute_reply": "2024-07-02T22:09:45.189657Z",
     "shell.execute_reply.started": "2024-07-02T22:06:47.495437Z"
    }
   },
   "outputs": [
    {
     "name": "stdout",
     "output_type": "stream",
     "text": [
      "intercept\n",
      "days_over_30C\n",
      "ldi_pc_pd\n",
      "any_days_over_30C\n",
      "1\n",
      "2\n",
      "3\n"
     ]
    },
    {
     "ename": "KeyboardInterrupt",
     "evalue": "",
     "output_type": "error",
     "traceback": [
      "\u001b[0;31m---------------------------------------------------------------------------\u001b[0m",
      "\u001b[0;31mKeyboardInterrupt\u001b[0m                         Traceback (most recent call last)",
      "Cell \u001b[0;32mIn[14], line 59\u001b[0m\n\u001b[1;32m     51\u001b[0m     ldi \u001b[38;5;241m=\u001b[39m cm_data\u001b[38;5;241m.\u001b[39mload_ldi(year, \u001b[38;5;124mf\u001b[39m\u001b[38;5;124m\"\u001b[39m\u001b[38;5;132;01m{\u001b[39;00mi\u001b[38;5;250m \u001b[39m\u001b[38;5;241m/\u001b[39m\u001b[38;5;250m \u001b[39m\u001b[38;5;241m10.\u001b[39m\u001b[38;5;132;01m:\u001b[39;00m\u001b[38;5;124m.1f\u001b[39m\u001b[38;5;132;01m}\u001b[39;00m\u001b[38;5;124m\"\u001b[39m)\n\u001b[1;32m     53\u001b[0m     z_ldi \u001b[38;5;241m=\u001b[39m rt\u001b[38;5;241m.\u001b[39mRasterArray(\n\u001b[1;32m     54\u001b[0m         beta_ldi \u001b[38;5;241m*\u001b[39m np\u001b[38;5;241m.\u001b[39marray(model\u001b[38;5;241m.\u001b[39mvar_info[\u001b[38;5;124m'\u001b[39m\u001b[38;5;124mldi_pc_pd\u001b[39m\u001b[38;5;124m'\u001b[39m][\u001b[38;5;124m'\u001b[39m\u001b[38;5;124mtransformer\u001b[39m\u001b[38;5;124m'\u001b[39m](ldi)),\n\u001b[1;32m     55\u001b[0m         transform\u001b[38;5;241m=\u001b[39mldi\u001b[38;5;241m.\u001b[39mtransform,\n\u001b[1;32m     56\u001b[0m         crs\u001b[38;5;241m=\u001b[39mldi\u001b[38;5;241m.\u001b[39mcrs,\n\u001b[1;32m     57\u001b[0m         no_data_value\u001b[38;5;241m=\u001b[39mnp\u001b[38;5;241m.\u001b[39mnan,\n\u001b[1;32m     58\u001b[0m     )\n\u001b[0;32m---> 59\u001b[0m     prevalence \u001b[38;5;241m+\u001b[39m\u001b[38;5;241m=\u001b[39m \u001b[38;5;241m0.1\u001b[39m \u001b[38;5;241m*\u001b[39m \u001b[38;5;241m1\u001b[39m \u001b[38;5;241m/\u001b[39m (\u001b[38;5;241m1\u001b[39m \u001b[38;5;241m+\u001b[39m \u001b[43mnp\u001b[49m\u001b[38;5;241;43m.\u001b[39;49m\u001b[43mexp\u001b[49m\u001b[43m(\u001b[49m\u001b[38;5;241;43m-\u001b[39;49m\u001b[43m(\u001b[49m\u001b[43mz_partial\u001b[49m\u001b[43m \u001b[49m\u001b[38;5;241;43m+\u001b[39;49m\u001b[43m \u001b[49m\u001b[43mz_ldi\u001b[49m\u001b[43m)\u001b[49m\u001b[43m)\u001b[49m)\n\u001b[1;32m     61\u001b[0m \u001b[38;5;28;01mreturn\u001b[39;00m prevalence\u001b[38;5;241m.\u001b[39mastype(np\u001b[38;5;241m.\u001b[39mfloat32)\n",
      "File \u001b[0;32m/mnt/share/code/collijk/miniconda/envs/cgf/lib/python3.12/site-packages/rasterra/_array.py:231\u001b[0m, in \u001b[0;36mRasterArray.__array_ufunc__\u001b[0;34m(self, ufunc, method, *inputs, **kwargs)\u001b[0m\n\u001b[1;32m    229\u001b[0m \u001b[38;5;28;01mfor\u001b[39;00m x \u001b[38;5;129;01min\u001b[39;00m inputs:\n\u001b[1;32m    230\u001b[0m     \u001b[38;5;28;01mif\u001b[39;00m \u001b[38;5;28misinstance\u001b[39m(x, RasterArray):\n\u001b[0;32m--> 231\u001b[0m         no_data_mask \u001b[38;5;241m|\u001b[39m\u001b[38;5;241m=\u001b[39m \u001b[43mx\u001b[49m\u001b[38;5;241;43m.\u001b[39;49m\u001b[43mno_data_mask\u001b[49m\n\u001b[1;32m    233\u001b[0m \u001b[38;5;66;03m# Defer to the implementation of the ufunc on unwrapped values.\u001b[39;00m\n\u001b[1;32m    234\u001b[0m inputs \u001b[38;5;241m=\u001b[39m \u001b[38;5;28mtuple\u001b[39m(x\u001b[38;5;241m.\u001b[39m_ndarray \u001b[38;5;28;01mif\u001b[39;00m \u001b[38;5;28misinstance\u001b[39m(x, RasterArray) \u001b[38;5;28;01melse\u001b[39;00m x \u001b[38;5;28;01mfor\u001b[39;00m x \u001b[38;5;129;01min\u001b[39;00m inputs)  \u001b[38;5;66;03m# noqa: SLF001\u001b[39;00m\n",
      "File \u001b[0;32m/mnt/share/code/collijk/miniconda/envs/cgf/lib/python3.12/site-packages/rasterra/_array.py:426\u001b[0m, in \u001b[0;36mRasterArray.no_data_mask\u001b[0;34m(self)\u001b[0m\n\u001b[1;32m    424\u001b[0m     \u001b[38;5;28;01mreturn\u001b[39;00m np\u001b[38;5;241m.\u001b[39mzeros_like(\u001b[38;5;28mself\u001b[39m\u001b[38;5;241m.\u001b[39m_ndarray, dtype\u001b[38;5;241m=\u001b[39m\u001b[38;5;28mbool\u001b[39m)\n\u001b[1;32m    425\u001b[0m \u001b[38;5;28;01melif\u001b[39;00m np\u001b[38;5;241m.\u001b[39misnan(\u001b[38;5;28mself\u001b[39m\u001b[38;5;241m.\u001b[39m_no_data_value):\n\u001b[0;32m--> 426\u001b[0m     \u001b[38;5;28;01mreturn\u001b[39;00m \u001b[43mnp\u001b[49m\u001b[38;5;241;43m.\u001b[39;49m\u001b[43misnan\u001b[49m\u001b[43m(\u001b[49m\u001b[38;5;28;43mself\u001b[39;49m\u001b[38;5;241;43m.\u001b[39;49m\u001b[43m_ndarray\u001b[49m\u001b[43m)\u001b[49m\n\u001b[1;32m    427\u001b[0m \u001b[38;5;28;01melif\u001b[39;00m np\u001b[38;5;241m.\u001b[39misinf(\u001b[38;5;28mself\u001b[39m\u001b[38;5;241m.\u001b[39m_no_data_value):\n\u001b[1;32m    428\u001b[0m     \u001b[38;5;28;01mreturn\u001b[39;00m np\u001b[38;5;241m.\u001b[39misinf(\u001b[38;5;28mself\u001b[39m\u001b[38;5;241m.\u001b[39m_ndarray)\n",
      "\u001b[0;31mKeyboardInterrupt\u001b[0m: "
     ]
    }
   ],
   "source": [
    "coefs = model.coefs['Estimate']\n",
    "ranefs = model.ranef\n",
    "\n",
    "partial_estimates = {}\n",
    "for predictor in spec.predictors:\n",
    "    print(predictor.name)\n",
    "    if predictor.name == 'ldi_pc_pd':\n",
    "        continue  # deal with after\n",
    "    elif predictor.name == 'intercept':\n",
    "        partial_estimates[predictor.name] = get_intercept_raster(\n",
    "            predictor, coefs, ranefs, fhs_shapes, raster_template,\n",
    "        )\n",
    "    else:\n",
    "        if predictor.random_effect:\n",
    "            msg = 'Random slopes not implemented'\n",
    "            raise NotImplementedError(msg)\n",
    "\n",
    "        if predictor.name == 'elevation':\n",
    "            v = cm_data.load_elevation()\n",
    "        else:\n",
    "            transform = predictor.transform\n",
    "            variable = (\n",
    "                transform.from_column\n",
    "                if hasattr(transform, 'from_column') else predictor.name\n",
    "            )\n",
    "            ds = cm_data.load_climate_raster(variable, cmip6_scenario, year)\n",
    "            v = utils.xarray_to_raster(ds, nodata=np.nan).resample_to(raster_template)\n",
    "\n",
    "        beta = coefs.loc[predictor.name]\n",
    "        partial_estimates[predictor.name] = rt.RasterArray(\n",
    "            beta * np.array(model.var_info[predictor.name]['transformer'](v)),\n",
    "            transform=v.transform,\n",
    "            crs=v.crs,\n",
    "            no_data_value=np.nan,\n",
    "        )\n",
    "\n",
    "assert spec.extra_terms == ['any_days_over_30C * ldi_pc_pd']\n",
    "\n",
    "beta_interaction = (\n",
    "    coefs.loc['ldi_pc_pd:any_days_over_30C'] / coefs.loc['any_days_over_30C']\n",
    ")\n",
    "beta_ldi = (\n",
    "    beta_interaction * partial_estimates['any_days_over_30C']\n",
    "    + coefs.loc['ldi_pc_pd']\n",
    ").to_numpy()\n",
    "z_partial = sum(partial_estimates.values())\n",
    "\n",
    "prevalence = 0\n",
    "for i in range(1, 11):\n",
    "    print(i)\n",
    "    ldi = cm_data.load_ldi(year, f\"{i / 10.:.1f}\")\n",
    "    \n",
    "    z_ldi = rt.RasterArray(\n",
    "        beta_ldi * np.array(model.var_info['ldi_pc_pd']['transformer'](ldi)),\n",
    "        transform=ldi.transform,\n",
    "        crs=ldi.crs,\n",
    "        no_data_value=np.nan,\n",
    "    )\n",
    "    prevalence += 0.1 * 1 / (1 + np.exp(-(z_partial + z_ldi)))\n",
    "\n",
    "return prevalence.astype(np.float32)"
   ]
  },
  {
   "cell_type": "code",
   "execution_count": 13,
   "id": "6e036420-431a-493e-b2cc-dfdfed8f1b17",
   "metadata": {
    "execution": {
     "iopub.execute_input": "2024-07-02T22:06:44.021396Z",
     "iopub.status.busy": "2024-07-02T22:06:44.020827Z",
     "iopub.status.idle": "2024-07-02T22:06:44.029692Z",
     "shell.execute_reply": "2024-07-02T22:06:44.028538Z",
     "shell.execute_reply.started": "2024-07-02T22:06:44.021348Z"
    }
   },
   "outputs": [
    {
     "data": {
      "text/plain": [
       "RasterArray\n",
       "===========\n",
       "dimensions    : 36000, 18000 (x, y)\n",
       "resolution    : 0.01, -0.01 (x, y)\n",
       "extent        : -180.0, 180.0, -90.0, 90.0 (xmin, xmax, ymin, ymax)\n",
       "crs           : EPSG:4326\n",
       "no_data_value : nan\n",
       "size          : 4943.85 MB\n",
       "dtype         : float64"
      ]
     },
     "execution_count": 13,
     "metadata": {},
     "output_type": "execute_result"
    }
   ],
   "source": [
    "beta_ldi"
   ]
  },
  {
   "cell_type": "code",
   "execution_count": null,
   "id": "bffd66f3-000b-46c5-8a3b-ca4f76dd5002",
   "metadata": {},
   "outputs": [],
   "source": []
  }
 ],
 "metadata": {
  "kernelspec": {
   "display_name": "Python 3 (ipykernel)",
   "language": "python",
   "name": "python3"
  },
  "language_info": {
   "codemirror_mode": {
    "name": "ipython",
    "version": 3
   },
   "file_extension": ".py",
   "mimetype": "text/x-python",
   "name": "python",
   "nbconvert_exporter": "python",
   "pygments_lexer": "ipython3",
   "version": "3.12.4"
  }
 },
 "nbformat": 4,
 "nbformat_minor": 5
}
